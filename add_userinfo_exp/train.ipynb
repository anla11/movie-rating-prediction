{
 "cells": [
  {
   "cell_type": "code",
   "execution_count": 1,
   "metadata": {
    "collapsed": true
   },
   "outputs": [],
   "source": [
    "import numpy as np\n",
    "import pandas as pd\n",
    "import torch\n",
    "import torch.nn as nn\n",
    "import torch.nn.functional as functional\n",
    "from torch.autograd import Variable\n",
    "import matplotlib.pyplot as plt\n",
    "import importlib"
   ]
  },
  {
   "cell_type": "markdown",
   "metadata": {},
   "source": [
    "# Modify here"
   ]
  },
  {
   "cell_type": "code",
   "execution_count": 2,
   "metadata": {
    "collapsed": true
   },
   "outputs": [],
   "source": [
    "config_path = 'model.v0_5'\n",
    "x_train_filename = '../data/input_formated/v0_5/x_train.csv'\n",
    "y_train_filename = '../data/input_formated/v0_5/y_train.csv'\n",
    "model_save = 'model/v0_5/checkpoint'\n",
    "\n",
    "learning_rate = 0.3\n",
    "num_epochs = 1000\n",
    "check_point = 100"
   ]
  },
  {
   "cell_type": "markdown",
   "metadata": {},
   "source": [
    "# Read data and config file"
   ]
  },
  {
   "cell_type": "code",
   "execution_count": 3,
   "metadata": {
    "collapsed": true
   },
   "outputs": [],
   "source": [
    "model_config, loss_lib = None, None"
   ]
  },
  {
   "cell_type": "code",
   "execution_count": 4,
   "metadata": {},
   "outputs": [],
   "source": [
    "loss_lib = importlib.import_module('%s.loss_func' %config_path)"
   ]
  },
  {
   "cell_type": "code",
   "execution_count": 5,
   "metadata": {},
   "outputs": [],
   "source": [
    "model_config = importlib.import_module('%s.model_config'% config_path)\n"
   ]
  },
  {
   "cell_type": "code",
   "execution_count": 6,
   "metadata": {},
   "outputs": [],
   "source": [
    "x_train = pd.read_csv(x_train_filename).iloc[:, 1:]\n",
    "y_train = pd.read_csv(y_train_filename).iloc[:, 1:]\n",
    "x_train = np.array(x_train, dtype = np.float32)\n",
    "y_train = np.array(y_train, dtype = np.float32)"
   ]
  },
  {
   "cell_type": "code",
   "execution_count": 7,
   "metadata": {
    "collapsed": true
   },
   "outputs": [],
   "source": [
    "def train(x_data, y_data, learning_rate, num_epochs, check_point = 100):\n",
    "    n = int(0.8 * len(x_data))\n",
    "    x_train, y_train = x_data[:n,:], y_data[:n, :]\n",
    "    x_val, y_val = x_data[n:, :], y_data[n:, :]\n",
    "    \n",
    "    model, optimizer = model_config.init(x_train.shape[1], y_train.shape[1], learning_rate)\n",
    "    train_loss_list, val_loss_list = [], []\n",
    "\n",
    "    #early stopping\n",
    "    patience = model_config.max_patience\n",
    "    best_val = None\n",
    "    \n",
    "    # Train the Model \n",
    "    for epoch in range(num_epochs):\n",
    "        # Convert numpy array to torch Variable\n",
    "        inputs = Variable(torch.from_numpy(x_train))\n",
    "        targets = Variable(torch.from_numpy(y_train), requires_grad = False)\n",
    "\n",
    "        # Forward + Backward + Optimize\n",
    "        optimizer.zero_grad()  \n",
    "        outputs = model(inputs)\n",
    "        \n",
    "        train_loss = loss_lib.loss_fnc(outputs, targets).sum()\n",
    "        train_loss_list.append(train_loss.data[0])\n",
    "        \n",
    "        #validate\n",
    "        inputs = Variable(torch.from_numpy(x_val))\n",
    "        targets = Variable(torch.from_numpy(y_val))\n",
    "        outputs = model(inputs)   \n",
    "        val_loss = loss_lib.loss_fnc(outputs, targets).sum().data[0]\n",
    "        val_loss_list.append(val_loss)\n",
    "        \n",
    "        #optimize\n",
    "        train_loss.backward()\n",
    "        optimizer.step()\n",
    "        \n",
    "        if (epoch == 0) or ((epoch+1) % check_point == 0) or (epoch == num_epochs-1):\n",
    "            print ('Epoch [%d/%d], Training Loss: %.4f, Validating Loss: %.4f' \n",
    "                   %(epoch+1, num_epochs, train_loss.data[0], val_loss))\n",
    "            torch.save(model, '%s_%s.pth' % (model_save, epoch+1))\n",
    "\n",
    "        if (best_val is None) or ((best_val is not None) and (val_loss < best_val)) :\n",
    "            best_val = val_loss\n",
    "            patience = model_config.max_patience\n",
    "        else:\n",
    "            patience -= 1\n",
    "        if patience == 0:\n",
    "            print 'Early stopping at %d' % epoch\n",
    "            break\n",
    "        \n",
    "\n",
    "    # Plot the graph\n",
    "    print 'Plot graph from epoch 10th'\n",
    "    plt.plot(range(len(train_loss_list))[10:], train_loss_list[10:], label='train')\n",
    "    plt.plot(range(len(train_loss_list))[10:], val_loss_list[10:], label = 'validate')\n",
    "    plt.legend()\n",
    "    plt.show()\n",
    "    return model"
   ]
  },
  {
   "cell_type": "code",
   "execution_count": 8,
   "metadata": {},
   "outputs": [
    {
     "name": "stdout",
     "output_type": "stream",
     "text": [
      "Epoch [1/1000], Training Loss: 7.0282, Validating Loss: 6.9011\n",
      "Epoch [100/1000], Training Loss: 0.2506, Validating Loss: 0.2557\n",
      "Epoch [200/1000], Training Loss: 0.2461, Validating Loss: 0.2503\n",
      "Epoch [300/1000], Training Loss: 0.2455, Validating Loss: 0.2497\n",
      "Epoch [400/1000], Training Loss: 0.2454, Validating Loss: 0.2496\n",
      "Epoch [500/1000], Training Loss: 0.2454, Validating Loss: 0.2495\n",
      "Epoch [600/1000], Training Loss: 0.2454, Validating Loss: 0.2495\n",
      "Epoch [700/1000], Training Loss: 0.2454, Validating Loss: 0.2495\n",
      "Epoch [800/1000], Training Loss: 0.2454, Validating Loss: 0.2495\n",
      "Epoch [900/1000], Training Loss: 0.2454, Validating Loss: 0.2495\n",
      "Epoch [1000/1000], Training Loss: 0.2454, Validating Loss: 0.2495\n",
      "Plot graph from epoch 10th\n"
     ]
    },
    {
     "data": {
      "image/png": "[encoded data removed]",
      "text/plain": [
       "<matplotlib.figure.Figure at 0x7fb33ba4cf10>"
      ]
     },
     "metadata": {},
     "output_type": "display_data"
    }
   ],
   "source": [
    "model = train(x_train, y_train, learning_rate = learning_rate, num_epochs =num_epochs, check_point=check_point)"
   ]
  }
 ],
 "metadata": {
  "kernelspec": {
   "display_name": "Python 2",
   "language": "python",
   "name": "python2"
  },
  "language_info": {
   "codemirror_mode": {
    "name": "ipython",
    "version": 2
   },
   "file_extension": ".py",
   "mimetype": "text/x-python",
   "name": "python",
   "nbconvert_exporter": "python",
   "pygments_lexer": "ipython2",
   "version": "2.7.13"
  }
 },
 "nbformat": 4,
 "nbformat_minor": 2
}
