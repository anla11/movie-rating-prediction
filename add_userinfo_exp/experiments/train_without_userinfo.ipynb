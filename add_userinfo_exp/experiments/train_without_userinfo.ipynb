{
 "cells": [
  {
   "cell_type": "code",
   "execution_count": 1,
   "metadata": {
    "collapsed": true
   },
   "outputs": [],
   "source": [
    "import numpy as np\n",
    "import torch\n",
    "import pandas as pd\n",
    "import matplotlib.pyplot as plt"
   ]
  },
  {
   "cell_type": "code",
   "execution_count": 2,
   "metadata": {
    "collapsed": true
   },
   "outputs": [],
   "source": [
    "import torch.nn as nn\n",
    "import torch.nn.functional as functional\n",
    "from torch.autograd import Variable"
   ]
  },
  {
   "cell_type": "markdown",
   "metadata": {},
   "source": [
    "# Read data"
   ]
  },
  {
   "cell_type": "code",
   "execution_count": 59,
   "metadata": {
    "collapsed": true
   },
   "outputs": [],
   "source": [
    "x_train = pd.read_csv('../../data/input_formated/nouser/x_train.csv').iloc[:, 1:]\n",
    "y_train = pd.read_csv('../../data/input_formated/nouser/y_train.csv').iloc[:, 1:]"
   ]
  },
  {
   "cell_type": "code",
   "execution_count": 58,
   "metadata": {
    "collapsed": true
   },
   "outputs": [],
   "source": [
    "x_test = pd.read_csv('../../data/input_formated/nouser/x_test.csv').iloc[:, 1:]\n",
    "y_test = pd.read_csv('../../data/input_formated/nouser/y_test.csv').iloc[:, 1:]"
   ]
  },
  {
   "cell_type": "code",
   "execution_count": 66,
   "metadata": {},
   "outputs": [],
   "source": [
    "x_data = np.array(x_train.iloc[:, 2:], dtype = np.float32)\n",
    "y_data = np.array(y_train.iloc[:, 1], dtype=np.float32).reshape((-1, 1))"
   ]
  },
  {
   "cell_type": "code",
   "execution_count": 65,
   "metadata": {
    "collapsed": true
   },
   "outputs": [],
   "source": [
    "x_testdata = np.array(x_test.iloc[:, 2:], dtype = np.float32)\n",
    "y_testdata = np.array(y_test.iloc[:, 1], dtype=np.float32).reshape((-1, 1))"
   ]
  },
  {
   "cell_type": "markdown",
   "metadata": {},
   "source": [
    "# ANN"
   ]
  },
  {
   "cell_type": "code",
   "execution_count": 43,
   "metadata": {
    "collapsed": true
   },
   "outputs": [],
   "source": [
    "def rmse(y, y_hat):\n",
    "    \"\"\"Compute root mean squared error\"\"\"\n",
    "    return torch.sqrt(torch.mean((y - y_hat).pow(2)))"
   ]
  },
  {
   "cell_type": "code",
   "execution_count": 74,
   "metadata": {
    "collapsed": true
   },
   "outputs": [],
   "source": [
    "class ANN_1input(nn.Module):\n",
    "    def __init__(self, input_0_size, hidden_size, output_size):\n",
    "        super(ANN_1input, self).__init__()\n",
    "        self.fc0 = nn.Linear(input_0_size, hidden_size) \n",
    "        self.activate0 = nn.Sigmoid()\n",
    "        self.fc = nn.Linear(hidden_size, output_size)\n",
    "        self.bn = nn.BatchNorm1d(output_size, output_size)\n",
    "        self.activate = nn.Sigmoid()\n",
    "        \n",
    "        \n",
    "    def forward(self, x):\n",
    "        h = self.activate0(self.fc0(x))\n",
    "        return self.activate(self.bn(self.fc(h)))"
   ]
  },
  {
   "cell_type": "code",
   "execution_count": 44,
   "metadata": {
    "collapsed": true
   },
   "outputs": [],
   "source": [
    "# Neural Network Model (1 hidden layer)\n",
    "class ANN_1hidden(nn.Module):\n",
    "    def __init__(self, input_size, hidden_size, output_size):\n",
    "        super(ANN_1hidden, self).__init__()\n",
    "        self.fc1 = nn.Linear(input_size, hidden_size) \n",
    "        self.activate = nn.Sigmoid()\n",
    "        self.fc2 = nn.Linear(hidden_size, output_size)\n",
    "    \n",
    "    def forward(self, x):\n",
    "        out = self.fc1(x)\n",
    "        out = self.activate(out)\n",
    "        out = self.fc2(out)\n",
    "        return out"
   ]
  },
  {
   "cell_type": "code",
   "execution_count": 72,
   "metadata": {
    "collapsed": true
   },
   "outputs": [],
   "source": [
    "def train(x_data, y_data, learning_rate, num_epochs, check_point, model_save= None):\n",
    "\tn = int(0.8 * len(x_data))\n",
    "\tx_train, y_train = x_data[:n,:], y_data[:n, :]\n",
    "\tx_val, y_val = x_data[n:, :], y_data[n:, :]\n",
    "\t\n",
    "\tmodel = ANN_1input(x_train.shape[1], 10, y_train.shape[1])\n",
    "    \n",
    "\t# Loss and Optimizer\n",
    "\tcriterion = nn.MSELoss()\n",
    "\toptimizer = torch.optim.Adam(model.parameters(), lr=learning_rate)  \n",
    "\ttrain_loss_list, val_loss_list = [], []\n",
    "\n",
    "\t#early stopping\n",
    "\tmax_patience = 100\n",
    "\tpatience = max_patience\n",
    "\tbest_val = None\n",
    "\t\n",
    "\t# Train the Model \n",
    "\tfor epoch in range(num_epochs):\n",
    "\t\t# Convert numpy array to torch Variable\n",
    "\t\tinputs = Variable(torch.from_numpy(x_train))\n",
    "\t\ttargets = Variable(torch.from_numpy(y_train), requires_grad = False)\n",
    "\n",
    "\t\t# Forward + Backward + Optimize\n",
    "\t\toptimizer.zero_grad()  \n",
    "\t\toutputs = model(inputs)\n",
    "\t\t\n",
    "\t\ttrain_loss = criterion(outputs, targets)\n",
    "\t\ttrain_loss_list.append(train_loss.data[0])\n",
    "\t\t\n",
    "\t\t#validate\n",
    "\t\tinputs = Variable(torch.from_numpy(x_val))\n",
    "\t\ttargets = Variable(torch.from_numpy(y_val), requires_grad = False)\n",
    "\t\toutputs = model(inputs)   \n",
    "\t\tval_loss = criterion(outputs, targets)\n",
    "\t\tval_loss_list.append(val_loss.data[0])\n",
    "\t\t\n",
    "\t\t#optimize\n",
    "\t\ttrain_loss.backward()\n",
    "\t\toptimizer.step()\n",
    "\t\t\n",
    "\t\tif (epoch == 0) or ((epoch+1) % check_point == 0) or (epoch == num_epochs-1):\n",
    "\t\t\tprint ('Epoch [%d/%d], Training Loss: %.4f, Validating Loss: %.4f' \n",
    "\t\t\t\t   %(epoch+1, num_epochs, train_loss.data[0], val_loss.data[0]))\n",
    "\t\t\tif model_save is not None:\n",
    "\t\t\t\ttorch.save(model, '%s/%d.pth' % (model_save, epoch+1))\n",
    "\n",
    "\t\tif (best_val is None) or ((best_val is not None) and (val_loss < best_val)) :\n",
    "\t\t\tbest_val = val_loss\n",
    "\t\t\tpatience = max_patience\n",
    "\t\telse:\n",
    "\t\t\tpatience -= 1\n",
    "\t\tif patience == 0:\n",
    "\t\t\tprint 'Early stopping at %d' % epoch\n",
    "\t\t\tbreak\n",
    "\t\t\n",
    "\n",
    "\t# Plot the graph\n",
    "\tprint 'Plot graph from epoch 10th'\n",
    "\tplt.plot(range(len(train_loss_list))[10:], train_loss_list[10:], label='train')\n",
    "\tplt.plot(range(len(train_loss_list))[10:], val_loss_list[10:], label = 'validate')\n",
    "\tplt.legend()\n",
    "\tplt.show()\n",
    "\treturn model"
   ]
  },
  {
   "cell_type": "code",
   "execution_count": 67,
   "metadata": {},
   "outputs": [
    {
     "name": "stdout",
     "output_type": "stream",
     "text": [
      "Epoch [1/500], Training Loss: 1.2617, Validating Loss: 1.2595\n",
      "Epoch [100/500], Training Loss: 0.0486, Validating Loss: 0.0486\n",
      "Epoch [200/500], Training Loss: 0.0482, Validating Loss: 0.0481\n",
      "Epoch [300/500], Training Loss: 0.0481, Validating Loss: 0.0480\n",
      "Epoch [400/500], Training Loss: 0.0481, Validating Loss: 0.0480\n",
      "Epoch [500/500], Training Loss: 0.0481, Validating Loss: 0.0480\n",
      "Plot graph from epoch 10th\n"
     ]
    },
    {
     "data": {
      "image/png": "[encoded data removed]",
      "text/plain": [
       "<matplotlib.figure.Figure at 0x7f201d051b90>"
      ]
     },
     "metadata": {},
     "output_type": "display_data"
    }
   ],
   "source": [
    "model = train(x_data, y_data, learning_rate = 0.01, num_epochs= 500, check_point = 100)"
   ]
  },
  {
   "cell_type": "code",
   "execution_count": 69,
   "metadata": {},
   "outputs": [
    {
     "name": "stdout",
     "output_type": "stream",
     "text": [
      "Variable containing:\n",
      " 1.0963\n",
      "[torch.FloatTensor of size 1]\n",
      "\n"
     ]
    }
   ],
   "source": [
    "inputs = Variable(torch.from_numpy(x_data))\n",
    "targets = Variable(torch.from_numpy(y_data[:, 0] * 5), requires_grad = False)\n",
    "outputs = Variable(model(inputs).data[:,0] * 5)\n",
    "print rmse(outputs, targets).sum()"
   ]
  },
  {
   "cell_type": "code",
   "execution_count": 88,
   "metadata": {},
   "outputs": [
    {
     "name": "stdout",
     "output_type": "stream",
     "text": [
      "Variable containing:\n",
      " 1.0783\n",
      "[torch.FloatTensor of size 1]\n",
      "\n"
     ]
    }
   ],
   "source": [
    "inputs = Variable(torch.from_numpy(x_testdata))\n",
    "targets = Variable(torch.from_numpy(y_testdata[:, 0] * 5), requires_grad = False)\n",
    "outputs = Variable(model(inputs).data[:,0] * 5)\n",
    "print rmse(outputs, targets).sum()"
   ]
  },
  {
   "cell_type": "code",
   "execution_count": 75,
   "metadata": {},
   "outputs": [
    {
     "name": "stdout",
     "output_type": "stream",
     "text": [
      "Epoch [1/500], Training Loss: 0.0970, Validating Loss: 0.0966\n",
      "Epoch [100/500], Training Loss: 0.0500, Validating Loss: 0.0498\n",
      "Epoch [200/500], Training Loss: 0.0475, Validating Loss: 0.0475\n",
      "Epoch [300/500], Training Loss: 0.0469, Validating Loss: 0.0468\n",
      "Epoch [400/500], Training Loss: 0.0466, Validating Loss: 0.0465\n",
      "Epoch [500/500], Training Loss: 0.0464, Validating Loss: 0.0464\n",
      "Plot graph from epoch 10th\n"
     ]
    },
    {
     "data": {
      "image/png": "[encoded data removed]",
      "text/plain": [
       "<matplotlib.figure.Figure at 0x7f201cffc110>"
      ]
     },
     "metadata": {},
     "output_type": "display_data"
    }
   ],
   "source": [
    "model = train(x_data, y_data, learning_rate = 0.01, num_epochs= 500, check_point = 100)"
   ]
  },
  {
   "cell_type": "markdown",
   "metadata": {
    "collapsed": true
   },
   "source": [
    "## Test"
   ]
  },
  {
   "cell_type": "code",
   "execution_count": 83,
   "metadata": {
    "collapsed": true
   },
   "outputs": [],
   "source": [
    "def test(x, y):\n",
    "    inputs = Variable(torch.from_numpy(np.array(x, dtype = np.float32)))\n",
    "    outputs = model(inputs).data[:,0]\n",
    "    tmp = y\n",
    "    tmp['output'] = outputs\n",
    "    target = np.array(tmp.groupby('movie_id')['rating'].mean().reset_index(), dtype = np.float32)[:, 1].reshape((-1, 1))\n",
    "    output = np.array(tmp.groupby(['movie_id'])['output'].mean().reset_index(), dtype = np.float32)[: ,1].reshape((-1,1))\n",
    "    return np.mean(np.sqrt((target - output) * (target - output)))"
   ]
  },
  {
   "cell_type": "code",
   "execution_count": 86,
   "metadata": {},
   "outputs": [
    {
     "data": {
      "text/plain": [
       "0.10472051"
      ]
     },
     "execution_count": 86,
     "metadata": {},
     "output_type": "execute_result"
    }
   ],
   "source": [
    "test(x_train.iloc[:, 2:], y_train)"
   ]
  },
  {
   "cell_type": "code",
   "execution_count": 87,
   "metadata": {},
   "outputs": [
    {
     "data": {
      "text/plain": [
       "0.10865084"
      ]
     },
     "execution_count": 87,
     "metadata": {},
     "output_type": "execute_result"
    }
   ],
   "source": [
    "test(x_test.iloc[:, 2:], y_test)"
   ]
  }
 ],
 "metadata": {
  "kernelspec": {
   "display_name": "Python 2",
   "language": "python",
   "name": "python2"
  },
  "language_info": {
   "codemirror_mode": {
    "name": "ipython",
    "version": 2
   },
   "file_extension": ".py",
   "mimetype": "text/x-python",
   "name": "python",
   "nbconvert_exporter": "python",
   "pygments_lexer": "ipython2",
   "version": "2.7.13"
  }
 },
 "nbformat": 4,
 "nbformat_minor": 2
}
