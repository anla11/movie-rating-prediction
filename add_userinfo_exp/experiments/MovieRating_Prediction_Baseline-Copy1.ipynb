{
 "cells": [
  {
   "cell_type": "code",
   "execution_count": 1,
   "metadata": {},
   "outputs": [
    {
     "name": "stdout",
     "output_type": "stream",
     "text": [
      "0.1.12\n"
     ]
    }
   ],
   "source": [
    "import torch\n",
    "print torch.__version__\n",
    "import numpy as np"
   ]
  },
  {
   "cell_type": "code",
   "execution_count": 2,
   "metadata": {
    "collapsed": true
   },
   "outputs": [],
   "source": [
    "import torch.nn as nn\n",
    "import torch.nn.functional as functional\n",
    "from torch.autograd import Variable"
   ]
  },
  {
   "cell_type": "code",
   "execution_count": 3,
   "metadata": {
    "collapsed": true
   },
   "outputs": [],
   "source": [
    "import matplotlib.pyplot as plt\n",
    "import pandas as pd\n",
    "%matplotlib inline"
   ]
  },
  {
   "cell_type": "markdown",
   "metadata": {},
   "source": [
    "### Read data"
   ]
  },
  {
   "cell_type": "code",
   "execution_count": 4,
   "metadata": {
    "collapsed": true
   },
   "outputs": [],
   "source": [
    "x_train = np.array(pd.read_csv('../../data/input_formated/v0/x_train.csv').iloc[:, 1:],dtype = np.float32)\n",
    "y_train = np.array(pd.read_csv('../../data/input_formated/v0/y_train.csv').iloc[:, 1:],dtype = np.float32).reshape((-1, 1))\n",
    "x_test = np.array(pd.read_csv('../../data/input_formated/v0/x_test.csv').iloc[:, 1:],dtype = np.float32)\n",
    "y_test = np.array(pd.read_csv('../../data/input_formated/v0/y_test.csv').iloc[:, 1:],dtype = np.float32).reshape((-1, 1))"
   ]
  },
  {
   "cell_type": "markdown",
   "metadata": {},
   "source": [
    "### Model"
   ]
  },
  {
   "cell_type": "code",
   "execution_count": 5,
   "metadata": {
    "collapsed": true
   },
   "outputs": [],
   "source": [
    "class LinearRegression(nn.Module):\n",
    "    def __init__(self, input_size, output_size):\n",
    "        super(LinearRegression, self).__init__()\n",
    "        self.linear = nn.Linear(input_size, output_size)\n",
    "    \n",
    "    def forward(self, x):\n",
    "        return self.linear(x)"
   ]
  },
  {
   "cell_type": "markdown",
   "metadata": {},
   "source": [
    "### Train"
   ]
  },
  {
   "cell_type": "markdown",
   "metadata": {},
   "source": [
    "### ANN"
   ]
  },
  {
   "cell_type": "code",
   "execution_count": 6,
   "metadata": {},
   "outputs": [],
   "source": [
    "# Neural Network Model (1 hidden layer)\n",
    "class ANN_1hidden(nn.Module):\n",
    "    def __init__(self, input_size, hidden_size, output_size):\n",
    "        super(ANN_1hidden, self).__init__()\n",
    "        self.fc1 = nn.Linear(input_size, hidden_size) \n",
    "        self.activate = nn.ReLU()\n",
    "        self.bn = nn.BatchNorm1d(hidden_size, hidden_size)        \n",
    "        self.fc2 = nn.Linear(hidden_size, output_size)\n",
    "        self.bn2 = nn.BatchNorm1d(output_size, output_size)\n",
    "\n",
    "    def forward(self, x):\n",
    "        out = self.fc1(x)\n",
    "        out = self.bn(self.activate(out))\n",
    "        out = self.fc2(out)\n",
    "        return self.bn2(out)"
   ]
  },
  {
   "cell_type": "code",
   "execution_count": 7,
   "metadata": {
    "collapsed": true
   },
   "outputs": [],
   "source": [
    "def train(x_data, y_data, learning_rate, num_epochs, check_point, model_save = None):\n",
    "\tn = int(0.8 * len(x_data))\n",
    "\tx_train, y_train = x_data[:n,:], y_data[:n, :]\n",
    "\tx_val, y_val = x_data[n:, :], y_data[n:, :]\n",
    "\t\n",
    "\tmodel = ANN_1hidden(x_train.shape[1], 10, y_train.shape[1])\n",
    "\tcriterion = nn.MSELoss()\n",
    "\toptimizer = torch.optim.Adam(model.parameters(), lr=learning_rate)\n",
    "\ttrain_loss_list, val_loss_list = [], []\n",
    "\n",
    "\t#early stopping\n",
    "\tmax_patience = 100\n",
    "\tpatience = max_patience\n",
    "\tbest_val = None\n",
    "\t\n",
    "\t# Train the Model \n",
    "\tfor epoch in range(num_epochs):\n",
    "\t\t# Convert numpy array to torch Variable\n",
    "\t\tinputs = Variable(torch.from_numpy(x_train))\n",
    "\t\ttargets = Variable(torch.from_numpy(y_train), requires_grad = False)\n",
    "\n",
    "\t\t# Forward + Backward + Optimize\n",
    "\t\toptimizer.zero_grad()  \n",
    "\t\toutputs = model(inputs)\n",
    "\t\t\n",
    "\t\ttrain_loss = criterion(outputs, targets).sum()\n",
    "\t\ttrain_loss_list.append(train_loss.data[0])\n",
    "\t\t\n",
    "\t\t#validate\n",
    "\t\tinputs = Variable(torch.from_numpy(x_val))\n",
    "\t\ttargets = Variable(torch.from_numpy(y_val), requires_grad = False)\n",
    "\t\toutputs = model(inputs)   \n",
    "\t\tval_loss = criterion(outputs, targets).sum().data[0]\n",
    "\t\tval_loss_list.append(val_loss)\n",
    "\t\t\n",
    "\t\t#optimize\n",
    "\t\ttrain_loss.backward()\n",
    "\t\toptimizer.step()\n",
    "\t\t\n",
    "\t\tif (epoch == 0) or ((epoch+1) % check_point == 0) or (epoch == num_epochs-1):\n",
    "\t\t\tprint ('Epoch [%d/%d], Training Loss: %.4f, Validating Loss: %.4f' \n",
    "\t\t\t\t   %(epoch+1, num_epochs, train_loss.data[0], val_loss))\n",
    "\t\t\tif model_save is not None:            \n",
    "\t\t\t\ttorch.save(model, '%s/%d.pth' % (model_save, epoch+1))\n",
    "\n",
    "\t\tif (best_val is None) or ((best_val is not None) and (val_loss < best_val)) :\n",
    "\t\t\tbest_val = val_loss\n",
    "\t\t\tpatience =max_patience\n",
    "\t\telse:\n",
    "\t\t\tpatience -= 1\n",
    "\t\tif patience == 0:\n",
    "\t\t\tprint 'Early stopping at %d' % epoch\n",
    "\t\t\tbreak\n",
    "\t\t\n",
    "\n",
    "\t# Plot the graph\n",
    "\tprint 'Plot graph from epoch 10th'\n",
    "\tplt.plot(range(len(train_loss_list))[10:], train_loss_list[10:], label='train')\n",
    "\tplt.plot(range(len(train_loss_list))[10:], val_loss_list[10:], label = 'validate')\n",
    "\tplt.legend()\n",
    "\tplt.show()\n",
    "\treturn model"
   ]
  },
  {
   "cell_type": "code",
   "execution_count": 8,
   "metadata": {},
   "outputs": [
    {
     "name": "stdout",
     "output_type": "stream",
     "text": [
      "Epoch [1/1000], Training Loss: 10.9802, Validating Loss: 10.8748\n",
      "Epoch [100/1000], Training Loss: 5.7197, Validating Loss: 5.6382\n",
      "Epoch [200/1000], Training Loss: 2.7359, Validating Loss: 2.6989\n",
      "Epoch [300/1000], Training Loss: 1.2681, Validating Loss: 1.2695\n",
      "Epoch [400/1000], Training Loss: 0.6539, Validating Loss: 0.6761\n",
      "Epoch [500/1000], Training Loss: 0.4385, Validating Loss: 0.4750\n",
      "Epoch [600/1000], Training Loss: 0.3751, Validating Loss: 0.4187\n",
      "Epoch [700/1000], Training Loss: 0.3596, Validating Loss: 0.4079\n",
      "Epoch [800/1000], Training Loss: 0.3562, Validating Loss: 0.4105\n",
      "Early stopping at 806\n",
      "Plot graph from epoch 10th\n"
     ]
    },
    {
     "data": {
      "image/png": "[encoded data removed]",
      "text/plain": [
       "<matplotlib.figure.Figure at 0x7fb8a0b44e50>"
      ]
     },
     "metadata": {},
     "output_type": "display_data"
    }
   ],
   "source": [
    "model = train(x_train, y_train, learning_rate = 0.01, num_epochs= 1000, check_point = 100)"
   ]
  },
  {
   "cell_type": "markdown",
   "metadata": {},
   "source": [
    "# Test"
   ]
  },
  {
   "cell_type": "code",
   "execution_count": 9,
   "metadata": {
    "collapsed": true
   },
   "outputs": [],
   "source": [
    "def rmse(y, y_hat):\n",
    "    \"\"\"Compute root mean squared error\"\"\"\n",
    "    return torch.sqrt(torch.mean((y - y_hat).pow(2)))"
   ]
  },
  {
   "cell_type": "code",
   "execution_count": 10,
   "metadata": {},
   "outputs": [
    {
     "data": {
      "text/plain": [
       "ANN_1hidden (\n",
       "  (fc1): Linear (18 -> 10)\n",
       "  (activate): ReLU ()\n",
       "  (bn): BatchNorm1d(10, eps=10, momentum=0.1, affine=True)\n",
       "  (fc2): Linear (10 -> 1)\n",
       "  (bn2): BatchNorm1d(1, eps=1, momentum=0.1, affine=True)\n",
       ")"
      ]
     },
     "execution_count": 10,
     "metadata": {},
     "output_type": "execute_result"
    }
   ],
   "source": [
    "model"
   ]
  },
  {
   "cell_type": "code",
   "execution_count": 11,
   "metadata": {},
   "outputs": [
    {
     "name": "stdout",
     "output_type": "stream",
     "text": [
      "(316, 18)\n"
     ]
    },
    {
     "data": {
      "text/plain": [
       "Variable containing:\n",
       " 0.6376\n",
       "[torch.FloatTensor of size 1]"
      ]
     },
     "execution_count": 11,
     "metadata": {},
     "output_type": "execute_result"
    }
   ],
   "source": [
    "x_test = np.array(pd.read_csv('../../data/input_formated/v0/x_test.csv').iloc[:, 1:], dtype=np.float32)\n",
    "y_test = np.array(pd.read_csv('../../data/input_formated/v0/y_test.csv').iloc[:, 1:], dtype=np.float32)\n",
    "print x_test.shape\n",
    "inputs = Variable(torch.from_numpy(x_test))\n",
    "predict = model(Variable(torch.from_numpy(x_test)))\n",
    "targets = Variable(torch.from_numpy(np.array(y_test, dtype=np.float32)))\n",
    "rmse(predict, targets).sum()"
   ]
  },
  {
   "cell_type": "code",
   "execution_count": 12,
   "metadata": {},
   "outputs": [
    {
     "data": {
      "text/plain": [
       "Variable containing:\n",
       " 2.5334\n",
       "[torch.FloatTensor of size 1]"
      ]
     },
     "execution_count": 12,
     "metadata": {},
     "output_type": "execute_result"
    }
   ],
   "source": [
    "x_test = np.loadtxt('../../data/input_formated/nouser/x_test.csv')\n",
    "y_test = np.loadtxt('../../data/input_formated/nouser/y_test.csv')\n",
    "x_test = np.array(x_test, dtype = np.float32)\n",
    "y_test = np.array(y_test, dtype = np.float32)\n",
    "inputs = Variable(torch.from_numpy(x_test))\n",
    "predict = model(Variable(torch.from_numpy(x_test)))\n",
    "targets = Variable(torch.from_numpy(np.array(y_test, dtype=np.float32)))\n",
    "rmse(predict, targets).sum()"
   ]
  }
 ],
 "metadata": {
  "kernelspec": {
   "display_name": "Python 2",
   "language": "python",
   "name": "python2"
  },
  "language_info": {
   "codemirror_mode": {
    "name": "ipython",
    "version": 2
   },
   "file_extension": ".py",
   "mimetype": "text/x-python",
   "name": "python",
   "nbconvert_exporter": "python",
   "pygments_lexer": "ipython2",
   "version": "2.7.13"
  }
 },
 "nbformat": 4,
 "nbformat_minor": 2
}
