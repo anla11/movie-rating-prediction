{
 "cells": [
  {
   "cell_type": "code",
   "execution_count": 1,
   "metadata": {
    "collapsed": true
   },
   "outputs": [],
   "source": [
    "import numpy as np\n",
    "import torch\n",
    "import pandas as pd\n",
    "import matplotlib.pyplot as plt"
   ]
  },
  {
   "cell_type": "code",
   "execution_count": 2,
   "metadata": {
    "collapsed": true
   },
   "outputs": [],
   "source": [
    "import torch.nn as nn\n",
    "import torch.nn.functional as functional\n",
    "from torch.autograd import Variable"
   ]
  },
  {
   "cell_type": "markdown",
   "metadata": {},
   "source": [
    "# Read data"
   ]
  },
  {
   "cell_type": "code",
   "execution_count": 16,
   "metadata": {
    "collapsed": true
   },
   "outputs": [],
   "source": [
    "x_item_train = pd.read_csv('../../data/input_formated/withuser_2/x_item_train.csv').iloc[:, 1:]\n",
    "x_user_train = pd.read_csv('../../data/input_formated/withuser_2/x_user_train.csv').iloc[:, 1:]\n",
    "y_train = pd.read_csv('../../data/input_formated/withuser_2/y_train.csv').iloc[:, 1:]\n"
   ]
  },
  {
   "cell_type": "code",
   "execution_count": 7,
   "metadata": {
    "collapsed": true
   },
   "outputs": [],
   "source": [
    "x_item_test = pd.read_csv('../../data/input_formated/withuser_2/x_item_test.csv').iloc[:, 1:]\n",
    "x_user_test = pd.read_csv('../../data/input_formated/withuser_2/x_user_test.csv').iloc[:, 1:]\n",
    "y_test = pd.read_csv('../../data/input_formated/withuser_2/y_test.csv').iloc[:, 1:]\n"
   ]
  },
  {
   "cell_type": "code",
   "execution_count": 17,
   "metadata": {
    "collapsed": true
   },
   "outputs": [],
   "source": [
    "x_0_data = np.array(x_item_train.iloc[:, 2:], dtype = np.float32)\n",
    "x_1_data = np.array(x_user_train.iloc[:, 2:], dtype = np.float32)\n",
    "y_data = np.array(y_train.iloc[:, 2:], dtype=np.float32)"
   ]
  },
  {
   "cell_type": "code",
   "execution_count": 26,
   "metadata": {
    "collapsed": true
   },
   "outputs": [],
   "source": [
    "x_0_testdata = np.array(x_item_test.iloc[:, 2:], dtype = np.float32)\n",
    "x_1_testdata = np.array(x_user_test.iloc[:, 2:], dtype = np.float32)\n",
    "y_testdata = np.array(y_test.iloc[:, 2:], dtype=np.float32)"
   ]
  },
  {
   "cell_type": "markdown",
   "metadata": {},
   "source": [
    "# ANN"
   ]
  },
  {
   "cell_type": "code",
   "execution_count": 23,
   "metadata": {
    "collapsed": true
   },
   "outputs": [],
   "source": [
    "def mse_loss_vector(a, b):\n",
    "    return torch.abs((a - b) * (a-b)).mean(dim = 0)"
   ]
  },
  {
   "cell_type": "code",
   "execution_count": 22,
   "metadata": {
    "collapsed": true
   },
   "outputs": [],
   "source": [
    "def rmse(y, y_hat):\n",
    "    \"\"\"Compute root mean squared error\"\"\"\n",
    "    return torch.sqrt(torch.mean((y - y_hat).pow(2)))"
   ]
  },
  {
   "cell_type": "code",
   "execution_count": 40,
   "metadata": {
    "collapsed": true
   },
   "outputs": [],
   "source": [
    "class ANN_2input(nn.Module):\n",
    "    def __init__(self, input_0_size, input_1_size, hidden_size, output_size):\n",
    "        super(ANN_2input, self).__init__()\n",
    "        self.fc0 = nn.Linear(input_0_size, hidden_size) \n",
    "        self.fc1 = nn.Linear(input_1_size, hidden_size)  \n",
    "        self.activate0 = nn.Sigmoid()\n",
    "        self.activate1 = nn.Sigmoid()\n",
    "        self.fc_merge0 = nn.Linear(hidden_size, hidden_size)\n",
    "        self.fc_merge1 = nn.Linear(hidden_size, hidden_size)\n",
    "        self.bn_merge = nn.BatchNorm1d(hidden_size,hidden_size)\n",
    "        self.activate_merge = nn.Sigmoid()\n",
    "        self.fc = nn.Linear(hidden_size, output_size)\n",
    "        self.bn = nn.BatchNorm1d(output_size, output_size)\n",
    "        self.activate = nn.Sigmoid()\n",
    "        \n",
    "        \n",
    "    def forward(self, x_0, x_1):\n",
    "        h_0 = self.activate0(self.fc0(x_0))\n",
    "        h_1 = self.activate1(self.fc1(x_1))\n",
    "        h = self.activate_merge(self.bn_merge(self.fc_merge0(h_0) + self.fc_merge1(h_1)))\n",
    "        return self.activate(self.bn(self.fc(h)))"
   ]
  },
  {
   "cell_type": "code",
   "execution_count": 38,
   "metadata": {
    "collapsed": true
   },
   "outputs": [],
   "source": [
    "def train(x_0, x_1, y, learning_rate, num_epochs, hidden_size, check_point = 100):\n",
    "    n = int(0.8 * len(y))\n",
    "    x_0_train = np.array(x_0[:n, :], dtype = np.float32)\n",
    "    x_0_val = np.array(x_0[n:, :], dtype = np.float32)\n",
    "    x_1_train = np.array(x_1[:n, :], dtype = np.float32)\n",
    "    x_1_val = np.array(x_1[n:, :], dtype = np.float32)\n",
    "    \n",
    "    y_train = np.array(y[:n, :], dtype = np.float32)\n",
    "    y_val = np.array(y[n:, :], dtype = np.float32)\n",
    "\n",
    "    model = ANN_2input(x_0_train.shape[1], x_1_train.shape[1], hidden_size, y_train.shape[1])\n",
    "\n",
    "    # Loss and Optimizer\n",
    "    optimizer = torch.optim.Adam(model.parameters(), lr=learning_rate)  \n",
    "    train_loss_list, val_loss_list = [], []\n",
    "\n",
    "    #early stopping\n",
    "    max_patience = 100\n",
    "    patience = 0\n",
    "    best_val = None\n",
    "    \n",
    "    # Train the Model \n",
    "    for epoch in range(num_epochs):\n",
    "        # Convert numpy array to torch Variable\n",
    "        inputs_0 = Variable(torch.from_numpy(x_0_train))\n",
    "        inputs_1 = Variable(torch.from_numpy(x_1_train))\n",
    "        targets = Variable(torch.from_numpy(y_train), requires_grad = False)\n",
    "\n",
    "        # Forward + Backward + Optimize\n",
    "        optimizer.zero_grad()  \n",
    "        outputs = model(inputs_0, inputs_1)\n",
    "        train_loss = mse_loss_vector(outputs, targets).sum()\n",
    "        \n",
    "        train_loss_list.append(train_loss.data[0])\n",
    "\n",
    "        #validate\n",
    "        inputs_0 = Variable(torch.from_numpy(x_0_val))\n",
    "        inputs_1 = Variable(torch.from_numpy(x_1_val))\n",
    "        targets = Variable(torch.from_numpy(y_val), requires_grad = False)\n",
    "        outputs = model(inputs_0,inputs_1)   \n",
    "        val_loss = mse_loss_vector(outputs, targets).sum()\n",
    "        val_loss_list.append(val_loss.data[0])\n",
    "        \n",
    "\n",
    "        train_loss.backward()\n",
    "        optimizer.step()\n",
    "\n",
    "        if (epoch == 0) or ((epoch+1) % check_point == 0):\n",
    "            print ('Epoch [%d/%d], Loss: %.4f, %.4f' \n",
    "                   %(epoch+1, num_epochs, train_loss.data[0], val_loss.data[0]))\n",
    "        if (best_val is None) or ((best_val is not None) and (val_loss < best_val)) :\n",
    "            best_val = val_loss\n",
    "            patience = max_patience\n",
    "        else:\n",
    "            patience -= 1\n",
    "        if patience == 0:\n",
    "            print 'Early stopping at %d' % epoch\n",
    "            break            \n",
    "\n",
    "    #Plot the graph\n",
    "    plt.plot(range(len(val_loss_list)), train_loss_list, label='train')\n",
    "    plt.plot(range(len(val_loss_list)), val_loss_list, label ='validate')\n",
    "    \n",
    "    plt.legend()\n",
    "    plt.show()\n",
    "    \n",
    "    return model"
   ]
  },
  {
   "cell_type": "code",
   "execution_count": 24,
   "metadata": {},
   "outputs": [
    {
     "name": "stdout",
     "output_type": "stream",
     "text": [
      "Epoch [1/500], Loss: 0.1066, 0.1067\n",
      "Epoch [100/500], Loss: 0.0581, 0.0583\n",
      "Epoch [200/500], Loss: 0.0579, 0.0580\n",
      "Epoch [300/500], Loss: 0.0578, 0.0580\n",
      "Epoch [400/500], Loss: 0.0578, 0.0580\n",
      "Epoch [500/500], Loss: 0.0578, 0.0580\n"
     ]
    },
    {
     "data": {
      "image/png": "[encoded data removed]",
      "text/plain": [
       "<matplotlib.figure.Figure at 0x7fcb64656490>"
      ]
     },
     "metadata": {},
     "output_type": "display_data"
    }
   ],
   "source": [
    "model = train(x_0_data, x_1_data, y_data, learning_rate = 0.01, num_epochs= 500, check_point = 100)"
   ]
  },
  {
   "cell_type": "code",
   "execution_count": 25,
   "metadata": {},
   "outputs": [
    {
     "name": "stdout",
     "output_type": "stream",
     "text": [
      "Variable containing:\n",
      " 1.0942\n",
      "[torch.FloatTensor of size 1]\n",
      "\n"
     ]
    }
   ],
   "source": [
    "inputs_0 = Variable(torch.from_numpy(x_0_data))\n",
    "inputs_1 = Variable(torch.from_numpy(x_1_data))\n",
    "targets = Variable(torch.from_numpy(y_data[:, 0] * 5), requires_grad = False)\n",
    "outputs = Variable(model(inputs_0, inputs_1).data[:,0] * 5)\n",
    "print rmse(outputs, targets).sum()"
   ]
  },
  {
   "cell_type": "code",
   "execution_count": 34,
   "metadata": {},
   "outputs": [
    {
     "name": "stdout",
     "output_type": "stream",
     "text": [
      "Epoch [1/500], Loss: 1.0880, 1.0887\n",
      "Epoch [100/500], Loss: 0.0570, 0.0572\n",
      "Epoch [200/500], Loss: 0.0569, 0.0571\n",
      "Epoch [300/500], Loss: 0.0569, 0.0570\n",
      "Epoch [400/500], Loss: 0.0568, 0.0570\n",
      "Epoch [500/500], Loss: 0.0568, 0.0570\n"
     ]
    },
    {
     "data": {
      "image/png": "[encoded data removed]",
      "text/plain": [
       "<matplotlib.figure.Figure at 0x7fcb684860d0>"
      ]
     },
     "metadata": {},
     "output_type": "display_data"
    }
   ],
   "source": [
    "model = train(x_0_data, x_1_data, y_data, learning_rate = 0.1, num_epochs= 500, check_point = 100)"
   ]
  },
  {
   "cell_type": "code",
   "execution_count": 33,
   "metadata": {},
   "outputs": [
    {
     "name": "stdout",
     "output_type": "stream",
     "text": [
      "Variable containing:\n",
      " 1.0884\n",
      "[torch.FloatTensor of size 1]\n",
      "\n"
     ]
    }
   ],
   "source": [
    "inputs_0 = Variable(torch.from_numpy(x_0_data))\n",
    "inputs_1 = Variable(torch.from_numpy(x_1_data))\n",
    "targets = Variable(torch.from_numpy(y_data[:, 0] * 5), requires_grad = False)\n",
    "outputs = Variable(model(inputs_0, inputs_1).data[:,0] * 5)\n",
    "print rmse(outputs, targets).sum()"
   ]
  },
  {
   "cell_type": "code",
   "execution_count": 35,
   "metadata": {},
   "outputs": [
    {
     "name": "stdout",
     "output_type": "stream",
     "text": [
      "Variable containing:\n",
      " 1.0878\n",
      "[torch.FloatTensor of size 1]\n",
      "\n"
     ]
    }
   ],
   "source": [
    "inputs_0 = Variable(torch.from_numpy(x_0_data))\n",
    "inputs_1 = Variable(torch.from_numpy(x_1_data))\n",
    "targets = Variable(torch.from_numpy(y_data[:, 0] * 5), requires_grad = False)\n",
    "outputs = Variable(model(inputs_0, inputs_1).data[:,0] * 5)\n",
    "print rmse(outputs, targets).sum()"
   ]
  },
  {
   "cell_type": "code",
   "execution_count": 41,
   "metadata": {},
   "outputs": [
    {
     "name": "stdout",
     "output_type": "stream",
     "text": [
      "Epoch [1/500], Loss: 0.1556, 0.1555\n",
      "Epoch [100/500], Loss: 0.0551, 0.0553\n",
      "Epoch [200/500], Loss: 0.0542, 0.0544\n",
      "Epoch [300/500], Loss: 0.0538, 0.0540\n",
      "Epoch [400/500], Loss: 0.0536, 0.0539\n",
      "Epoch [500/500], Loss: 0.0537, 0.0539\n"
     ]
    },
    {
     "data": {
      "image/png": "[encoded data removed]",
      "text/plain": [
       "<matplotlib.figure.Figure at 0x7fcb6845bfd0>"
      ]
     },
     "metadata": {},
     "output_type": "display_data"
    }
   ],
   "source": [
    "model = train(x_0_data, x_1_data, y_data, learning_rate = 0.1, hidden_size = 10, num_epochs= 500, check_point = 100)"
   ]
  },
  {
   "cell_type": "code",
   "execution_count": 42,
   "metadata": {},
   "outputs": [
    {
     "name": "stdout",
     "output_type": "stream",
     "text": [
      "Variable containing:\n",
      " 1.0675\n",
      "[torch.FloatTensor of size 1]\n",
      "\n"
     ]
    }
   ],
   "source": [
    "inputs_0 = Variable(torch.from_numpy(x_0_data))\n",
    "inputs_1 = Variable(torch.from_numpy(x_1_data))\n",
    "targets = Variable(torch.from_numpy(y_data[:, 0] * 5), requires_grad = False)\n",
    "outputs = Variable(model(inputs_0, inputs_1).data[:,0] * 5)\n",
    "print rmse(outputs, targets).sum()"
   ]
  },
  {
   "cell_type": "code",
   "execution_count": 43,
   "metadata": {},
   "outputs": [
    {
     "name": "stdout",
     "output_type": "stream",
     "text": [
      "Epoch [1/5000], Loss: 0.1556, 0.1555\n",
      "Epoch [500/5000], Loss: 0.0535, 0.0537\n",
      "Epoch [1000/5000], Loss: 0.0532, 0.0535\n",
      "Epoch [1500/5000], Loss: 0.0532, 0.0534\n",
      "Epoch [2000/5000], Loss: 0.0531, 0.0534\n",
      "Epoch [2500/5000], Loss: 0.0531, 0.0534\n",
      "Epoch [3000/5000], Loss: 0.0531, 0.0534\n",
      "Epoch [3500/5000], Loss: 0.0531, 0.0534\n",
      "Epoch [4000/5000], Loss: 0.0531, 0.0534\n",
      "Epoch [4500/5000], Loss: 0.0531, 0.0534\n",
      "Epoch [5000/5000], Loss: 0.0531, 0.0534\n"
     ]
    },
    {
     "data": {
      "image/png": "[encoded data removed]",
      "text/plain": [
       "<matplotlib.figure.Figure at 0x7fcb68486ed0>"
      ]
     },
     "metadata": {},
     "output_type": "display_data"
    }
   ],
   "source": [
    "model = train(x_0_data, x_1_data, y_data, learning_rate = 0.1, hidden_size = 10, num_epochs= 5000, check_point = 500)"
   ]
  },
  {
   "cell_type": "code",
   "execution_count": 44,
   "metadata": {},
   "outputs": [
    {
     "name": "stdout",
     "output_type": "stream",
     "text": [
      "Variable containing:\n",
      " 1.0640\n",
      "[torch.FloatTensor of size 1]\n",
      "\n"
     ]
    }
   ],
   "source": [
    "inputs_0 = Variable(torch.from_numpy(x_0_data))\n",
    "inputs_1 = Variable(torch.from_numpy(x_1_data))\n",
    "targets = Variable(torch.from_numpy(y_data[:, 0] * 5), requires_grad = False)\n",
    "outputs = Variable(model(inputs_0, inputs_1).data[:,0] * 5)\n",
    "print rmse(outputs, targets).sum()"
   ]
  },
  {
   "cell_type": "code",
   "execution_count": 115,
   "metadata": {},
   "outputs": [
    {
     "name": "stdout",
     "output_type": "stream",
     "text": [
      "Variable containing:\n",
      " 1.0650\n",
      "[torch.FloatTensor of size 1]\n",
      "\n"
     ]
    }
   ],
   "source": [
    "inputs_0 = Variable(torch.from_numpy(x_0_testdata))\n",
    "inputs_1 = Variable(torch.from_numpy(x_1_testdata))\n",
    "targets = Variable(torch.from_numpy(y_testdata[:, 0] * 5), requires_grad = False)\n",
    "outputs = Variable(model(inputs_0, inputs_1).data[:,0] * 5)\n",
    "print rmse(outputs, targets).sum()"
   ]
  },
  {
   "cell_type": "code",
   "execution_count": 116,
   "metadata": {},
   "outputs": [
    {
     "name": "stderr",
     "output_type": "stream",
     "text": [
      "/home/anla/Apps/anaconda2/lib/python2.7/site-packages/torch/serialization.py:147: UserWarning: Couldn't retrieve source code for container of type ANN_2input. It won't be checked for correctness upon loading.\n",
      "  \"type \" + obj.__name__ + \". It won't be checked \"\n"
     ]
    }
   ],
   "source": [
    "torch.save(model, 'train_withuser.pth')"
   ]
  },
  {
   "cell_type": "markdown",
   "metadata": {},
   "source": [
    "# Test"
   ]
  },
  {
   "cell_type": "code",
   "execution_count": 112,
   "metadata": {
    "collapsed": true
   },
   "outputs": [],
   "source": [
    "def test(x_0, x_1, y):\n",
    "    inputs_0 = Variable(torch.from_numpy(np.array(x_0, dtype = np.float32)))\n",
    "    inputs_1 = Variable(torch.from_numpy(np.array(x_1, dtype = np.float32)))\n",
    "    outputs = model(inputs_0, inputs_1).data[:,0]\n",
    "    tmp = y\n",
    "    tmp['output'] = outputs\n",
    "    target = np.array(tmp.groupby('movie_id')['mean_rate'].mean().reset_index(), dtype = np.float32)[:, 1].reshape((-1, 1))\n",
    "    output = np.array(tmp.groupby(['movie_id'])['output'].mean().reset_index(), dtype = np.float32)[: ,1].reshape((-1,1))\n",
    "    return np.mean(np.sqrt((target - output) * (target - output)))"
   ]
  },
  {
   "cell_type": "code",
   "execution_count": 113,
   "metadata": {
    "scrolled": true
   },
   "outputs": [
    {
     "data": {
      "text/plain": [
       "0.097943306"
      ]
     },
     "execution_count": 113,
     "metadata": {},
     "output_type": "execute_result"
    }
   ],
   "source": [
    "test(x_item_train.iloc[:, 2:], x_user_train.iloc[:, 2:], y_train)"
   ]
  },
  {
   "cell_type": "code",
   "execution_count": 114,
   "metadata": {},
   "outputs": [
    {
     "data": {
      "text/plain": [
       "0.092553891"
      ]
     },
     "execution_count": 114,
     "metadata": {},
     "output_type": "execute_result"
    }
   ],
   "source": [
    "test(x_item_test.iloc[:, 2:], x_user_test.iloc[:, 2:], y_test)"
   ]
  }
 ],
 "metadata": {
  "kernelspec": {
   "display_name": "Python 2",
   "language": "python",
   "name": "python2"
  },
  "language_info": {
   "codemirror_mode": {
    "name": "ipython",
    "version": 2
   },
   "file_extension": ".py",
   "mimetype": "text/x-python",
   "name": "python",
   "nbconvert_exporter": "python",
   "pygments_lexer": "ipython2",
   "version": "2.7.13"
  }
 },
 "nbformat": 4,
 "nbformat_minor": 2
}
