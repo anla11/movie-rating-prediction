{
 "cells": [
  {
   "cell_type": "code",
   "execution_count": 1,
   "metadata": {
    "collapsed": true
   },
   "outputs": [],
   "source": [
    "import numpy as np\n",
    "import torch\n",
    "import pandas as pd\n",
    "import matplotlib.pyplot as plt"
   ]
  },
  {
   "cell_type": "code",
   "execution_count": 2,
   "metadata": {
    "collapsed": true
   },
   "outputs": [],
   "source": [
    "import torch.nn as nn\n",
    "import torch.nn.functional as functional\n",
    "from torch.autograd import Variable"
   ]
  },
  {
   "cell_type": "markdown",
   "metadata": {},
   "source": [
    "# Read data"
   ]
  },
  {
   "cell_type": "code",
   "execution_count": 3,
   "metadata": {
    "collapsed": true
   },
   "outputs": [],
   "source": [
    "x_item_train = pd.read_csv('../../../data/input_formated/final/x_item_train.csv').iloc[:, 1:]\n",
    "y_train = pd.read_csv('../../../data/input_formated/final/y_train.csv').iloc[:, 1:]"
   ]
  },
  {
   "cell_type": "code",
   "execution_count": 4,
   "metadata": {
    "collapsed": true
   },
   "outputs": [],
   "source": [
    "x_item_val = pd.read_csv('../../../data/input_formated/final/x_item_val.csv').iloc[:, 1:]\n",
    "y_val_df = pd.read_csv('../../../data/input_formated/final/y_val.csv').iloc[:, 1:]\n",
    "y_val = y_val_df"
   ]
  },
  {
   "cell_type": "code",
   "execution_count": 5,
   "metadata": {
    "collapsed": true
   },
   "outputs": [],
   "source": [
    "item_features = [u'category_Action', u'category_Adventure',\n",
    "       u'category_Animation', u'category_Children\\'s', u'category_Comedy',\n",
    "       u'category_Crime', u'category_Documentary', u'category_Drama',\n",
    "       u'category_Fantasy', u'category_Film-Noir', u'category_Horror',\n",
    "       u'category_Musical', u'category_Mystery', u'category_Romance',\n",
    "       u'category_Sci-Fi', u'category_Thriller', u'category_War',\n",
    "       u'category_Western']\n",
    "\n",
    "target_features = ['rating']"
   ]
  },
  {
   "cell_type": "code",
   "execution_count": 6,
   "metadata": {
    "collapsed": true
   },
   "outputs": [],
   "source": [
    "x_train = np.array(x_item_train[item_features], dtype = np.float32)\n",
    "y_train = np.array(y_train[target_features], dtype=np.float32).reshape((-1, 1))"
   ]
  },
  {
   "cell_type": "code",
   "execution_count": 7,
   "metadata": {
    "collapsed": true
   },
   "outputs": [],
   "source": [
    "x_val = np.array(x_item_val[item_features], dtype = np.float32)\n",
    "y_val = np.array(y_val[target_features], dtype=np.float32).reshape((-1, 1))"
   ]
  },
  {
   "cell_type": "markdown",
   "metadata": {},
   "source": [
    "# ANN"
   ]
  },
  {
   "cell_type": "code",
   "execution_count": 8,
   "metadata": {
    "collapsed": true
   },
   "outputs": [],
   "source": [
    "def rmse(y, y_hat):\n",
    "    \"\"\"Compute root mean squared error\"\"\"\n",
    "    return torch.sqrt(torch.mean((y - y_hat).pow(2)))"
   ]
  },
  {
   "cell_type": "code",
   "execution_count": 9,
   "metadata": {
    "collapsed": true
   },
   "outputs": [],
   "source": [
    "def val_error(model):\n",
    "    inputs = Variable(torch.from_numpy(np.array(x_val, dtype = np.float32)))\n",
    "    outputs = model(inputs).data[:,0]\n",
    "    tmp = y_val_df\n",
    "    tmp['output'] = outputs\n",
    "    target = np.array(tmp.groupby('movie_id')['mean_rate'].mean().reset_index() * 5, dtype = np.float32)[:, 1].reshape((-1, 1))\n",
    "    output = np.array(tmp.groupby(['movie_id'])['output'].mean().reset_index() * 5, dtype = np.float32)[: ,1].reshape((-1,1))\n",
    "    return np.sqrt(np.mean((target - output) * (target - output)))"
   ]
  },
  {
   "cell_type": "code",
   "execution_count": 10,
   "metadata": {
    "collapsed": true
   },
   "outputs": [],
   "source": [
    "class ANN_1input(nn.Module):\n",
    "    def __init__(self, input_0_size, hidden_size, output_size):\n",
    "        super(ANN_1input, self).__init__()\n",
    "        self.fc0 = nn.Linear(input_0_size, hidden_size) \n",
    "        self.activate0 = nn.Sigmoid()\n",
    "        self.fc = nn.Linear(hidden_size, output_size)\n",
    "        self.bn = nn.BatchNorm1d(output_size, output_size)\n",
    "        self.activate = nn.Sigmoid()\n",
    "        \n",
    "        \n",
    "    def forward(self, x):\n",
    "        h = self.activate0(self.fc0(x))\n",
    "        return self.activate(self.bn(self.fc(h)))"
   ]
  },
  {
   "cell_type": "code",
   "execution_count": 11,
   "metadata": {
    "collapsed": true
   },
   "outputs": [],
   "source": [
    "def val_error(model):\n",
    "    inputs_0 = Variable(torch.from_numpy(np.array(x_val, dtype = np.float32)))\n",
    "    outputs = model(inputs_0).data[:,0]\n",
    "    tmp = y_val_df\n",
    "    tmp['output'] = outputs\n",
    "    target = np.array(tmp.groupby('movie_id')['mean_rate'].mean().reset_index() * 5, dtype = np.float32)[:, 1].reshape((-1, 1))\n",
    "    output = np.array(tmp.groupby(['movie_id'])['output'].mean().reset_index() * 5, dtype = np.float32)[: ,1].reshape((-1,1))\n",
    "    return np.sqrt(np.mean((target - output) * (target - output)))"
   ]
  },
  {
   "cell_type": "code",
   "execution_count": 12,
   "metadata": {
    "collapsed": true
   },
   "outputs": [],
   "source": [
    "def train(x_train, y_train, x_val, y_val, hidden_size, learning_rate, num_epochs, check_point, old_epochs=0, model_save= None, model = None, max_patience = 200):\n",
    "\tif model is None:\n",
    "\t\tmodel = ANN_1input(x_train.shape[1], hidden_size, y_train.shape[1])\n",
    "    \n",
    "\t# Loss and Optimizer\n",
    "\tcriterion = nn.MSELoss()\n",
    "\toptimizer = torch.optim.Adam(model.parameters(), lr=learning_rate)  \n",
    "\ttrain_loss_list, val_loss_list = [], []\n",
    "\n",
    "\t#early stopping\n",
    "\tpatience = max_patience\n",
    "\tbest_val = None\n",
    "\tnum_epochs += old_epochs\n",
    "\t# Train the Model \n",
    "\tfor epoch in range(old_epochs, num_epochs):\n",
    "\t\t# Convert numpy array to torch Variable\n",
    "\t\tinputs = Variable(torch.from_numpy(x_train))\n",
    "\t\ttargets = Variable(torch.from_numpy(y_train), requires_grad = False)\n",
    "\n",
    "\t\t# Forward + Backward + Optimize\n",
    "\t\toptimizer.zero_grad()  \n",
    "\t\toutputs = model(inputs)\n",
    "\t\t\n",
    "\t\ttrain_loss = criterion(outputs, targets)\n",
    "\t\ttrain_loss_list.append(train_loss.data[0])\n",
    "\t\t\n",
    "\t\t#validate\n",
    "\t\tinputs = Variable(torch.from_numpy(x_val))\n",
    "\t\ttargets = Variable(torch.from_numpy(y_val), requires_grad = False)\n",
    "\t\toutputs = model(inputs)   \n",
    "\t\tval_loss = criterion(outputs, targets)\n",
    "\t\tval_loss_list.append(val_loss.data[0])\n",
    "\t\tval_err = val_error(model)\n",
    "\t\t#optimize\n",
    "\t\ttrain_loss.backward()\n",
    "\t\toptimizer.step()\n",
    "\t\t\n",
    "\t\tif (epoch == 0) or ((epoch+1) % check_point == 0) or (epoch == num_epochs-1):\n",
    "\t\t\tprint ('Epoch [%d/%d], Training Loss: %.4f, Validating Loss: %.4f, Val Error: %.4f' \n",
    "\t\t\t\t   %(epoch+1, num_epochs, train_loss.data[0], val_loss.data[0], val_err))\n",
    "\t\t\tif model_save is not None:\n",
    "\t\t\t\ttorch.save(model, '%s_%d.pth' % (model_save, epoch+1))\n",
    "\n",
    "\t\tif (best_val is None) or ((best_val is not None) and (val_err < best_val)) :\n",
    "\t\t\tbest_val = val_err\n",
    "\t\t\tpatience = max_patience\n",
    "\t\telse:\n",
    "\t\t\tpatience -= 1\n",
    "\t\tif patience == 0:\n",
    "\t\t\tprint 'Early stopping at %d' % epoch\n",
    "\t\t\tbreak\n",
    "\t\t\n",
    "\n",
    "\t# Plot the graph\n",
    "\tprint 'Plot graph from epoch 10th'\n",
    "\tplt.plot(range(len(train_loss_list))[10:], train_loss_list[10:], label='train')\n",
    "\tplt.plot(range(len(train_loss_list))[10:], val_loss_list[10:], label = 'validate')\n",
    "\tplt.legend()\n",
    "\tplt.show()\n",
    "\treturn model"
   ]
  },
  {
   "cell_type": "code",
   "execution_count": 13,
   "metadata": {},
   "outputs": [
    {
     "name": "stdout",
     "output_type": "stream",
     "text": [
      "Epoch [1/1000], Training Loss: 0.0971, Validating Loss: 0.0943, Val Error: 0.9962\n"
     ]
    },
    {
     "name": "stderr",
     "output_type": "stream",
     "text": [
      "/home/anla/Apps/anaconda2/lib/python2.7/site-packages/torch/serialization.py:147: UserWarning: Couldn't retrieve source code for container of type ANN_1input. It won't be checked for correctness upon loading.\n",
      "  \"type \" + obj.__name__ + \". It won't be checked \"\n"
     ]
    },
    {
     "name": "stdout",
     "output_type": "stream",
     "text": [
      "Epoch [10/1000], Training Loss: 0.0867, Validating Loss: 0.0837, Val Error: 0.8798\n",
      "Epoch [20/1000], Training Loss: 0.0775, Validating Loss: 0.0751, Val Error: 0.8103\n",
      "Epoch [30/1000], Training Loss: 0.0702, Validating Loss: 0.0682, Val Error: 0.7489\n",
      "Epoch [40/1000], Training Loss: 0.0644, Validating Loss: 0.0626, Val Error: 0.7007\n",
      "Epoch [50/1000], Training Loss: 0.0600, Validating Loss: 0.0583, Val Error: 0.6713\n",
      "Epoch [60/1000], Training Loss: 0.0567, Validating Loss: 0.0552, Val Error: 0.6559\n",
      "Epoch [70/1000], Training Loss: 0.0542, Validating Loss: 0.0529, Val Error: 0.6500\n",
      "Epoch [80/1000], Training Loss: 0.0524, Validating Loss: 0.0513, Val Error: 0.6520\n",
      "Epoch [90/1000], Training Loss: 0.0511, Validating Loss: 0.0501, Val Error: 0.6583\n",
      "Epoch [100/1000], Training Loss: 0.0502, Validating Loss: 0.0493, Val Error: 0.6672\n",
      "Epoch [110/1000], Training Loss: 0.0495, Validating Loss: 0.0488, Val Error: 0.6770\n",
      "Epoch [120/1000], Training Loss: 0.0490, Validating Loss: 0.0485, Val Error: 0.6869\n",
      "Epoch [130/1000], Training Loss: 0.0486, Validating Loss: 0.0483, Val Error: 0.6969\n",
      "Epoch [140/1000], Training Loss: 0.0482, Validating Loss: 0.0483, Val Error: 0.7068\n",
      "Epoch [150/1000], Training Loss: 0.0479, Validating Loss: 0.0483, Val Error: 0.7148\n",
      "Epoch [160/1000], Training Loss: 0.0477, Validating Loss: 0.0483, Val Error: 0.7210\n",
      "Epoch [170/1000], Training Loss: 0.0475, Validating Loss: 0.0483, Val Error: 0.7265\n",
      "Epoch [180/1000], Training Loss: 0.0474, Validating Loss: 0.0483, Val Error: 0.7310\n",
      "Epoch [190/1000], Training Loss: 0.0472, Validating Loss: 0.0483, Val Error: 0.7351\n",
      "Epoch [200/1000], Training Loss: 0.0469, Validating Loss: 0.0483, Val Error: 0.7402\n",
      "Epoch [210/1000], Training Loss: 0.0468, Validating Loss: 0.0485, Val Error: 0.7452\n",
      "Epoch [220/1000], Training Loss: 0.0466, Validating Loss: 0.0487, Val Error: 0.7505\n",
      "Epoch [230/1000], Training Loss: 0.0466, Validating Loss: 0.0489, Val Error: 0.7553\n",
      "Epoch [240/1000], Training Loss: 0.0465, Validating Loss: 0.0491, Val Error: 0.7589\n",
      "Epoch [250/1000], Training Loss: 0.0464, Validating Loss: 0.0493, Val Error: 0.7619\n",
      "Epoch [260/1000], Training Loss: 0.0464, Validating Loss: 0.0494, Val Error: 0.7641\n",
      "Epoch [270/1000], Training Loss: 0.0463, Validating Loss: 0.0495, Val Error: 0.7664\n",
      "Early stopping at 270\n",
      "Plot graph from epoch 10th\n"
     ]
    },
    {
     "data": {
      "image/png": "[encoded data removed]",
      "text/plain": [
       "<matplotlib.figure.Figure at 0x7fc89e81de50>"
      ]
     },
     "metadata": {},
     "output_type": "display_data"
    }
   ],
   "source": [
    "model_ex1 = train(x_train, y_train, x_val, y_val, hidden_size = 40, learning_rate = 0.01, num_epochs= 1000, check_point = 10, max_patience = 200, model_save = 'final_without-user/ex-1')"
   ]
  }
 ],
 "metadata": {
  "kernelspec": {
   "display_name": "Python 2",
   "language": "python",
   "name": "python2"
  },
  "language_info": {
   "codemirror_mode": {
    "name": "ipython",
    "version": 2
   },
   "file_extension": ".py",
   "mimetype": "text/x-python",
   "name": "python",
   "nbconvert_exporter": "python",
   "pygments_lexer": "ipython2",
   "version": "2.7.13"
  }
 },
 "nbformat": 4,
 "nbformat_minor": 2
}
