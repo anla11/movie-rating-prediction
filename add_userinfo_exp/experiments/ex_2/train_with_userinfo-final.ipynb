{
 "cells": [
  {
   "cell_type": "code",
   "execution_count": 1,
   "metadata": {
    "collapsed": true
   },
   "outputs": [],
   "source": [
    "import numpy as np\n",
    "import torch\n",
    "import pandas as pd\n",
    "import matplotlib.pyplot as plt"
   ]
  },
  {
   "cell_type": "code",
   "execution_count": 2,
   "metadata": {
    "collapsed": true
   },
   "outputs": [],
   "source": [
    "import torch.nn as nn\n",
    "import torch.nn.functional as functional\n",
    "from torch.autograd import Variable"
   ]
  },
  {
   "cell_type": "markdown",
   "metadata": {},
   "source": [
    "# Read data"
   ]
  },
  {
   "cell_type": "code",
   "execution_count": 3,
   "metadata": {
    "collapsed": true
   },
   "outputs": [],
   "source": [
    "x_item_train = pd.read_csv('../../../data/input_formated/final/x_item_train.csv').iloc[:, 1:]\n",
    "x_user_train = pd.read_csv('../../../data/input_formated/final/x_user_train.csv').iloc[:, 1:]\n",
    "y_train = pd.read_csv('../../../data/input_formated/final/y_train.csv').iloc[:, 1:]"
   ]
  },
  {
   "cell_type": "code",
   "execution_count": 4,
   "metadata": {
    "collapsed": true
   },
   "outputs": [],
   "source": [
    "x_item_val = pd.read_csv('../../../data/input_formated/final/x_item_val.csv').iloc[:, 1:]\n",
    "x_user_val = pd.read_csv('../../../data/input_formated/final/x_user_val.csv').iloc[:, 1:]\n",
    "y_val_df = pd.read_csv('../../../data/input_formated/final/y_val.csv').iloc[:, 1:]\n",
    "y_val = y_val_df"
   ]
  },
  {
   "cell_type": "code",
   "execution_count": 5,
   "metadata": {
    "collapsed": true,
    "scrolled": false
   },
   "outputs": [],
   "source": [
    "item_features = [u'category_Action', u'category_Adventure',\n",
    "       u'category_Animation', u'category_Children\\'s', u'category_Comedy',\n",
    "       u'category_Crime', u'category_Documentary', u'category_Drama',\n",
    "       u'category_Fantasy', u'category_Film-Noir', u'category_Horror',\n",
    "       u'category_Musical', u'category_Mystery', u'category_Romance',\n",
    "       u'category_Sci-Fi', u'category_Thriller', u'category_War',\n",
    "       u'category_Western']"
   ]
  },
  {
   "cell_type": "code",
   "execution_count": 6,
   "metadata": {
    "collapsed": true
   },
   "outputs": [],
   "source": [
    "user_features = [u'occupation_0', u'occupation_1',\n",
    "       u'occupation_2', u'occupation_3', u'occupation_4', u'occupation_5',\n",
    "       u'occupation_6', u'occupation_7', u'occupation_8', u'occupation_9',\n",
    "       u'occupation_10', u'occupation_11', u'occupation_12', u'occupation_13',\n",
    "       u'occupation_14', u'occupation_15', u'occupation_16', u'occupation_17',\n",
    "       u'occupation_18', u'occupation_19', u'occupation_20', u'age',\n",
    "       u'gender']"
   ]
  },
  {
   "cell_type": "code",
   "execution_count": 7,
   "metadata": {
    "collapsed": true
   },
   "outputs": [],
   "source": [
    "target_features = ['rating']"
   ]
  },
  {
   "cell_type": "code",
   "execution_count": 8,
   "metadata": {
    "collapsed": true
   },
   "outputs": [],
   "source": [
    "x_0_train = np.array(x_item_train[item_features], dtype = np.float32)\n",
    "x_1_train = np.array(x_user_train[user_features], dtype = np.float32)\n",
    "y_train = np.array(y_train[target_features], dtype=np.float32).reshape((-1, 1))"
   ]
  },
  {
   "cell_type": "code",
   "execution_count": 9,
   "metadata": {
    "collapsed": true
   },
   "outputs": [],
   "source": [
    "x_0_val = np.array(x_item_val[item_features], dtype = np.float32)\n",
    "x_1_val = np.array(x_user_val[user_features], dtype = np.float32)\n",
    "y_val = np.array(y_val[target_features], dtype=np.float32).reshape((-1, 1))"
   ]
  },
  {
   "cell_type": "code",
   "execution_count": 20,
   "metadata": {},
   "outputs": [
    {
     "data": {
      "text/plain": [
       "(143921, 18)"
      ]
     },
     "execution_count": 20,
     "metadata": {},
     "output_type": "execute_result"
    }
   ],
   "source": [
    "x_0_train.shape"
   ]
  },
  {
   "cell_type": "code",
   "execution_count": 21,
   "metadata": {},
   "outputs": [
    {
     "data": {
      "text/plain": [
       "(662577, 23)"
      ]
     },
     "execution_count": 21,
     "metadata": {},
     "output_type": "execute_result"
    }
   ],
   "source": [
    "x_1_train.shape"
   ]
  },
  {
   "cell_type": "markdown",
   "metadata": {},
   "source": [
    "# ANN"
   ]
  },
  {
   "cell_type": "code",
   "execution_count": 30,
   "metadata": {
    "collapsed": true
   },
   "outputs": [],
   "source": [
    "class ANN_2input(nn.Module):\n",
    "    def __init__(self, input_0_size, input_1_size, hidden_size, merge_size, output_size):\n",
    "        super(ANN_2input, self).__init__()\n",
    "        self.fc0 = nn.Linear(input_0_size, hidden_size) \n",
    "        self.fc1 = nn.Linear(input_1_size, hidden_size)  \n",
    "        self.activate0 = nn.Sigmoid()\n",
    "        self.activate1 = nn.Sigmoid()\n",
    "        self.fc_merge0 = nn.Linear(hidden_size, merge_size)\n",
    "        self.fc_merge1 = nn.Linear(hidden_size, merge_size)\n",
    "        self.bn_merge = nn.BatchNorm1d(merge_size, merge_size)\n",
    "        self.activate_merge = nn.Sigmoid()\n",
    "        self.fc = nn.Linear(merge_size, output_size)\n",
    "        self.bn = nn.BatchNorm1d(output_size, output_size)\n",
    "        self.activate = nn.Sigmoid()\n",
    "        \n",
    "        \n",
    "    def forward(self, x_0, x_1):\n",
    "        h_0 = self.activate0(self.fc0(x_0))\n",
    "        h_1 = self.activate1(self.fc1(x_1))\n",
    "        h = self.activate_merge(self.bn_merge(self.fc_merge0(h_0) + self.fc_merge1(h_1)))\n",
    "        return self.activate(self.bn(self.fc(h)))"
   ]
  },
  {
   "cell_type": "markdown",
   "metadata": {},
   "source": [
    "# Train"
   ]
  },
  {
   "cell_type": "code",
   "execution_count": 11,
   "metadata": {
    "collapsed": true
   },
   "outputs": [],
   "source": [
    "def mse_loss_vector(a, b):\n",
    "    return torch.abs((a - b) * (a-b)).mean(dim = 0)"
   ]
  },
  {
   "cell_type": "code",
   "execution_count": 12,
   "metadata": {
    "collapsed": true
   },
   "outputs": [],
   "source": [
    "def rmse(y, y_hat):\n",
    "    \"\"\"Compute root mean squared error\"\"\"\n",
    "    return torch.sqrt(torch.mean((y - y_hat).pow(2)))"
   ]
  },
  {
   "cell_type": "code",
   "execution_count": 13,
   "metadata": {
    "collapsed": true
   },
   "outputs": [],
   "source": [
    "def val_error(model):\n",
    "    inputs_0 = Variable(torch.from_numpy(np.array(x_0_val, dtype = np.float32)))\n",
    "    inputs_1 = Variable(torch.from_numpy(np.array(x_1_val, dtype = np.float32)))\n",
    "    outputs = model(inputs_0, inputs_1).data[:,0]\n",
    "    tmp = y_val_df\n",
    "    tmp['output'] = outputs\n",
    "    target = np.array(tmp.groupby('movie_id')['mean_rate'].mean().reset_index() * 5, dtype = np.float32)[:, 1].reshape((-1, 1))\n",
    "    output = np.array(tmp.groupby(['movie_id'])['output'].mean().reset_index() * 5, dtype = np.float32)[: ,1].reshape((-1,1))\n",
    "    return np.sqrt(np.mean((target - output) * (target - output)))"
   ]
  },
  {
   "cell_type": "code",
   "execution_count": 28,
   "metadata": {
    "collapsed": true
   },
   "outputs": [],
   "source": [
    "def train(x_0_train, x_1_train, y_train, x_0_val, x_1_val, y_val, learning_rate, num_epochs, old_epochs, hidden_size, check_point = 100, model = None, model_save = None, max_patience = 200):\n",
    "    merge_size = 10\n",
    "    if model is None:\n",
    "        model = ANN_2input(x_0_train.shape[1], x_1_train.shape[1],  hidden_size, merge_size, y_train.shape[1])\n",
    "    \n",
    "    # Loss and Optimizer\n",
    "    optimizer = torch.optim.Adam(model.parameters(), lr=learning_rate)  \n",
    "    train_loss_list, val_loss_list = [], []\n",
    "\n",
    "    #early stopping\n",
    "    patience = 0\n",
    "    best_val = None\n",
    "    model_best = None \n",
    "    \n",
    "    # Train the Model \n",
    "    for epoch in range(num_epochs):\n",
    "        # Convert numpy array to torch Variable\n",
    "        inputs_0 = Variable(torch.from_numpy(x_0_train))\n",
    "        inputs_1 = Variable(torch.from_numpy(x_1_train))\n",
    "        targets = Variable(torch.from_numpy(y_train), requires_grad = False)\n",
    "\n",
    "        # Forward + Backward + Optimize\n",
    "        optimizer.zero_grad()  \n",
    "        outputs = model(inputs_0, inputs_1)\n",
    "        train_loss = mse_loss_vector(outputs, targets).sum()\n",
    "        \n",
    "        train_loss_list.append(train_loss.data[0])\n",
    "\n",
    "        #validate\n",
    "        inputs_0 = Variable(torch.from_numpy(x_0_val))\n",
    "        inputs_1 = Variable(torch.from_numpy(x_1_val))\n",
    "        targets = Variable(torch.from_numpy(y_val), requires_grad = False)\n",
    "        outputs = model(inputs_0,inputs_1)   \n",
    "        val_loss = mse_loss_vector(outputs, targets).sum()\n",
    "        val_loss_list.append(val_loss.data[0])\n",
    "        val_err = val_error(model)\n",
    "\n",
    "        train_loss.backward()\n",
    "        optimizer.step()\n",
    "\n",
    "        if (epoch == 0) or ((epoch+1) % check_point == 0):\n",
    "            print ('Epoch [%d/%d], Loss: %.4f, %.4f, Val Error: %.4f' \n",
    "                   %(epoch+1+old_epochs, num_epochs + old_epochs, train_loss.data[0], val_loss.data[0], val_err))\n",
    "            if model_save is not None:\n",
    "                torch.save(model, '%s_%d.pth' % (model_save, epoch + 1 + old_epochs))\n",
    "        if (best_val is None) or ((best_val is not None) and (val_err < best_val)) :\n",
    "            best_val = val_err\n",
    "            patience = max_patience\n",
    "            model_best = model\n",
    "#             print 'Optimal: %d' % (epoch+1 + 5000)\n",
    "        else:\n",
    "            patience -= 1\n",
    "        if patience == 0:\n",
    "            print 'Early stopping at %d' % (epoch +1+ old_epochs)\n",
    "            break            \n",
    "\n",
    "    #Plot the graph\n",
    "    plt.plot(range(len(val_loss_list)), train_loss_list, label='train')\n",
    "    plt.plot(range(len(val_loss_list)), val_loss_list, label ='validate')\n",
    "    \n",
    "    plt.legend()\n",
    "    plt.show()\n",
    "    \n",
    "    return model_best"
   ]
  },
  {
   "cell_type": "code",
   "execution_count": 33,
   "metadata": {
    "scrolled": false
   },
   "outputs": [
    {
     "name": "stdout",
     "output_type": "stream",
     "text": [
      "Epoch [1/500], Loss: 0.0971, 0.0943, Val Error: 0.9979\n",
      "Epoch [10/500], Loss: 0.0923, 0.0896, Val Error: 0.9561\n",
      "Epoch [20/500], Loss: 0.0871, 0.0844, Val Error: 0.9073\n",
      "Epoch [30/500], Loss: 0.0821, 0.0794, Val Error: 0.8504\n",
      "Epoch [40/500], Loss: 0.0776, 0.0748, Val Error: 0.7957\n",
      "Epoch [50/500], Loss: 0.0737, 0.0711, Val Error: 0.7674\n",
      "Epoch [60/500], Loss: 0.0702, 0.0680, Val Error: 0.7441\n",
      "Epoch [70/500], Loss: 0.0672, 0.0652, Val Error: 0.7196\n",
      "Epoch [80/500], Loss: 0.0647, 0.0628, Val Error: 0.7003\n",
      "Epoch [90/500], Loss: 0.0624, 0.0606, Val Error: 0.6824\n",
      "Epoch [100/500], Loss: 0.0604, 0.0587, Val Error: 0.6690\n",
      "Epoch [110/500], Loss: 0.0586, 0.0570, Val Error: 0.6593\n",
      "Epoch [120/500], Loss: 0.0571, 0.0556, Val Error: 0.6522\n",
      "Epoch [130/500], Loss: 0.0558, 0.0544, Val Error: 0.6474\n",
      "Epoch [140/500], Loss: 0.0547, 0.0533, Val Error: 0.6446\n",
      "Epoch [150/500], Loss: 0.0537, 0.0524, Val Error: 0.6437\n",
      "Epoch [160/500], Loss: 0.0528, 0.0517, Val Error: 0.6442\n",
      "Epoch [170/500], Loss: 0.0521, 0.0510, Val Error: 0.6458\n",
      "Epoch [180/500], Loss: 0.0514, 0.0504, Val Error: 0.6483\n",
      "Epoch [190/500], Loss: 0.0508, 0.0500, Val Error: 0.6515\n",
      "Epoch [200/500], Loss: 0.0503, 0.0496, Val Error: 0.6552\n",
      "Epoch [210/500], Loss: 0.0499, 0.0492, Val Error: 0.6593\n"
     ]
    },
    {
     "ename": "KeyboardInterrupt",
     "evalue": "",
     "output_type": "error",
     "traceback": [
      "\u001b[0;31m---------------------------------------------------------------------------\u001b[0m",
      "\u001b[0;31mKeyboardInterrupt\u001b[0m                         Traceback (most recent call last)",
      "\u001b[0;32m<ipython-input-33-5bc3faea3cdb>\u001b[0m in \u001b[0;36m<module>\u001b[0;34m()\u001b[0m\n\u001b[0;32m----> 1\u001b[0;31m \u001b[0mmodel_ex1\u001b[0m \u001b[0;34m=\u001b[0m \u001b[0mtrain\u001b[0m\u001b[0;34m(\u001b[0m\u001b[0mx_0_train\u001b[0m\u001b[0;34m,\u001b[0m \u001b[0mx_1_train\u001b[0m\u001b[0;34m,\u001b[0m \u001b[0my_train\u001b[0m\u001b[0;34m,\u001b[0m \u001b[0mx_0_val\u001b[0m\u001b[0;34m,\u001b[0m \u001b[0mx_1_val\u001b[0m\u001b[0;34m,\u001b[0m \u001b[0my_val\u001b[0m\u001b[0;34m,\u001b[0m  \u001b[0mlearning_rate\u001b[0m \u001b[0;34m=\u001b[0m \u001b[0;36m0.005\u001b[0m\u001b[0;34m,\u001b[0m \u001b[0mnum_epochs\u001b[0m\u001b[0;34m=\u001b[0m \u001b[0;36m500\u001b[0m\u001b[0;34m,\u001b[0m \u001b[0mold_epochs\u001b[0m \u001b[0;34m=\u001b[0m \u001b[0;36m0\u001b[0m\u001b[0;34m,\u001b[0m \u001b[0mhidden_size\u001b[0m \u001b[0;34m=\u001b[0m \u001b[0;36m40\u001b[0m\u001b[0;34m,\u001b[0m \u001b[0mcheck_point\u001b[0m \u001b[0;34m=\u001b[0m \u001b[0;36m10\u001b[0m\u001b[0;34m,\u001b[0m \u001b[0mmodel_save\u001b[0m\u001b[0;34m=\u001b[0m\u001b[0;34m'final_with-user/ex-1'\u001b[0m\u001b[0;34m)\u001b[0m\u001b[0;34m\u001b[0m\u001b[0m\n\u001b[0m",
      "\u001b[0;32m<ipython-input-28-85957f41404a>\u001b[0m in \u001b[0;36mtrain\u001b[0;34m(x_0_train, x_1_train, y_train, x_0_val, x_1_val, y_val, learning_rate, num_epochs, old_epochs, hidden_size, check_point, model, model_save, max_patience)\u001b[0m\n\u001b[1;32m     31\u001b[0m         \u001b[0minputs_1\u001b[0m \u001b[0;34m=\u001b[0m \u001b[0mVariable\u001b[0m\u001b[0;34m(\u001b[0m\u001b[0mtorch\u001b[0m\u001b[0;34m.\u001b[0m\u001b[0mfrom_numpy\u001b[0m\u001b[0;34m(\u001b[0m\u001b[0mx_1_val\u001b[0m\u001b[0;34m)\u001b[0m\u001b[0;34m)\u001b[0m\u001b[0;34m\u001b[0m\u001b[0m\n\u001b[1;32m     32\u001b[0m         \u001b[0mtargets\u001b[0m \u001b[0;34m=\u001b[0m \u001b[0mVariable\u001b[0m\u001b[0;34m(\u001b[0m\u001b[0mtorch\u001b[0m\u001b[0;34m.\u001b[0m\u001b[0mfrom_numpy\u001b[0m\u001b[0;34m(\u001b[0m\u001b[0my_val\u001b[0m\u001b[0;34m)\u001b[0m\u001b[0;34m,\u001b[0m \u001b[0mrequires_grad\u001b[0m \u001b[0;34m=\u001b[0m \u001b[0mFalse\u001b[0m\u001b[0;34m)\u001b[0m\u001b[0;34m\u001b[0m\u001b[0m\n\u001b[0;32m---> 33\u001b[0;31m         \u001b[0moutputs\u001b[0m \u001b[0;34m=\u001b[0m \u001b[0mmodel\u001b[0m\u001b[0;34m(\u001b[0m\u001b[0minputs_0\u001b[0m\u001b[0;34m,\u001b[0m\u001b[0minputs_1\u001b[0m\u001b[0;34m)\u001b[0m\u001b[0;34m\u001b[0m\u001b[0m\n\u001b[0m\u001b[1;32m     34\u001b[0m         \u001b[0mval_loss\u001b[0m \u001b[0;34m=\u001b[0m \u001b[0mmse_loss_vector\u001b[0m\u001b[0;34m(\u001b[0m\u001b[0moutputs\u001b[0m\u001b[0;34m,\u001b[0m \u001b[0mtargets\u001b[0m\u001b[0;34m)\u001b[0m\u001b[0;34m.\u001b[0m\u001b[0msum\u001b[0m\u001b[0;34m(\u001b[0m\u001b[0;34m)\u001b[0m\u001b[0;34m\u001b[0m\u001b[0m\n\u001b[1;32m     35\u001b[0m         \u001b[0mval_loss_list\u001b[0m\u001b[0;34m.\u001b[0m\u001b[0mappend\u001b[0m\u001b[0;34m(\u001b[0m\u001b[0mval_loss\u001b[0m\u001b[0;34m.\u001b[0m\u001b[0mdata\u001b[0m\u001b[0;34m[\u001b[0m\u001b[0;36m0\u001b[0m\u001b[0;34m]\u001b[0m\u001b[0;34m)\u001b[0m\u001b[0;34m\u001b[0m\u001b[0m\n",
      "\u001b[0;32m/home/anla/Apps/anaconda2/lib/python2.7/site-packages/torch/nn/modules/module.pyc\u001b[0m in \u001b[0;36m__call__\u001b[0;34m(self, *input, **kwargs)\u001b[0m\n\u001b[1;32m    204\u001b[0m \u001b[0;34m\u001b[0m\u001b[0m\n\u001b[1;32m    205\u001b[0m     \u001b[0;32mdef\u001b[0m \u001b[0m__call__\u001b[0m\u001b[0;34m(\u001b[0m\u001b[0mself\u001b[0m\u001b[0;34m,\u001b[0m \u001b[0;34m*\u001b[0m\u001b[0minput\u001b[0m\u001b[0;34m,\u001b[0m \u001b[0;34m**\u001b[0m\u001b[0mkwargs\u001b[0m\u001b[0;34m)\u001b[0m\u001b[0;34m:\u001b[0m\u001b[0;34m\u001b[0m\u001b[0m\n\u001b[0;32m--> 206\u001b[0;31m         \u001b[0mresult\u001b[0m \u001b[0;34m=\u001b[0m \u001b[0mself\u001b[0m\u001b[0;34m.\u001b[0m\u001b[0mforward\u001b[0m\u001b[0;34m(\u001b[0m\u001b[0;34m*\u001b[0m\u001b[0minput\u001b[0m\u001b[0;34m,\u001b[0m \u001b[0;34m**\u001b[0m\u001b[0mkwargs\u001b[0m\u001b[0;34m)\u001b[0m\u001b[0;34m\u001b[0m\u001b[0m\n\u001b[0m\u001b[1;32m    207\u001b[0m         \u001b[0;32mfor\u001b[0m \u001b[0mhook\u001b[0m \u001b[0;32min\u001b[0m \u001b[0mself\u001b[0m\u001b[0;34m.\u001b[0m\u001b[0m_forward_hooks\u001b[0m\u001b[0;34m.\u001b[0m\u001b[0mvalues\u001b[0m\u001b[0;34m(\u001b[0m\u001b[0;34m)\u001b[0m\u001b[0;34m:\u001b[0m\u001b[0;34m\u001b[0m\u001b[0m\n\u001b[1;32m    208\u001b[0m             \u001b[0mhook_result\u001b[0m \u001b[0;34m=\u001b[0m \u001b[0mhook\u001b[0m\u001b[0;34m(\u001b[0m\u001b[0mself\u001b[0m\u001b[0;34m,\u001b[0m \u001b[0minput\u001b[0m\u001b[0;34m,\u001b[0m \u001b[0mresult\u001b[0m\u001b[0;34m)\u001b[0m\u001b[0;34m\u001b[0m\u001b[0m\n",
      "\u001b[0;32m<ipython-input-30-d0cb3491b434>\u001b[0m in \u001b[0;36mforward\u001b[0;34m(self, x_0, x_1)\u001b[0m\n\u001b[1;32m     16\u001b[0m \u001b[0;34m\u001b[0m\u001b[0m\n\u001b[1;32m     17\u001b[0m     \u001b[0;32mdef\u001b[0m \u001b[0mforward\u001b[0m\u001b[0;34m(\u001b[0m\u001b[0mself\u001b[0m\u001b[0;34m,\u001b[0m \u001b[0mx_0\u001b[0m\u001b[0;34m,\u001b[0m \u001b[0mx_1\u001b[0m\u001b[0;34m)\u001b[0m\u001b[0;34m:\u001b[0m\u001b[0;34m\u001b[0m\u001b[0m\n\u001b[0;32m---> 18\u001b[0;31m         \u001b[0mh_0\u001b[0m \u001b[0;34m=\u001b[0m \u001b[0mself\u001b[0m\u001b[0;34m.\u001b[0m\u001b[0mactivate0\u001b[0m\u001b[0;34m(\u001b[0m\u001b[0mself\u001b[0m\u001b[0;34m.\u001b[0m\u001b[0mfc0\u001b[0m\u001b[0;34m(\u001b[0m\u001b[0mx_0\u001b[0m\u001b[0;34m)\u001b[0m\u001b[0;34m)\u001b[0m\u001b[0;34m\u001b[0m\u001b[0m\n\u001b[0m\u001b[1;32m     19\u001b[0m         \u001b[0mh_1\u001b[0m \u001b[0;34m=\u001b[0m \u001b[0mself\u001b[0m\u001b[0;34m.\u001b[0m\u001b[0mactivate1\u001b[0m\u001b[0;34m(\u001b[0m\u001b[0mself\u001b[0m\u001b[0;34m.\u001b[0m\u001b[0mfc1\u001b[0m\u001b[0;34m(\u001b[0m\u001b[0mx_1\u001b[0m\u001b[0;34m)\u001b[0m\u001b[0;34m)\u001b[0m\u001b[0;34m\u001b[0m\u001b[0m\n\u001b[1;32m     20\u001b[0m         \u001b[0mh\u001b[0m \u001b[0;34m=\u001b[0m \u001b[0mself\u001b[0m\u001b[0;34m.\u001b[0m\u001b[0mactivate_merge\u001b[0m\u001b[0;34m(\u001b[0m\u001b[0mself\u001b[0m\u001b[0;34m.\u001b[0m\u001b[0mbn_merge\u001b[0m\u001b[0;34m(\u001b[0m\u001b[0mself\u001b[0m\u001b[0;34m.\u001b[0m\u001b[0mfc_merge0\u001b[0m\u001b[0;34m(\u001b[0m\u001b[0mh_0\u001b[0m\u001b[0;34m)\u001b[0m \u001b[0;34m+\u001b[0m \u001b[0mself\u001b[0m\u001b[0;34m.\u001b[0m\u001b[0mfc_merge1\u001b[0m\u001b[0;34m(\u001b[0m\u001b[0mh_1\u001b[0m\u001b[0;34m)\u001b[0m\u001b[0;34m)\u001b[0m\u001b[0;34m)\u001b[0m\u001b[0;34m\u001b[0m\u001b[0m\n",
      "\u001b[0;32m/home/anla/Apps/anaconda2/lib/python2.7/site-packages/torch/nn/modules/module.pyc\u001b[0m in \u001b[0;36m__call__\u001b[0;34m(self, *input, **kwargs)\u001b[0m\n\u001b[1;32m    204\u001b[0m \u001b[0;34m\u001b[0m\u001b[0m\n\u001b[1;32m    205\u001b[0m     \u001b[0;32mdef\u001b[0m \u001b[0m__call__\u001b[0m\u001b[0;34m(\u001b[0m\u001b[0mself\u001b[0m\u001b[0;34m,\u001b[0m \u001b[0;34m*\u001b[0m\u001b[0minput\u001b[0m\u001b[0;34m,\u001b[0m \u001b[0;34m**\u001b[0m\u001b[0mkwargs\u001b[0m\u001b[0;34m)\u001b[0m\u001b[0;34m:\u001b[0m\u001b[0;34m\u001b[0m\u001b[0m\n\u001b[0;32m--> 206\u001b[0;31m         \u001b[0mresult\u001b[0m \u001b[0;34m=\u001b[0m \u001b[0mself\u001b[0m\u001b[0;34m.\u001b[0m\u001b[0mforward\u001b[0m\u001b[0;34m(\u001b[0m\u001b[0;34m*\u001b[0m\u001b[0minput\u001b[0m\u001b[0;34m,\u001b[0m \u001b[0;34m**\u001b[0m\u001b[0mkwargs\u001b[0m\u001b[0;34m)\u001b[0m\u001b[0;34m\u001b[0m\u001b[0m\n\u001b[0m\u001b[1;32m    207\u001b[0m         \u001b[0;32mfor\u001b[0m \u001b[0mhook\u001b[0m \u001b[0;32min\u001b[0m \u001b[0mself\u001b[0m\u001b[0;34m.\u001b[0m\u001b[0m_forward_hooks\u001b[0m\u001b[0;34m.\u001b[0m\u001b[0mvalues\u001b[0m\u001b[0;34m(\u001b[0m\u001b[0;34m)\u001b[0m\u001b[0;34m:\u001b[0m\u001b[0;34m\u001b[0m\u001b[0m\n\u001b[1;32m    208\u001b[0m             \u001b[0mhook_result\u001b[0m \u001b[0;34m=\u001b[0m \u001b[0mhook\u001b[0m\u001b[0;34m(\u001b[0m\u001b[0mself\u001b[0m\u001b[0;34m,\u001b[0m \u001b[0minput\u001b[0m\u001b[0;34m,\u001b[0m \u001b[0mresult\u001b[0m\u001b[0;34m)\u001b[0m\u001b[0;34m\u001b[0m\u001b[0m\n",
      "\u001b[0;32m/home/anla/Apps/anaconda2/lib/python2.7/site-packages/torch/nn/modules/activation.pyc\u001b[0m in \u001b[0;36mforward\u001b[0;34m(self, input)\u001b[0m\n\u001b[1;32m    184\u001b[0m \u001b[0;34m\u001b[0m\u001b[0m\n\u001b[1;32m    185\u001b[0m     \u001b[0;32mdef\u001b[0m \u001b[0mforward\u001b[0m\u001b[0;34m(\u001b[0m\u001b[0mself\u001b[0m\u001b[0;34m,\u001b[0m \u001b[0minput\u001b[0m\u001b[0;34m)\u001b[0m\u001b[0;34m:\u001b[0m\u001b[0;34m\u001b[0m\u001b[0m\n\u001b[0;32m--> 186\u001b[0;31m         \u001b[0;32mreturn\u001b[0m \u001b[0mtorch\u001b[0m\u001b[0;34m.\u001b[0m\u001b[0msigmoid\u001b[0m\u001b[0;34m(\u001b[0m\u001b[0minput\u001b[0m\u001b[0;34m)\u001b[0m\u001b[0;34m\u001b[0m\u001b[0m\n\u001b[0m\u001b[1;32m    187\u001b[0m \u001b[0;34m\u001b[0m\u001b[0m\n\u001b[1;32m    188\u001b[0m     \u001b[0;32mdef\u001b[0m \u001b[0m__repr__\u001b[0m\u001b[0;34m(\u001b[0m\u001b[0mself\u001b[0m\u001b[0;34m)\u001b[0m\u001b[0;34m:\u001b[0m\u001b[0;34m\u001b[0m\u001b[0m\n",
      "\u001b[0;32m/home/anla/Apps/anaconda2/lib/python2.7/site-packages/torch/autograd/variable.pyc\u001b[0m in \u001b[0;36msigmoid\u001b[0;34m(self)\u001b[0m\n\u001b[1;32m    355\u001b[0m \u001b[0;34m\u001b[0m\u001b[0m\n\u001b[1;32m    356\u001b[0m     \u001b[0;32mdef\u001b[0m \u001b[0msigmoid\u001b[0m\u001b[0;34m(\u001b[0m\u001b[0mself\u001b[0m\u001b[0;34m)\u001b[0m\u001b[0;34m:\u001b[0m\u001b[0;34m\u001b[0m\u001b[0m\n\u001b[0;32m--> 357\u001b[0;31m         \u001b[0;32mreturn\u001b[0m \u001b[0mSigmoid\u001b[0m\u001b[0;34m(\u001b[0m\u001b[0;34m)\u001b[0m\u001b[0;34m(\u001b[0m\u001b[0mself\u001b[0m\u001b[0;34m)\u001b[0m\u001b[0;34m\u001b[0m\u001b[0m\n\u001b[0m\u001b[1;32m    358\u001b[0m \u001b[0;34m\u001b[0m\u001b[0m\n\u001b[1;32m    359\u001b[0m     \u001b[0;32mdef\u001b[0m \u001b[0msigmoid_\u001b[0m\u001b[0;34m(\u001b[0m\u001b[0mself\u001b[0m\u001b[0;34m)\u001b[0m\u001b[0;34m:\u001b[0m\u001b[0;34m\u001b[0m\u001b[0m\n",
      "\u001b[0;32m/home/anla/Apps/anaconda2/lib/python2.7/site-packages/torch/autograd/_functions/pointwise.pyc\u001b[0m in \u001b[0;36mforward\u001b[0;34m(self, i)\u001b[0m\n\u001b[1;32m     62\u001b[0m             \u001b[0mresult\u001b[0m \u001b[0;34m=\u001b[0m \u001b[0mi\u001b[0m\u001b[0;34m.\u001b[0m\u001b[0msigmoid_\u001b[0m\u001b[0;34m(\u001b[0m\u001b[0;34m)\u001b[0m\u001b[0;34m\u001b[0m\u001b[0m\n\u001b[1;32m     63\u001b[0m         \u001b[0;32melse\u001b[0m\u001b[0;34m:\u001b[0m\u001b[0;34m\u001b[0m\u001b[0m\n\u001b[0;32m---> 64\u001b[0;31m             \u001b[0mresult\u001b[0m \u001b[0;34m=\u001b[0m \u001b[0mi\u001b[0m\u001b[0;34m.\u001b[0m\u001b[0msigmoid\u001b[0m\u001b[0;34m(\u001b[0m\u001b[0;34m)\u001b[0m\u001b[0;34m\u001b[0m\u001b[0m\n\u001b[0m\u001b[1;32m     65\u001b[0m         \u001b[0mself\u001b[0m\u001b[0;34m.\u001b[0m\u001b[0msave_for_backward\u001b[0m\u001b[0;34m(\u001b[0m\u001b[0mresult\u001b[0m\u001b[0;34m)\u001b[0m\u001b[0;34m\u001b[0m\u001b[0m\n\u001b[1;32m     66\u001b[0m         \u001b[0;32mreturn\u001b[0m \u001b[0mresult\u001b[0m\u001b[0;34m\u001b[0m\u001b[0m\n",
      "\u001b[0;31mKeyboardInterrupt\u001b[0m: "
     ]
    }
   ],
   "source": [
    "model_ex1 = train(x_0_train, x_1_train, y_train, x_0_val, x_1_val, y_val,  learning_rate = 0.005, num_epochs= 500, old_epochs = 0, hidden_size = 40, check_point = 10, model_save='final_with-user/ex-1')"
   ]
  },
  {
   "cell_type": "code",
   "execution_count": 34,
   "metadata": {
    "scrolled": true
   },
   "outputs": [
    {
     "name": "stdout",
     "output_type": "stream",
     "text": [
      "Epoch [1/1200], Loss: 0.0971, 0.0943, Val Error: 0.9976\n",
      "Epoch [10/1200], Loss: 0.0961, 0.0933, Val Error: 0.9891\n",
      "Epoch [20/1200], Loss: 0.0950, 0.0922, Val Error: 0.9797\n",
      "Epoch [30/1200], Loss: 0.0940, 0.0912, Val Error: 0.9703\n",
      "Epoch [40/1200], Loss: 0.0929, 0.0901, Val Error: 0.9608\n",
      "Epoch [50/1200], Loss: 0.0918, 0.0891, Val Error: 0.9509\n",
      "Epoch [60/1200], Loss: 0.0908, 0.0880, Val Error: 0.9408\n",
      "Epoch [70/1200], Loss: 0.0897, 0.0870, Val Error: 0.9300\n",
      "Epoch [80/1200], Loss: 0.0886, 0.0859, Val Error: 0.9186\n",
      "Epoch [90/1200], Loss: 0.0876, 0.0848, Val Error: 0.9065\n",
      "Epoch [100/1200], Loss: 0.0865, 0.0837, Val Error: 0.8937\n",
      "Epoch [110/1200], Loss: 0.0854, 0.0826, Val Error: 0.8807\n",
      "Epoch [120/1200], Loss: 0.0844, 0.0816, Val Error: 0.8678\n",
      "Epoch [130/1200], Loss: 0.0834, 0.0805, Val Error: 0.8557\n",
      "Epoch [140/1200], Loss: 0.0825, 0.0796, Val Error: 0.8449\n",
      "Epoch [150/1200], Loss: 0.0815, 0.0787, Val Error: 0.8356\n",
      "Epoch [160/1200], Loss: 0.0806, 0.0778, Val Error: 0.8275\n",
      "Epoch [170/1200], Loss: 0.0798, 0.0770, Val Error: 0.8204\n",
      "Epoch [180/1200], Loss: 0.0789, 0.0762, Val Error: 0.8138\n",
      "Epoch [190/1200], Loss: 0.0781, 0.0755, Val Error: 0.8077\n",
      "Epoch [200/1200], Loss: 0.0773, 0.0747, Val Error: 0.8017\n",
      "Epoch [210/1200], Loss: 0.0765, 0.0740, Val Error: 0.7958\n",
      "Epoch [220/1200], Loss: 0.0758, 0.0733, Val Error: 0.7901\n",
      "Epoch [230/1200], Loss: 0.0751, 0.0727, Val Error: 0.7844\n",
      "Epoch [240/1200], Loss: 0.0744, 0.0720, Val Error: 0.7787\n",
      "Epoch [250/1200], Loss: 0.0737, 0.0714, Val Error: 0.7730\n",
      "Epoch [260/1200], Loss: 0.0730, 0.0707, Val Error: 0.7674\n",
      "Epoch [270/1200], Loss: 0.0723, 0.0701, Val Error: 0.7618\n",
      "Epoch [280/1200], Loss: 0.0717, 0.0695, Val Error: 0.7563\n",
      "Epoch [290/1200], Loss: 0.0711, 0.0689, Val Error: 0.7510\n",
      "Epoch [300/1200], Loss: 0.0705, 0.0683, Val Error: 0.7458\n",
      "Epoch [310/1200], Loss: 0.0699, 0.0678, Val Error: 0.7408\n",
      "Epoch [320/1200], Loss: 0.0693, 0.0672, Val Error: 0.7359\n",
      "Epoch [330/1200], Loss: 0.0687, 0.0667, Val Error: 0.7312\n",
      "Epoch [340/1200], Loss: 0.0682, 0.0661, Val Error: 0.7266\n",
      "Epoch [350/1200], Loss: 0.0676, 0.0656, Val Error: 0.7222\n",
      "Epoch [360/1200], Loss: 0.0671, 0.0651, Val Error: 0.7180\n",
      "Epoch [370/1200], Loss: 0.0666, 0.0646, Val Error: 0.7138\n",
      "Epoch [380/1200], Loss: 0.0661, 0.0641, Val Error: 0.7099\n",
      "Epoch [390/1200], Loss: 0.0656, 0.0637, Val Error: 0.7060\n",
      "Epoch [400/1200], Loss: 0.0651, 0.0632, Val Error: 0.7023\n",
      "Epoch [410/1200], Loss: 0.0646, 0.0628, Val Error: 0.6987\n",
      "Epoch [420/1200], Loss: 0.0641, 0.0623, Val Error: 0.6953\n",
      "Epoch [430/1200], Loss: 0.0637, 0.0619, Val Error: 0.6919\n",
      "Epoch [440/1200], Loss: 0.0633, 0.0615, Val Error: 0.6888\n",
      "Epoch [450/1200], Loss: 0.0628, 0.0611, Val Error: 0.6857\n",
      "Epoch [460/1200], Loss: 0.0624, 0.0607, Val Error: 0.6828\n",
      "Epoch [470/1200], Loss: 0.0620, 0.0603, Val Error: 0.6799\n",
      "Epoch [480/1200], Loss: 0.0616, 0.0599, Val Error: 0.6773\n",
      "Epoch [490/1200], Loss: 0.0612, 0.0595, Val Error: 0.6747\n",
      "Epoch [500/1200], Loss: 0.0608, 0.0592, Val Error: 0.6723\n",
      "Epoch [510/1200], Loss: 0.0604, 0.0588, Val Error: 0.6699\n",
      "Epoch [520/1200], Loss: 0.0600, 0.0585, Val Error: 0.6677\n",
      "Epoch [530/1200], Loss: 0.0597, 0.0582, Val Error: 0.6656\n",
      "Epoch [540/1200], Loss: 0.0593, 0.0579, Val Error: 0.6637\n",
      "Epoch [550/1200], Loss: 0.0590, 0.0575, Val Error: 0.6618\n",
      "Epoch [560/1200], Loss: 0.0586, 0.0572, Val Error: 0.6600\n",
      "Epoch [570/1200], Loss: 0.0583, 0.0569, Val Error: 0.6584\n",
      "Epoch [580/1200], Loss: 0.0580, 0.0567, Val Error: 0.6568\n",
      "Epoch [590/1200], Loss: 0.0577, 0.0564, Val Error: 0.6554\n",
      "Epoch [600/1200], Loss: 0.0574, 0.0561, Val Error: 0.6541\n",
      "Epoch [610/1200], Loss: 0.0571, 0.0558, Val Error: 0.6528\n",
      "Epoch [620/1200], Loss: 0.0568, 0.0556, Val Error: 0.6517\n",
      "Epoch [630/1200], Loss: 0.0565, 0.0553, Val Error: 0.6506\n",
      "Epoch [640/1200], Loss: 0.0562, 0.0551, Val Error: 0.6497\n",
      "Epoch [650/1200], Loss: 0.0559, 0.0549, Val Error: 0.6488\n",
      "Epoch [660/1200], Loss: 0.0557, 0.0546, Val Error: 0.6480\n",
      "Epoch [670/1200], Loss: 0.0554, 0.0544, Val Error: 0.6473\n",
      "Epoch [680/1200], Loss: 0.0552, 0.0542, Val Error: 0.6467\n",
      "Epoch [690/1200], Loss: 0.0549, 0.0540, Val Error: 0.6462\n",
      "Epoch [700/1200], Loss: 0.0547, 0.0538, Val Error: 0.6457\n",
      "Epoch [710/1200], Loss: 0.0544, 0.0536, Val Error: 0.6454\n",
      "Epoch [720/1200], Loss: 0.0542, 0.0534, Val Error: 0.6450\n",
      "Epoch [730/1200], Loss: 0.0540, 0.0532, Val Error: 0.6448\n",
      "Epoch [740/1200], Loss: 0.0538, 0.0531, Val Error: 0.6446\n",
      "Epoch [750/1200], Loss: 0.0536, 0.0529, Val Error: 0.6445\n",
      "Epoch [760/1200], Loss: 0.0534, 0.0527, Val Error: 0.6445\n",
      "Epoch [770/1200], Loss: 0.0532, 0.0526, Val Error: 0.6445\n",
      "Epoch [780/1200], Loss: 0.0530, 0.0524, Val Error: 0.6445\n",
      "Epoch [790/1200], Loss: 0.0528, 0.0523, Val Error: 0.6446\n",
      "Epoch [800/1200], Loss: 0.0526, 0.0521, Val Error: 0.6447\n",
      "Epoch [810/1200], Loss: 0.0524, 0.0520, Val Error: 0.6449\n",
      "Epoch [820/1200], Loss: 0.0522, 0.0518, Val Error: 0.6451\n",
      "Epoch [830/1200], Loss: 0.0520, 0.0517, Val Error: 0.6454\n",
      "Epoch [840/1200], Loss: 0.0519, 0.0516, Val Error: 0.6457\n",
      "Epoch [850/1200], Loss: 0.0517, 0.0515, Val Error: 0.6461\n",
      "Epoch [860/1200], Loss: 0.0515, 0.0513, Val Error: 0.6465\n",
      "Epoch [870/1200], Loss: 0.0514, 0.0512, Val Error: 0.6470\n",
      "Epoch [880/1200], Loss: 0.0512, 0.0511, Val Error: 0.6475\n",
      "Epoch [890/1200], Loss: 0.0510, 0.0510, Val Error: 0.6480\n",
      "Epoch [900/1200], Loss: 0.0509, 0.0509, Val Error: 0.6486\n",
      "Epoch [910/1200], Loss: 0.0507, 0.0508, Val Error: 0.6492\n",
      "Epoch [920/1200], Loss: 0.0506, 0.0507, Val Error: 0.6498\n",
      "Epoch [930/1200], Loss: 0.0504, 0.0506, Val Error: 0.6505\n",
      "Epoch [940/1200], Loss: 0.0503, 0.0505, Val Error: 0.6512\n",
      "Epoch [950/1200], Loss: 0.0501, 0.0504, Val Error: 0.6519\n",
      "Epoch [960/1200], Loss: 0.0500, 0.0504, Val Error: 0.6527\n",
      "Early stopping at 966\n"
     ]
    },
    {
     "data": {
      "image/png": "[encoded data removed]",
      "text/plain": [
       "<matplotlib.figure.Figure at 0x7f1785279790>"
      ]
     },
     "metadata": {},
     "output_type": "display_data"
    }
   ],
   "source": [
    "model_ex1 = train(x_0_train, x_1_train, y_train, x_0_val, x_1_val, y_val,  learning_rate = 0.001, num_epochs= 1200, old_epochs = 0, hidden_size = 40, check_point = 10, model_save='final_with-user/ex-2')"
   ]
  },
  {
   "cell_type": "code",
   "execution_count": 35,
   "metadata": {},
   "outputs": [
    {
     "name": "stdout",
     "output_type": "stream",
     "text": [
      "Epoch [1/1200], Loss: 0.0971, 0.0943, Val Error: 0.9977\n",
      "Epoch [10/1200], Loss: 0.0961, 0.0933, Val Error: 0.9895\n",
      "Epoch [20/1200], Loss: 0.0951, 0.0923, Val Error: 0.9805\n",
      "Epoch [30/1200], Loss: 0.0940, 0.0912, Val Error: 0.9716\n",
      "Epoch [40/1200], Loss: 0.0930, 0.0902, Val Error: 0.9628\n",
      "Epoch [50/1200], Loss: 0.0919, 0.0892, Val Error: 0.9540\n",
      "Epoch [60/1200], Loss: 0.0909, 0.0882, Val Error: 0.9452\n",
      "Epoch [70/1200], Loss: 0.0899, 0.0873, Val Error: 0.9365\n",
      "Epoch [80/1200], Loss: 0.0890, 0.0863, Val Error: 0.9277\n",
      "Epoch [90/1200], Loss: 0.0880, 0.0853, Val Error: 0.9188\n",
      "Epoch [100/1200], Loss: 0.0870, 0.0844, Val Error: 0.9097\n",
      "Epoch [110/1200], Loss: 0.0860, 0.0834, Val Error: 0.9004\n",
      "Epoch [120/1200], Loss: 0.0851, 0.0825, Val Error: 0.8907\n",
      "Epoch [130/1200], Loss: 0.0841, 0.0815, Val Error: 0.8807\n",
      "Epoch [140/1200], Loss: 0.0832, 0.0805, Val Error: 0.8704\n",
      "Epoch [150/1200], Loss: 0.0822, 0.0796, Val Error: 0.8596\n",
      "Epoch [160/1200], Loss: 0.0813, 0.0786, Val Error: 0.8486\n",
      "Epoch [170/1200], Loss: 0.0804, 0.0777, Val Error: 0.8376\n",
      "Epoch [180/1200], Loss: 0.0795, 0.0768, Val Error: 0.8268\n",
      "Epoch [190/1200], Loss: 0.0786, 0.0759, Val Error: 0.8165\n",
      "Epoch [200/1200], Loss: 0.0778, 0.0750, Val Error: 0.8070\n",
      "Epoch [210/1200], Loss: 0.0770, 0.0742, Val Error: 0.7984\n",
      "Epoch [220/1200], Loss: 0.0762, 0.0735, Val Error: 0.7907\n",
      "Epoch [230/1200], Loss: 0.0754, 0.0727, Val Error: 0.7837\n",
      "Epoch [240/1200], Loss: 0.0747, 0.0720, Val Error: 0.7773\n",
      "Epoch [250/1200], Loss: 0.0739, 0.0713, Val Error: 0.7712\n",
      "Epoch [260/1200], Loss: 0.0732, 0.0707, Val Error: 0.7655\n",
      "Epoch [270/1200], Loss: 0.0725, 0.0700, Val Error: 0.7601\n",
      "Epoch [280/1200], Loss: 0.0718, 0.0694, Val Error: 0.7549\n",
      "Epoch [290/1200], Loss: 0.0712, 0.0688, Val Error: 0.7499\n",
      "Epoch [300/1200], Loss: 0.0706, 0.0683, Val Error: 0.7451\n",
      "Epoch [310/1200], Loss: 0.0700, 0.0677, Val Error: 0.7405\n",
      "Epoch [320/1200], Loss: 0.0694, 0.0671, Val Error: 0.7359\n",
      "Epoch [330/1200], Loss: 0.0688, 0.0666, Val Error: 0.7315\n",
      "Epoch [340/1200], Loss: 0.0682, 0.0661, Val Error: 0.7271\n",
      "Epoch [350/1200], Loss: 0.0677, 0.0656, Val Error: 0.7228\n",
      "Epoch [360/1200], Loss: 0.0671, 0.0651, Val Error: 0.7186\n",
      "Epoch [370/1200], Loss: 0.0666, 0.0646, Val Error: 0.7145\n",
      "Epoch [380/1200], Loss: 0.0661, 0.0641, Val Error: 0.7105\n",
      "Epoch [390/1200], Loss: 0.0656, 0.0636, Val Error: 0.7066\n",
      "Epoch [400/1200], Loss: 0.0651, 0.0632, Val Error: 0.7028\n",
      "Epoch [410/1200], Loss: 0.0647, 0.0627, Val Error: 0.6991\n",
      "Epoch [420/1200], Loss: 0.0642, 0.0623, Val Error: 0.6956\n",
      "Epoch [430/1200], Loss: 0.0637, 0.0619, Val Error: 0.6923\n",
      "Epoch [440/1200], Loss: 0.0633, 0.0615, Val Error: 0.6890\n",
      "Epoch [450/1200], Loss: 0.0629, 0.0611, Val Error: 0.6859\n",
      "Epoch [460/1200], Loss: 0.0625, 0.0607, Val Error: 0.6830\n",
      "Epoch [470/1200], Loss: 0.0620, 0.0603, Val Error: 0.6801\n",
      "Epoch [480/1200], Loss: 0.0616, 0.0599, Val Error: 0.6774\n",
      "Epoch [490/1200], Loss: 0.0613, 0.0595, Val Error: 0.6748\n",
      "Epoch [500/1200], Loss: 0.0609, 0.0592, Val Error: 0.6724\n",
      "Epoch [510/1200], Loss: 0.0605, 0.0588, Val Error: 0.6700\n",
      "Epoch [520/1200], Loss: 0.0601, 0.0585, Val Error: 0.6678\n",
      "Epoch [530/1200], Loss: 0.0598, 0.0582, Val Error: 0.6657\n",
      "Epoch [540/1200], Loss: 0.0594, 0.0578, Val Error: 0.6636\n",
      "Epoch [550/1200], Loss: 0.0591, 0.0575, Val Error: 0.6617\n",
      "Epoch [560/1200], Loss: 0.0588, 0.0572, Val Error: 0.6599\n",
      "Epoch [570/1200], Loss: 0.0585, 0.0569, Val Error: 0.6582\n",
      "Epoch [580/1200], Loss: 0.0581, 0.0566, Val Error: 0.6566\n",
      "Epoch [590/1200], Loss: 0.0578, 0.0563, Val Error: 0.6551\n",
      "Epoch [600/1200], Loss: 0.0575, 0.0561, Val Error: 0.6537\n",
      "Epoch [610/1200], Loss: 0.0572, 0.0558, Val Error: 0.6524\n",
      "Epoch [620/1200], Loss: 0.0570, 0.0555, Val Error: 0.6511\n",
      "Epoch [630/1200], Loss: 0.0567, 0.0553, Val Error: 0.6500\n",
      "Epoch [640/1200], Loss: 0.0564, 0.0550, Val Error: 0.6489\n",
      "Epoch [650/1200], Loss: 0.0561, 0.0548, Val Error: 0.6480\n",
      "Epoch [660/1200], Loss: 0.0559, 0.0546, Val Error: 0.6471\n",
      "Epoch [670/1200], Loss: 0.0556, 0.0543, Val Error: 0.6463\n",
      "Epoch [680/1200], Loss: 0.0554, 0.0541, Val Error: 0.6455\n",
      "Epoch [690/1200], Loss: 0.0551, 0.0539, Val Error: 0.6449\n",
      "Epoch [700/1200], Loss: 0.0549, 0.0537, Val Error: 0.6443\n",
      "Epoch [710/1200], Loss: 0.0547, 0.0535, Val Error: 0.6438\n",
      "Epoch [720/1200], Loss: 0.0545, 0.0533, Val Error: 0.6433\n",
      "Epoch [730/1200], Loss: 0.0542, 0.0531, Val Error: 0.6429\n",
      "Epoch [740/1200], Loss: 0.0540, 0.0529, Val Error: 0.6426\n",
      "Epoch [750/1200], Loss: 0.0538, 0.0528, Val Error: 0.6424\n",
      "Epoch [760/1200], Loss: 0.0536, 0.0526, Val Error: 0.6422\n",
      "Epoch [770/1200], Loss: 0.0534, 0.0524, Val Error: 0.6421\n",
      "Epoch [780/1200], Loss: 0.0532, 0.0522, Val Error: 0.6420\n",
      "Epoch [790/1200], Loss: 0.0531, 0.0521, Val Error: 0.6420\n",
      "Epoch [800/1200], Loss: 0.0529, 0.0519, Val Error: 0.6420\n",
      "Epoch [810/1200], Loss: 0.0527, 0.0518, Val Error: 0.6421\n",
      "Epoch [820/1200], Loss: 0.0525, 0.0516, Val Error: 0.6423\n",
      "Epoch [830/1200], Loss: 0.0524, 0.0515, Val Error: 0.6425\n",
      "Epoch [840/1200], Loss: 0.0522, 0.0514, Val Error: 0.6428\n",
      "Epoch [850/1200], Loss: 0.0520, 0.0512, Val Error: 0.6431\n",
      "Epoch [860/1200], Loss: 0.0519, 0.0511, Val Error: 0.6434\n",
      "Epoch [870/1200], Loss: 0.0517, 0.0510, Val Error: 0.6438\n",
      "Epoch [880/1200], Loss: 0.0516, 0.0509, Val Error: 0.6443\n",
      "Epoch [890/1200], Loss: 0.0514, 0.0508, Val Error: 0.6447\n",
      "Epoch [900/1200], Loss: 0.0513, 0.0507, Val Error: 0.6452\n",
      "Epoch [910/1200], Loss: 0.0512, 0.0506, Val Error: 0.6458\n",
      "Epoch [920/1200], Loss: 0.0510, 0.0505, Val Error: 0.6464\n",
      "Epoch [930/1200], Loss: 0.0509, 0.0504, Val Error: 0.6470\n",
      "Epoch [940/1200], Loss: 0.0508, 0.0503, Val Error: 0.6476\n",
      "Epoch [950/1200], Loss: 0.0507, 0.0502, Val Error: 0.6483\n",
      "Epoch [960/1200], Loss: 0.0505, 0.0501, Val Error: 0.6489\n",
      "Epoch [970/1200], Loss: 0.0504, 0.0500, Val Error: 0.6496\n",
      "Epoch [980/1200], Loss: 0.0503, 0.0499, Val Error: 0.6504\n",
      "Early stopping at 986\n"
     ]
    },
    {
     "data": {
      "image/png": "[encoded data removed]",
      "text/plain": [
       "<matplotlib.figure.Figure at 0x7f1785234dd0>"
      ]
     },
     "metadata": {},
     "output_type": "display_data"
    }
   ],
   "source": [
    "model_ex1 = train(x_0_train, x_1_train, y_train, x_0_val, x_1_val, y_val,  learning_rate = 0.001, num_epochs= 1200, old_epochs = 0, hidden_size = 10, check_point = 10, model_save='final_with-user/ex-2')"
   ]
  }
 ],
 "metadata": {
  "kernelspec": {
   "display_name": "Python 2",
   "language": "python",
   "name": "python2"
  },
  "language_info": {
   "codemirror_mode": {
    "name": "ipython",
    "version": 2
   },
   "file_extension": ".py",
   "mimetype": "text/x-python",
   "name": "python",
   "nbconvert_exporter": "python",
   "pygments_lexer": "ipython2",
   "version": "2.7.13"
  }
 },
 "nbformat": 4,
 "nbformat_minor": 2
}
