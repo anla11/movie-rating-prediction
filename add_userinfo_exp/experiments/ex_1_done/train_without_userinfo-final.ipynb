{
 "cells": [
  {
   "cell_type": "code",
   "execution_count": 1,
   "metadata": {
    "collapsed": true
   },
   "outputs": [],
   "source": [
    "import numpy as np\n",
    "import torch\n",
    "import pandas as pd\n",
    "import matplotlib.pyplot as plt"
   ]
  },
  {
   "cell_type": "code",
   "execution_count": 2,
   "metadata": {
    "collapsed": true
   },
   "outputs": [],
   "source": [
    "import torch.nn as nn\n",
    "import torch.nn.functional as functional\n",
    "from torch.autograd import Variable"
   ]
  },
  {
   "cell_type": "markdown",
   "metadata": {},
   "source": [
    "# Read data"
   ]
  },
  {
   "cell_type": "code",
   "execution_count": 18,
   "metadata": {
    "collapsed": true
   },
   "outputs": [],
   "source": [
    "x_item_train = pd.read_csv('../../../data/input_formated/final/x_item_train.csv').iloc[:, 1:]\n",
    "y_train = pd.read_csv('../../../data/input_formated/final/y_train.csv').iloc[:, 1:]"
   ]
  },
  {
   "cell_type": "code",
   "execution_count": 15,
   "metadata": {
    "collapsed": true
   },
   "outputs": [],
   "source": [
    "x_item_val = pd.read_csv('../../../data/input_formated/final/x_item_val.csv').iloc[:, 1:]\n",
    "y_val_df = pd.read_csv('../../../data/input_formated/final/y_val.csv').iloc[:, 1:]\n",
    "y_val = y_val_df"
   ]
  },
  {
   "cell_type": "code",
   "execution_count": 16,
   "metadata": {
    "collapsed": true
   },
   "outputs": [],
   "source": [
    "item_features = [u'category_Action', u'category_Adventure',\n",
    "       u'category_Animation', u'category_Children\\'s', u'category_Comedy',\n",
    "       u'category_Crime', u'category_Documentary', u'category_Drama',\n",
    "       u'category_Fantasy', u'category_Film-Noir', u'category_Horror',\n",
    "       u'category_Musical', u'category_Mystery', u'category_Romance',\n",
    "       u'category_Sci-Fi', u'category_Thriller', u'category_War',\n",
    "       u'category_Western']\n",
    "\n",
    "target_features = ['rating']"
   ]
  },
  {
   "cell_type": "code",
   "execution_count": 19,
   "metadata": {},
   "outputs": [],
   "source": [
    "x_train = np.array(x_item_train[item_features], dtype = np.float32)\n",
    "y_train = np.array(y_train[target_features], dtype=np.float32).reshape((-1, 1))"
   ]
  },
  {
   "cell_type": "code",
   "execution_count": 20,
   "metadata": {
    "collapsed": true
   },
   "outputs": [],
   "source": [
    "x_val = np.array(x_item_val[item_features], dtype = np.float32)\n",
    "y_val = np.array(y_val[target_features], dtype=np.float32).reshape((-1, 1))"
   ]
  },
  {
   "cell_type": "markdown",
   "metadata": {},
   "source": [
    "# ANN"
   ]
  },
  {
   "cell_type": "code",
   "execution_count": 8,
   "metadata": {
    "collapsed": true
   },
   "outputs": [],
   "source": [
    "def rmse(y, y_hat):\n",
    "    \"\"\"Compute root mean squared error\"\"\"\n",
    "    return torch.sqrt(torch.mean((y - y_hat).pow(2)))"
   ]
  },
  {
   "cell_type": "code",
   "execution_count": 21,
   "metadata": {
    "collapsed": true
   },
   "outputs": [],
   "source": [
    "def val_error(model):\n",
    "    inputs = Variable(torch.from_numpy(np.array(x_val, dtype = np.float32)))\n",
    "    outputs = model(inputs).data[:,0]\n",
    "    tmp = y_val_df\n",
    "    tmp['output'] = outputs\n",
    "    target = np.array(tmp.groupby('movie_id')['mean_rate'].mean().reset_index() * 5, dtype = np.float32)[:, 1].reshape((-1, 1))\n",
    "    output = np.array(tmp.groupby(['movie_id'])['output'].mean().reset_index() * 5, dtype = np.float32)[: ,1].reshape((-1,1))\n",
    "    return np.sqrt(np.mean((target - output) * (target - output)))"
   ]
  },
  {
   "cell_type": "code",
   "execution_count": 9,
   "metadata": {
    "collapsed": true
   },
   "outputs": [],
   "source": [
    "class ANN_1input(nn.Module):\n",
    "    def __init__(self, input_0_size, hidden_size, output_size):\n",
    "        super(ANN_1input, self).__init__()\n",
    "        self.fc0 = nn.Linear(input_0_size, hidden_size) \n",
    "        self.activate0 = nn.Sigmoid()\n",
    "        self.fc = nn.Linear(hidden_size, output_size)\n",
    "        self.bn = nn.BatchNorm1d(output_size, output_size)\n",
    "        self.activate = nn.Sigmoid()\n",
    "        \n",
    "        \n",
    "    def forward(self, x):\n",
    "        h = self.activate0(self.fc0(x))\n",
    "        return self.activate(self.bn(self.fc(h)))"
   ]
  },
  {
   "cell_type": "code",
   "execution_count": null,
   "metadata": {
    "collapsed": true
   },
   "outputs": [],
   "source": [
    "def val_error(model):\n",
    "    inputs_0 = Variable(torch.from_numpy(np.array(x_0_val, dtype = np.float32)))\n",
    "    inputs_1 = Variable(torch.from_numpy(np.array(x_1_val, dtype = np.float32)))\n",
    "    outputs = model(inputs_0, inputs_1).data[:,0]\n",
    "    tmp = y_val_df\n",
    "    tmp['output'] = outputs\n",
    "    target = np.array(tmp.groupby('movie_id')['mean_rate'].mean().reset_index() * 5, dtype = np.float32)[:, 1].reshape((-1, 1))\n",
    "    output = np.array(tmp.groupby(['movie_id'])['output'].mean().reset_index() * 5, dtype = np.float32)[: ,1].reshape((-1,1))\n",
    "    return np.sqrt(np.mean((target - output) * (target - output)))"
   ]
  },
  {
   "cell_type": "code",
   "execution_count": 26,
   "metadata": {
    "collapsed": true
   },
   "outputs": [],
   "source": [
    "def train(x_train, y_train, x_val, y_val, learning_rate, num_epochs, check_point, old_epochs=0, model_save= None, model = None, max_patience = 200):\n",
    "\tif model is None:\n",
    "\t\tmodel = ANN_1input(x_train.shape[1], 10, y_train.shape[1])\n",
    "    \n",
    "\t# Loss and Optimizer\n",
    "\tcriterion = nn.MSELoss()\n",
    "\toptimizer = torch.optim.Adam(model.parameters(), lr=learning_rate)  \n",
    "\ttrain_loss_list, val_loss_list = [], []\n",
    "\n",
    "\t#early stopping\n",
    "\tpatience = max_patience\n",
    "\tbest_val = None\n",
    "\tnum_epochs += old_epochs\n",
    "\t# Train the Model \n",
    "\tfor epoch in range(old_epochs, num_epochs):\n",
    "\t\t# Convert numpy array to torch Variable\n",
    "\t\tinputs = Variable(torch.from_numpy(x_train))\n",
    "\t\ttargets = Variable(torch.from_numpy(y_train), requires_grad = False)\n",
    "\n",
    "\t\t# Forward + Backward + Optimize\n",
    "\t\toptimizer.zero_grad()  \n",
    "\t\toutputs = model(inputs)\n",
    "\t\t\n",
    "\t\ttrain_loss = criterion(outputs, targets)\n",
    "\t\ttrain_loss_list.append(train_loss.data[0])\n",
    "\t\t\n",
    "\t\t#validate\n",
    "\t\tinputs = Variable(torch.from_numpy(x_val))\n",
    "\t\ttargets = Variable(torch.from_numpy(y_val), requires_grad = False)\n",
    "\t\toutputs = model(inputs)   \n",
    "\t\tval_loss = criterion(outputs, targets)\n",
    "\t\tval_loss_list.append(val_loss.data[0])\n",
    "\t\tval_err = val_error(model)\n",
    "\t\t#optimize\n",
    "\t\ttrain_loss.backward()\n",
    "\t\toptimizer.step()\n",
    "\t\t\n",
    "\t\tif (epoch == 0) or ((epoch+1) % check_point == 0) or (epoch == num_epochs-1):\n",
    "\t\t\tprint ('Epoch [%d/%d], Training Loss: %.4f, Validating Loss: %.4f, Val Error: %.4f' \n",
    "\t\t\t\t   %(epoch+1, num_epochs, train_loss.data[0], val_loss.data[0], val_err))\n",
    "\t\t\tif model_save is not None:\n",
    "\t\t\t\ttorch.save(model, '%s_%d.pth' % (model_save, epoch+1))\n",
    "\n",
    "\t\tif (best_val is None) or ((best_val is not None) and (val_err < best_val)) :\n",
    "\t\t\tbest_val = val_err\n",
    "\t\t\tpatience = max_patience\n",
    "\t\telse:\n",
    "\t\t\tpatience -= 1\n",
    "\t\tif patience == 0:\n",
    "\t\t\tprint 'Early stopping at %d' % epoch\n",
    "\t\t\tbreak\n",
    "\t\t\n",
    "\n",
    "\t# Plot the graph\n",
    "\tprint 'Plot graph from epoch 10th'\n",
    "\tplt.plot(range(len(train_loss_list))[10:], train_loss_list[10:], label='train')\n",
    "\tplt.plot(range(len(train_loss_list))[10:], val_loss_list[10:], label = 'validate')\n",
    "\tplt.legend()\n",
    "\tplt.show()\n",
    "\treturn model"
   ]
  },
  {
   "cell_type": "code",
   "execution_count": 13,
   "metadata": {},
   "outputs": [
    {
     "name": "stdout",
     "output_type": "stream",
     "text": [
      "Epoch [1/1000], Training Loss: 0.0973, Validating Loss: 0.0944\n"
     ]
    },
    {
     "name": "stderr",
     "output_type": "stream",
     "text": [
      "/home/anla/Apps/anaconda2/lib/python2.7/site-packages/torch/serialization.py:147: UserWarning: Couldn't retrieve source code for container of type ANN_1input. It won't be checked for correctness upon loading.\n",
      "  \"type \" + obj.__name__ + \". It won't be checked \"\n"
     ]
    },
    {
     "name": "stdout",
     "output_type": "stream",
     "text": [
      "Epoch [10/1000], Training Loss: 0.0875, Validating Loss: 0.0847\n",
      "Epoch [20/1000], Training Loss: 0.0780, Validating Loss: 0.0753\n",
      "Epoch [30/1000], Training Loss: 0.0705, Validating Loss: 0.0680\n",
      "Epoch [40/1000], Training Loss: 0.0645, Validating Loss: 0.0626\n",
      "Epoch [50/1000], Training Loss: 0.0601, Validating Loss: 0.0584\n",
      "Epoch [60/1000], Training Loss: 0.0567, Validating Loss: 0.0552\n",
      "Epoch [70/1000], Training Loss: 0.0542, Validating Loss: 0.0529\n",
      "Epoch [80/1000], Training Loss: 0.0525, Validating Loss: 0.0513\n",
      "Epoch [90/1000], Training Loss: 0.0512, Validating Loss: 0.0501\n",
      "Epoch [100/1000], Training Loss: 0.0503, Validating Loss: 0.0493\n",
      "Epoch [110/1000], Training Loss: 0.0496, Validating Loss: 0.0488\n",
      "Epoch [120/1000], Training Loss: 0.0493, Validating Loss: 0.0485\n",
      "Epoch [130/1000], Training Loss: 0.0489, Validating Loss: 0.0482\n",
      "Epoch [140/1000], Training Loss: 0.0486, Validating Loss: 0.0481\n",
      "Epoch [150/1000], Training Loss: 0.0485, Validating Loss: 0.0480\n",
      "Epoch [160/1000], Training Loss: 0.0483, Validating Loss: 0.0479\n",
      "Epoch [170/1000], Training Loss: 0.0482, Validating Loss: 0.0479\n",
      "Epoch [180/1000], Training Loss: 0.0480, Validating Loss: 0.0479\n",
      "Epoch [190/1000], Training Loss: 0.0480, Validating Loss: 0.0479\n",
      "Epoch [200/1000], Training Loss: 0.0478, Validating Loss: 0.0479\n",
      "Epoch [210/1000], Training Loss: 0.0477, Validating Loss: 0.0480\n",
      "Epoch [220/1000], Training Loss: 0.0476, Validating Loss: 0.0480\n",
      "Epoch [230/1000], Training Loss: 0.0475, Validating Loss: 0.0481\n",
      "Epoch [240/1000], Training Loss: 0.0473, Validating Loss: 0.0481\n",
      "Epoch [250/1000], Training Loss: 0.0473, Validating Loss: 0.0481\n",
      "Epoch [260/1000], Training Loss: 0.0471, Validating Loss: 0.0481\n",
      "Epoch [270/1000], Training Loss: 0.0471, Validating Loss: 0.0481\n",
      "Epoch [280/1000], Training Loss: 0.0471, Validating Loss: 0.0481\n",
      "Epoch [290/1000], Training Loss: 0.0470, Validating Loss: 0.0481\n",
      "Epoch [300/1000], Training Loss: 0.0469, Validating Loss: 0.0481\n",
      "Epoch [310/1000], Training Loss: 0.0468, Validating Loss: 0.0481\n",
      "Epoch [320/1000], Training Loss: 0.0468, Validating Loss: 0.0482\n",
      "Epoch [330/1000], Training Loss: 0.0467, Validating Loss: 0.0482\n",
      "Epoch [340/1000], Training Loss: 0.0466, Validating Loss: 0.0483\n",
      "Epoch [350/1000], Training Loss: 0.0466, Validating Loss: 0.0483\n",
      "Epoch [360/1000], Training Loss: 0.0466, Validating Loss: 0.0483\n",
      "Epoch [370/1000], Training Loss: 0.0465, Validating Loss: 0.0483\n",
      "Epoch [380/1000], Training Loss: 0.0465, Validating Loss: 0.0483\n",
      "Early stopping at 383\n",
      "Plot graph from epoch 10th\n"
     ]
    },
    {
     "data": {
      "image/png": "[encoded data removed]",
      "text/plain": [
       "<matplotlib.figure.Figure at 0x7f63fa0d6450>"
      ]
     },
     "metadata": {},
     "output_type": "display_data"
    }
   ],
   "source": [
    "model_ex1 = train(x_train, y_train, x_val, y_val, learning_rate = 0.01, num_epochs= 1000, check_point = 10, max_patience = 200, model_save = 'final_without-user/ex-1')"
   ]
  },
  {
   "cell_type": "code",
   "execution_count": 23,
   "metadata": {
    "scrolled": false
   },
   "outputs": [
    {
     "name": "stdout",
     "output_type": "stream",
     "text": [
      "Epoch [1/1000], Training Loss: 0.0971, Validating Loss: 0.0941, Val Error: 0.9967\n",
      "Epoch [10/1000], Training Loss: 0.0960, Validating Loss: 0.0931, Val Error: 0.9871\n",
      "Epoch [20/1000], Training Loss: 0.0949, Validating Loss: 0.0920, Val Error: 0.9762\n",
      "Epoch [30/1000], Training Loss: 0.0938, Validating Loss: 0.0908, Val Error: 0.9654\n",
      "Epoch [40/1000], Training Loss: 0.0927, Validating Loss: 0.0897, Val Error: 0.9545\n",
      "Epoch [50/1000], Training Loss: 0.0916, Validating Loss: 0.0886, Val Error: 0.9435\n",
      "Epoch [60/1000], Training Loss: 0.0904, Validating Loss: 0.0875, Val Error: 0.9324\n",
      "Epoch [70/1000], Training Loss: 0.0894, Validating Loss: 0.0864, Val Error: 0.9213\n",
      "Epoch [80/1000], Training Loss: 0.0883, Validating Loss: 0.0854, Val Error: 0.9103\n",
      "Epoch [90/1000], Training Loss: 0.0874, Validating Loss: 0.0844, Val Error: 0.8995\n",
      "Epoch [100/1000], Training Loss: 0.0864, Validating Loss: 0.0834, Val Error: 0.8891\n",
      "Epoch [110/1000], Training Loss: 0.0854, Validating Loss: 0.0824, Val Error: 0.8791\n",
      "Epoch [120/1000], Training Loss: 0.0845, Validating Loss: 0.0815, Val Error: 0.8697\n",
      "Epoch [130/1000], Training Loss: 0.0834, Validating Loss: 0.0805, Val Error: 0.8608\n",
      "Epoch [140/1000], Training Loss: 0.0826, Validating Loss: 0.0797, Val Error: 0.8524\n",
      "Epoch [150/1000], Training Loss: 0.0817, Validating Loss: 0.0788, Val Error: 0.8445\n",
      "Epoch [160/1000], Training Loss: 0.0807, Validating Loss: 0.0780, Val Error: 0.8370\n",
      "Epoch [170/1000], Training Loss: 0.0799, Validating Loss: 0.0772, Val Error: 0.8297\n",
      "Epoch [180/1000], Training Loss: 0.0791, Validating Loss: 0.0764, Val Error: 0.8227\n",
      "Epoch [190/1000], Training Loss: 0.0782, Validating Loss: 0.0757, Val Error: 0.8160\n",
      "Epoch [200/1000], Training Loss: 0.0775, Validating Loss: 0.0749, Val Error: 0.8095\n",
      "Epoch [210/1000], Training Loss: 0.0767, Validating Loss: 0.0742, Val Error: 0.8031\n",
      "Epoch [220/1000], Training Loss: 0.0760, Validating Loss: 0.0735, Val Error: 0.7969\n",
      "Epoch [230/1000], Training Loss: 0.0752, Validating Loss: 0.0728, Val Error: 0.7909\n",
      "Epoch [240/1000], Training Loss: 0.0745, Validating Loss: 0.0722, Val Error: 0.7850\n",
      "Epoch [250/1000], Training Loss: 0.0739, Validating Loss: 0.0715, Val Error: 0.7792\n",
      "Epoch [260/1000], Training Loss: 0.0732, Validating Loss: 0.0709, Val Error: 0.7735\n",
      "Epoch [270/1000], Training Loss: 0.0725, Validating Loss: 0.0703, Val Error: 0.7680\n",
      "Epoch [280/1000], Training Loss: 0.0719, Validating Loss: 0.0697, Val Error: 0.7625\n",
      "Epoch [290/1000], Training Loss: 0.0713, Validating Loss: 0.0691, Val Error: 0.7572\n",
      "Epoch [300/1000], Training Loss: 0.0707, Validating Loss: 0.0685, Val Error: 0.7520\n",
      "Epoch [310/1000], Training Loss: 0.0701, Validating Loss: 0.0679, Val Error: 0.7469\n",
      "Epoch [320/1000], Training Loss: 0.0694, Validating Loss: 0.0674, Val Error: 0.7420\n",
      "Epoch [330/1000], Training Loss: 0.0689, Validating Loss: 0.0668, Val Error: 0.7372\n",
      "Epoch [340/1000], Training Loss: 0.0683, Validating Loss: 0.0663, Val Error: 0.7325\n",
      "Epoch [350/1000], Training Loss: 0.0679, Validating Loss: 0.0658, Val Error: 0.7280\n",
      "Epoch [360/1000], Training Loss: 0.0673, Validating Loss: 0.0653, Val Error: 0.7237\n",
      "Epoch [370/1000], Training Loss: 0.0668, Validating Loss: 0.0648, Val Error: 0.7195\n",
      "Epoch [380/1000], Training Loss: 0.0662, Validating Loss: 0.0643, Val Error: 0.7155\n",
      "Epoch [390/1000], Training Loss: 0.0657, Validating Loss: 0.0638, Val Error: 0.7116\n",
      "Epoch [400/1000], Training Loss: 0.0653, Validating Loss: 0.0634, Val Error: 0.7078\n",
      "Epoch [410/1000], Training Loss: 0.0648, Validating Loss: 0.0629, Val Error: 0.7042\n",
      "Epoch [420/1000], Training Loss: 0.0643, Validating Loss: 0.0625, Val Error: 0.7007\n",
      "Epoch [430/1000], Training Loss: 0.0639, Validating Loss: 0.0621, Val Error: 0.6974\n",
      "Epoch [440/1000], Training Loss: 0.0634, Validating Loss: 0.0617, Val Error: 0.6942\n",
      "Epoch [450/1000], Training Loss: 0.0630, Validating Loss: 0.0613, Val Error: 0.6912\n",
      "Epoch [460/1000], Training Loss: 0.0626, Validating Loss: 0.0609, Val Error: 0.6882\n",
      "Epoch [470/1000], Training Loss: 0.0622, Validating Loss: 0.0605, Val Error: 0.6854\n",
      "Epoch [480/1000], Training Loss: 0.0618, Validating Loss: 0.0601, Val Error: 0.6828\n",
      "Epoch [490/1000], Training Loss: 0.0613, Validating Loss: 0.0597, Val Error: 0.6802\n",
      "Epoch [500/1000], Training Loss: 0.0610, Validating Loss: 0.0594, Val Error: 0.6778\n",
      "Epoch [510/1000], Training Loss: 0.0606, Validating Loss: 0.0590, Val Error: 0.6755\n",
      "Epoch [520/1000], Training Loss: 0.0603, Validating Loss: 0.0587, Val Error: 0.6733\n",
      "Epoch [530/1000], Training Loss: 0.0600, Validating Loss: 0.0584, Val Error: 0.6713\n",
      "Epoch [540/1000], Training Loss: 0.0596, Validating Loss: 0.0580, Val Error: 0.6693\n",
      "Epoch [550/1000], Training Loss: 0.0593, Validating Loss: 0.0577, Val Error: 0.6675\n",
      "Epoch [560/1000], Training Loss: 0.0589, Validating Loss: 0.0574, Val Error: 0.6657\n",
      "Epoch [570/1000], Training Loss: 0.0586, Validating Loss: 0.0571, Val Error: 0.6641\n",
      "Epoch [580/1000], Training Loss: 0.0583, Validating Loss: 0.0569, Val Error: 0.6626\n",
      "Epoch [590/1000], Training Loss: 0.0580, Validating Loss: 0.0565, Val Error: 0.6611\n",
      "Epoch [600/1000], Training Loss: 0.0577, Validating Loss: 0.0563, Val Error: 0.6598\n",
      "Epoch [610/1000], Training Loss: 0.0574, Validating Loss: 0.0560, Val Error: 0.6586\n",
      "Epoch [620/1000], Training Loss: 0.0571, Validating Loss: 0.0558, Val Error: 0.6574\n",
      "Epoch [630/1000], Training Loss: 0.0568, Validating Loss: 0.0555, Val Error: 0.6564\n",
      "Epoch [640/1000], Training Loss: 0.0565, Validating Loss: 0.0553, Val Error: 0.6554\n",
      "Epoch [650/1000], Training Loss: 0.0563, Validating Loss: 0.0550, Val Error: 0.6545\n",
      "Epoch [660/1000], Training Loss: 0.0560, Validating Loss: 0.0548, Val Error: 0.6538\n",
      "Epoch [670/1000], Training Loss: 0.0558, Validating Loss: 0.0546, Val Error: 0.6530\n",
      "Epoch [680/1000], Training Loss: 0.0556, Validating Loss: 0.0544, Val Error: 0.6524\n",
      "Epoch [690/1000], Training Loss: 0.0554, Validating Loss: 0.0542, Val Error: 0.6519\n",
      "Epoch [700/1000], Training Loss: 0.0551, Validating Loss: 0.0540, Val Error: 0.6514\n",
      "Epoch [710/1000], Training Loss: 0.0549, Validating Loss: 0.0538, Val Error: 0.6510\n",
      "Epoch [720/1000], Training Loss: 0.0547, Validating Loss: 0.0536, Val Error: 0.6506\n",
      "Epoch [730/1000], Training Loss: 0.0544, Validating Loss: 0.0534, Val Error: 0.6504\n",
      "Epoch [740/1000], Training Loss: 0.0543, Validating Loss: 0.0532, Val Error: 0.6502\n",
      "Epoch [750/1000], Training Loss: 0.0541, Validating Loss: 0.0530, Val Error: 0.6500\n",
      "Epoch [760/1000], Training Loss: 0.0539, Validating Loss: 0.0528, Val Error: 0.6500\n",
      "Epoch [770/1000], Training Loss: 0.0536, Validating Loss: 0.0527, Val Error: 0.6499\n",
      "Epoch [780/1000], Training Loss: 0.0535, Validating Loss: 0.0525, Val Error: 0.6500\n",
      "Epoch [790/1000], Training Loss: 0.0532, Validating Loss: 0.0524, Val Error: 0.6501\n",
      "Epoch [800/1000], Training Loss: 0.0531, Validating Loss: 0.0522, Val Error: 0.6502\n",
      "Epoch [810/1000], Training Loss: 0.0529, Validating Loss: 0.0521, Val Error: 0.6504\n",
      "Epoch [820/1000], Training Loss: 0.0528, Validating Loss: 0.0519, Val Error: 0.6507\n",
      "Epoch [830/1000], Training Loss: 0.0526, Validating Loss: 0.0518, Val Error: 0.6509\n",
      "Epoch [840/1000], Training Loss: 0.0524, Validating Loss: 0.0516, Val Error: 0.6513\n",
      "Epoch [850/1000], Training Loss: 0.0523, Validating Loss: 0.0515, Val Error: 0.6517\n",
      "Epoch [860/1000], Training Loss: 0.0522, Validating Loss: 0.0514, Val Error: 0.6521\n",
      "Epoch [870/1000], Training Loss: 0.0520, Validating Loss: 0.0513, Val Error: 0.6526\n",
      "Epoch [880/1000], Training Loss: 0.0519, Validating Loss: 0.0512, Val Error: 0.6531\n",
      "Epoch [890/1000], Training Loss: 0.0517, Validating Loss: 0.0511, Val Error: 0.6536\n",
      "Epoch [900/1000], Training Loss: 0.0516, Validating Loss: 0.0510, Val Error: 0.6542\n",
      "Epoch [910/1000], Training Loss: 0.0515, Validating Loss: 0.0508, Val Error: 0.6548\n",
      "Epoch [920/1000], Training Loss: 0.0514, Validating Loss: 0.0507, Val Error: 0.6554\n",
      "Epoch [930/1000], Training Loss: 0.0512, Validating Loss: 0.0507, Val Error: 0.6561\n",
      "Epoch [940/1000], Training Loss: 0.0511, Validating Loss: 0.0506, Val Error: 0.6567\n",
      "Epoch [950/1000], Training Loss: 0.0510, Validating Loss: 0.0505, Val Error: 0.6575\n",
      "Epoch [960/1000], Training Loss: 0.0509, Validating Loss: 0.0504, Val Error: 0.6582\n",
      "Early stopping at 967\n",
      "Plot graph from epoch 10th\n"
     ]
    },
    {
     "data": {
      "image/png": "[encoded data removed]",
      "text/plain": [
       "<matplotlib.figure.Figure at 0x7f63f2863890>"
      ]
     },
     "metadata": {},
     "output_type": "display_data"
    }
   ],
   "source": [
    "model_ex2 = train(x_train, y_train, x_val, y_val, learning_rate = 0.001, num_epochs= 1000, check_point = 10, max_patience = 200, model_save = 'final_without-user/ex-2')"
   ]
  },
  {
   "cell_type": "code",
   "execution_count": 28,
   "metadata": {
    "scrolled": true
   },
   "outputs": [
    {
     "name": "stdout",
     "output_type": "stream",
     "text": [
      "Epoch [1/2000], Training Loss: 0.0971, Validating Loss: 0.0943, Val Error: 1.0002\n",
      "Epoch [10/2000], Training Loss: 0.0960, Validating Loss: 0.0932, Val Error: 0.9900\n",
      "Epoch [20/2000], Training Loss: 0.0948, Validating Loss: 0.0920, Val Error: 0.9787\n",
      "Epoch [30/2000], Training Loss: 0.0937, Validating Loss: 0.0909, Val Error: 0.9674\n",
      "Epoch [40/2000], Training Loss: 0.0925, Validating Loss: 0.0897, Val Error: 0.9561\n",
      "Epoch [50/2000], Training Loss: 0.0914, Validating Loss: 0.0886, Val Error: 0.9449\n",
      "Epoch [60/2000], Training Loss: 0.0903, Validating Loss: 0.0875, Val Error: 0.9337\n",
      "Epoch [70/2000], Training Loss: 0.0893, Validating Loss: 0.0864, Val Error: 0.9225\n",
      "Epoch [80/2000], Training Loss: 0.0881, Validating Loss: 0.0853, Val Error: 0.9115\n",
      "Epoch [90/2000], Training Loss: 0.0871, Validating Loss: 0.0843, Val Error: 0.9006\n",
      "Epoch [100/2000], Training Loss: 0.0861, Validating Loss: 0.0833, Val Error: 0.8902\n",
      "Epoch [110/2000], Training Loss: 0.0851, Validating Loss: 0.0823, Val Error: 0.8802\n",
      "Epoch [120/2000], Training Loss: 0.0843, Validating Loss: 0.0813, Val Error: 0.8706\n",
      "Epoch [130/2000], Training Loss: 0.0833, Validating Loss: 0.0804, Val Error: 0.8615\n",
      "Epoch [140/2000], Training Loss: 0.0824, Validating Loss: 0.0796, Val Error: 0.8529\n",
      "Epoch [150/2000], Training Loss: 0.0815, Validating Loss: 0.0787, Val Error: 0.8447\n",
      "Epoch [160/2000], Training Loss: 0.0806, Validating Loss: 0.0779, Val Error: 0.8370\n",
      "Epoch [170/2000], Training Loss: 0.0798, Validating Loss: 0.0771, Val Error: 0.8296\n",
      "Epoch [180/2000], Training Loss: 0.0790, Validating Loss: 0.0764, Val Error: 0.8226\n",
      "Epoch [190/2000], Training Loss: 0.0781, Validating Loss: 0.0756, Val Error: 0.8159\n",
      "Epoch [200/2000], Training Loss: 0.0774, Validating Loss: 0.0749, Val Error: 0.8094\n",
      "Epoch [210/2000], Training Loss: 0.0767, Validating Loss: 0.0742, Val Error: 0.8031\n",
      "Epoch [220/2000], Training Loss: 0.0759, Validating Loss: 0.0735, Val Error: 0.7970\n",
      "Epoch [230/2000], Training Loss: 0.0752, Validating Loss: 0.0728, Val Error: 0.7909\n",
      "Epoch [240/2000], Training Loss: 0.0745, Validating Loss: 0.0722, Val Error: 0.7850\n",
      "Epoch [250/2000], Training Loss: 0.0739, Validating Loss: 0.0715, Val Error: 0.7792\n",
      "Epoch [260/2000], Training Loss: 0.0732, Validating Loss: 0.0709, Val Error: 0.7735\n",
      "Epoch [270/2000], Training Loss: 0.0725, Validating Loss: 0.0703, Val Error: 0.7679\n",
      "Epoch [280/2000], Training Loss: 0.0719, Validating Loss: 0.0697, Val Error: 0.7624\n",
      "Epoch [290/2000], Training Loss: 0.0713, Validating Loss: 0.0691, Val Error: 0.7570\n",
      "Epoch [300/2000], Training Loss: 0.0707, Validating Loss: 0.0685, Val Error: 0.7518\n",
      "Epoch [310/2000], Training Loss: 0.0700, Validating Loss: 0.0679, Val Error: 0.7468\n",
      "Epoch [320/2000], Training Loss: 0.0695, Validating Loss: 0.0674, Val Error: 0.7419\n",
      "Epoch [330/2000], Training Loss: 0.0690, Validating Loss: 0.0669, Val Error: 0.7371\n",
      "Epoch [340/2000], Training Loss: 0.0684, Validating Loss: 0.0663, Val Error: 0.7325\n",
      "Epoch [350/2000], Training Loss: 0.0678, Validating Loss: 0.0658, Val Error: 0.7280\n",
      "Epoch [360/2000], Training Loss: 0.0673, Validating Loss: 0.0653, Val Error: 0.7237\n",
      "Epoch [370/2000], Training Loss: 0.0668, Validating Loss: 0.0648, Val Error: 0.7195\n",
      "Epoch [380/2000], Training Loss: 0.0662, Validating Loss: 0.0643, Val Error: 0.7155\n",
      "Epoch [390/2000], Training Loss: 0.0657, Validating Loss: 0.0638, Val Error: 0.7116\n",
      "Epoch [400/2000], Training Loss: 0.0652, Validating Loss: 0.0634, Val Error: 0.7078\n",
      "Epoch [410/2000], Training Loss: 0.0648, Validating Loss: 0.0629, Val Error: 0.7042\n",
      "Epoch [420/2000], Training Loss: 0.0644, Validating Loss: 0.0625, Val Error: 0.7007\n",
      "Epoch [430/2000], Training Loss: 0.0639, Validating Loss: 0.0621, Val Error: 0.6974\n",
      "Epoch [440/2000], Training Loss: 0.0634, Validating Loss: 0.0617, Val Error: 0.6942\n",
      "Epoch [450/2000], Training Loss: 0.0630, Validating Loss: 0.0612, Val Error: 0.6911\n",
      "Epoch [460/2000], Training Loss: 0.0626, Validating Loss: 0.0609, Val Error: 0.6882\n",
      "Epoch [470/2000], Training Loss: 0.0622, Validating Loss: 0.0605, Val Error: 0.6854\n",
      "Epoch [480/2000], Training Loss: 0.0618, Validating Loss: 0.0601, Val Error: 0.6827\n",
      "Epoch [490/2000], Training Loss: 0.0614, Validating Loss: 0.0597, Val Error: 0.6802\n",
      "Epoch [500/2000], Training Loss: 0.0610, Validating Loss: 0.0594, Val Error: 0.6777\n",
      "Epoch [510/2000], Training Loss: 0.0606, Validating Loss: 0.0590, Val Error: 0.6754\n",
      "Epoch [520/2000], Training Loss: 0.0603, Validating Loss: 0.0587, Val Error: 0.6732\n",
      "Epoch [530/2000], Training Loss: 0.0600, Validating Loss: 0.0584, Val Error: 0.6711\n",
      "Epoch [540/2000], Training Loss: 0.0596, Validating Loss: 0.0580, Val Error: 0.6691\n",
      "Epoch [550/2000], Training Loss: 0.0593, Validating Loss: 0.0577, Val Error: 0.6673\n",
      "Epoch [560/2000], Training Loss: 0.0589, Validating Loss: 0.0574, Val Error: 0.6655\n",
      "Epoch [570/2000], Training Loss: 0.0587, Validating Loss: 0.0571, Val Error: 0.6639\n",
      "Epoch [580/2000], Training Loss: 0.0583, Validating Loss: 0.0568, Val Error: 0.6623\n",
      "Epoch [590/2000], Training Loss: 0.0580, Validating Loss: 0.0566, Val Error: 0.6609\n",
      "Epoch [600/2000], Training Loss: 0.0577, Validating Loss: 0.0563, Val Error: 0.6595\n",
      "Epoch [610/2000], Training Loss: 0.0575, Validating Loss: 0.0560, Val Error: 0.6583\n",
      "Epoch [620/2000], Training Loss: 0.0572, Validating Loss: 0.0558, Val Error: 0.6571\n",
      "Epoch [630/2000], Training Loss: 0.0569, Validating Loss: 0.0555, Val Error: 0.6560\n",
      "Epoch [640/2000], Training Loss: 0.0566, Validating Loss: 0.0553, Val Error: 0.6550\n",
      "Epoch [650/2000], Training Loss: 0.0563, Validating Loss: 0.0550, Val Error: 0.6541\n",
      "Epoch [660/2000], Training Loss: 0.0561, Validating Loss: 0.0548, Val Error: 0.6533\n",
      "Epoch [670/2000], Training Loss: 0.0558, Validating Loss: 0.0546, Val Error: 0.6526\n",
      "Epoch [680/2000], Training Loss: 0.0556, Validating Loss: 0.0544, Val Error: 0.6519\n",
      "Epoch [690/2000], Training Loss: 0.0554, Validating Loss: 0.0542, Val Error: 0.6513\n",
      "Epoch [700/2000], Training Loss: 0.0552, Validating Loss: 0.0539, Val Error: 0.6508\n",
      "Epoch [710/2000], Training Loss: 0.0549, Validating Loss: 0.0538, Val Error: 0.6504\n",
      "Epoch [720/2000], Training Loss: 0.0547, Validating Loss: 0.0536, Val Error: 0.6500\n",
      "Epoch [730/2000], Training Loss: 0.0545, Validating Loss: 0.0534, Val Error: 0.6497\n",
      "Epoch [740/2000], Training Loss: 0.0543, Validating Loss: 0.0532, Val Error: 0.6495\n",
      "Epoch [750/2000], Training Loss: 0.0541, Validating Loss: 0.0530, Val Error: 0.6493\n",
      "Epoch [760/2000], Training Loss: 0.0539, Validating Loss: 0.0529, Val Error: 0.6492\n",
      "Epoch [770/2000], Training Loss: 0.0537, Validating Loss: 0.0527, Val Error: 0.6491\n",
      "Epoch [780/2000], Training Loss: 0.0535, Validating Loss: 0.0525, Val Error: 0.6491\n",
      "Epoch [790/2000], Training Loss: 0.0533, Validating Loss: 0.0524, Val Error: 0.6492\n",
      "Epoch [800/2000], Training Loss: 0.0531, Validating Loss: 0.0522, Val Error: 0.6493\n",
      "Epoch [810/2000], Training Loss: 0.0530, Validating Loss: 0.0521, Val Error: 0.6495\n",
      "Epoch [820/2000], Training Loss: 0.0528, Validating Loss: 0.0519, Val Error: 0.6497\n",
      "Epoch [830/2000], Training Loss: 0.0527, Validating Loss: 0.0518, Val Error: 0.6499\n",
      "Epoch [840/2000], Training Loss: 0.0525, Validating Loss: 0.0517, Val Error: 0.6502\n",
      "Epoch [850/2000], Training Loss: 0.0523, Validating Loss: 0.0515, Val Error: 0.6506\n",
      "Epoch [860/2000], Training Loss: 0.0522, Validating Loss: 0.0514, Val Error: 0.6510\n",
      "Epoch [870/2000], Training Loss: 0.0521, Validating Loss: 0.0513, Val Error: 0.6514\n",
      "Epoch [880/2000], Training Loss: 0.0519, Validating Loss: 0.0512, Val Error: 0.6519\n",
      "Epoch [890/2000], Training Loss: 0.0518, Validating Loss: 0.0510, Val Error: 0.6524\n",
      "Epoch [900/2000], Training Loss: 0.0516, Validating Loss: 0.0509, Val Error: 0.6529\n",
      "Epoch [910/2000], Training Loss: 0.0515, Validating Loss: 0.0508, Val Error: 0.6535\n",
      "Epoch [920/2000], Training Loss: 0.0514, Validating Loss: 0.0507, Val Error: 0.6541\n",
      "Epoch [930/2000], Training Loss: 0.0512, Validating Loss: 0.0506, Val Error: 0.6547\n",
      "Epoch [940/2000], Training Loss: 0.0511, Validating Loss: 0.0505, Val Error: 0.6554\n",
      "Epoch [950/2000], Training Loss: 0.0509, Validating Loss: 0.0505, Val Error: 0.6561\n",
      "Epoch [960/2000], Training Loss: 0.0508, Validating Loss: 0.0504, Val Error: 0.6568\n",
      "Epoch [970/2000], Training Loss: 0.0507, Validating Loss: 0.0503, Val Error: 0.6575\n"
     ]
    },
    {
     "name": "stdout",
     "output_type": "stream",
     "text": [
      "Epoch [980/2000], Training Loss: 0.0506, Validating Loss: 0.0502, Val Error: 0.6583\n",
      "Epoch [990/2000], Training Loss: 0.0505, Validating Loss: 0.0501, Val Error: 0.6591\n",
      "Epoch [1000/2000], Training Loss: 0.0504, Validating Loss: 0.0501, Val Error: 0.6599\n",
      "Epoch [1010/2000], Training Loss: 0.0502, Validating Loss: 0.0500, Val Error: 0.6607\n",
      "Epoch [1020/2000], Training Loss: 0.0501, Validating Loss: 0.0499, Val Error: 0.6616\n",
      "Epoch [1030/2000], Training Loss: 0.0501, Validating Loss: 0.0499, Val Error: 0.6624\n",
      "Epoch [1040/2000], Training Loss: 0.0499, Validating Loss: 0.0498, Val Error: 0.6633\n",
      "Epoch [1050/2000], Training Loss: 0.0499, Validating Loss: 0.0497, Val Error: 0.6642\n",
      "Epoch [1060/2000], Training Loss: 0.0498, Validating Loss: 0.0497, Val Error: 0.6651\n",
      "Epoch [1070/2000], Training Loss: 0.0498, Validating Loss: 0.0496, Val Error: 0.6661\n",
      "Epoch [1080/2000], Training Loss: 0.0497, Validating Loss: 0.0496, Val Error: 0.6670\n",
      "Epoch [1090/2000], Training Loss: 0.0495, Validating Loss: 0.0495, Val Error: 0.6680\n",
      "Epoch [1100/2000], Training Loss: 0.0495, Validating Loss: 0.0495, Val Error: 0.6690\n",
      "Epoch [1110/2000], Training Loss: 0.0493, Validating Loss: 0.0495, Val Error: 0.6700\n",
      "Epoch [1120/2000], Training Loss: 0.0493, Validating Loss: 0.0494, Val Error: 0.6710\n",
      "Epoch [1130/2000], Training Loss: 0.0492, Validating Loss: 0.0494, Val Error: 0.6721\n",
      "Epoch [1140/2000], Training Loss: 0.0491, Validating Loss: 0.0494, Val Error: 0.6731\n",
      "Epoch [1150/2000], Training Loss: 0.0490, Validating Loss: 0.0493, Val Error: 0.6741\n",
      "Epoch [1160/2000], Training Loss: 0.0490, Validating Loss: 0.0493, Val Error: 0.6752\n",
      "Epoch [1170/2000], Training Loss: 0.0489, Validating Loss: 0.0493, Val Error: 0.6763\n",
      "Epoch [1180/2000], Training Loss: 0.0488, Validating Loss: 0.0493, Val Error: 0.6774\n",
      "Epoch [1190/2000], Training Loss: 0.0488, Validating Loss: 0.0492, Val Error: 0.6785\n",
      "Epoch [1200/2000], Training Loss: 0.0487, Validating Loss: 0.0492, Val Error: 0.6796\n",
      "Epoch [1210/2000], Training Loss: 0.0486, Validating Loss: 0.0492, Val Error: 0.6807\n",
      "Epoch [1220/2000], Training Loss: 0.0486, Validating Loss: 0.0492, Val Error: 0.6818\n",
      "Epoch [1230/2000], Training Loss: 0.0486, Validating Loss: 0.0491, Val Error: 0.6829\n",
      "Epoch [1240/2000], Training Loss: 0.0485, Validating Loss: 0.0491, Val Error: 0.6840\n",
      "Epoch [1250/2000], Training Loss: 0.0484, Validating Loss: 0.0491, Val Error: 0.6851\n",
      "Epoch [1260/2000], Training Loss: 0.0483, Validating Loss: 0.0491, Val Error: 0.6863\n",
      "Epoch [1270/2000], Training Loss: 0.0483, Validating Loss: 0.0491, Val Error: 0.6874\n",
      "Early stopping at 1273\n",
      "Plot graph from epoch 10th\n"
     ]
    },
    {
     "data": {
      "image/png": "[encoded data removed]",
      "text/plain": [
       "<matplotlib.figure.Figure at 0x7f63fac5af90>"
      ]
     },
     "metadata": {},
     "output_type": "display_data"
    }
   ],
   "source": [
    "model_ex2_3 = train(x_train, y_train, x_val, y_val, learning_rate = 0.001, num_epochs= 2000, old_epochs = 0, check_point = 10, max_patience = 500, model_save = 'final_without-user/ex-3')"
   ]
  }
 ],
 "metadata": {
  "kernelspec": {
   "display_name": "Python 2",
   "language": "python",
   "name": "python2"
  },
  "language_info": {
   "codemirror_mode": {
    "name": "ipython",
    "version": 2
   },
   "file_extension": ".py",
   "mimetype": "text/x-python",
   "name": "python",
   "nbconvert_exporter": "python",
   "pygments_lexer": "ipython2",
   "version": "2.7.13"
  }
 },
 "nbformat": 4,
 "nbformat_minor": 2
}
