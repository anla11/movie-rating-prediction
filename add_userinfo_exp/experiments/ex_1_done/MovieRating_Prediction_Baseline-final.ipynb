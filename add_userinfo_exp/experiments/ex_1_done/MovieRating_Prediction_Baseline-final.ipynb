{
 "cells": [
  {
   "cell_type": "code",
   "execution_count": 1,
   "metadata": {},
   "outputs": [
    {
     "name": "stdout",
     "output_type": "stream",
     "text": [
      "0.1.12\n"
     ]
    }
   ],
   "source": [
    "import torch\n",
    "print torch.__version__\n",
    "import numpy as np"
   ]
  },
  {
   "cell_type": "code",
   "execution_count": 2,
   "metadata": {
    "collapsed": true
   },
   "outputs": [],
   "source": [
    "import torch.nn as nn\n",
    "import torch.nn.functional as functional\n",
    "from torch.autograd import Variable"
   ]
  },
  {
   "cell_type": "code",
   "execution_count": 3,
   "metadata": {
    "collapsed": true
   },
   "outputs": [],
   "source": [
    "import matplotlib.pyplot as plt\n",
    "import pandas as pd\n",
    "%matplotlib inline"
   ]
  },
  {
   "cell_type": "markdown",
   "metadata": {},
   "source": [
    "### Read data"
   ]
  },
  {
   "cell_type": "code",
   "execution_count": 4,
   "metadata": {
    "collapsed": true
   },
   "outputs": [],
   "source": [
    "tmp = pd.read_csv('../../../data/input_formated/final/x_item_train.csv').iloc[:,1:]"
   ]
  },
  {
   "cell_type": "code",
   "execution_count": 5,
   "metadata": {},
   "outputs": [
    {
     "name": "stdout",
     "output_type": "stream",
     "text": [
      "(2371, 18)\n"
     ]
    }
   ],
   "source": [
    "x_train = np.array(tmp[[u'movie_id', u'category_Action', u'category_Adventure',\n",
    "       u'category_Animation', u'category_Children\\'s', u'category_Comedy',\n",
    "       u'category_Crime', u'category_Documentary', u'category_Drama',\n",
    "       u'category_Fantasy', u'category_Film-Noir', u'category_Horror',\n",
    "       u'category_Musical', u'category_Mystery', u'category_Romance',\n",
    "       u'category_Sci-Fi', u'category_Thriller', u'category_War',\n",
    "       u'category_Western']].drop_duplicates(), dtype = np.float32)[:, 1:]\n",
    "print x_train.shape"
   ]
  },
  {
   "cell_type": "code",
   "execution_count": 6,
   "metadata": {
    "collapsed": true
   },
   "outputs": [],
   "source": [
    "tmp = pd.read_csv('../../../data/input_formated/final/y_train.csv').iloc[:,1:]"
   ]
  },
  {
   "cell_type": "code",
   "execution_count": 7,
   "metadata": {},
   "outputs": [
    {
     "name": "stdout",
     "output_type": "stream",
     "text": [
      "(2371, 1)\n"
     ]
    }
   ],
   "source": [
    "y_train = np.array(tmp[['movie_id', 'mean_rate']].drop_duplicates(), dtype = np.float32)[:, 1:].reshape((-1, 1))\n",
    "print y_train.shape"
   ]
  },
  {
   "cell_type": "code",
   "execution_count": 8,
   "metadata": {},
   "outputs": [
    {
     "name": "stdout",
     "output_type": "stream",
     "text": [
      "(593, 18)\n"
     ]
    }
   ],
   "source": [
    "tmp = pd.read_csv('../../../data/input_formated/final/x_item_val.csv').iloc[:,1:]\n",
    "x_val = np.array(tmp[[u'movie_id', u'category_Action', u'category_Adventure',\n",
    "       u'category_Animation', u'category_Children\\'s', u'category_Comedy',\n",
    "       u'category_Crime', u'category_Documentary', u'category_Drama',\n",
    "       u'category_Fantasy', u'category_Film-Noir', u'category_Horror',\n",
    "       u'category_Musical', u'category_Mystery', u'category_Romance',\n",
    "       u'category_Sci-Fi', u'category_Thriller', u'category_War',\n",
    "       u'category_Western']].drop_duplicates(), dtype = np.float32)[:, 1:]\n",
    "print x_val.shape"
   ]
  },
  {
   "cell_type": "code",
   "execution_count": 9,
   "metadata": {
    "collapsed": true
   },
   "outputs": [],
   "source": [
    "tmp = pd.read_csv('../../../data/input_formated/final/y_val.csv').iloc[:,1:]"
   ]
  },
  {
   "cell_type": "code",
   "execution_count": 10,
   "metadata": {},
   "outputs": [
    {
     "name": "stdout",
     "output_type": "stream",
     "text": [
      "(593, 1)\n"
     ]
    }
   ],
   "source": [
    "y_val = np.array(tmp[['movie_id', 'mean_rate']].drop_duplicates(), dtype = np.float32)[:, 1:].reshape((-1, 1))\n",
    "print y_val.shape"
   ]
  },
  {
   "cell_type": "markdown",
   "metadata": {},
   "source": [
    "### Model"
   ]
  },
  {
   "cell_type": "code",
   "execution_count": 11,
   "metadata": {
    "collapsed": true
   },
   "outputs": [],
   "source": [
    "class LinearRegression(nn.Module):\n",
    "    def __init__(self, input_size, output_size):\n",
    "        super(LinearRegression, self).__init__()\n",
    "        self.linear = nn.Linear(input_size, output_size)\n",
    "    \n",
    "    def forward(self, x):\n",
    "        return self.linear(x)"
   ]
  },
  {
   "cell_type": "markdown",
   "metadata": {},
   "source": [
    "### Train"
   ]
  },
  {
   "cell_type": "markdown",
   "metadata": {},
   "source": [
    "### ANN"
   ]
  },
  {
   "cell_type": "code",
   "execution_count": 12,
   "metadata": {
    "collapsed": true
   },
   "outputs": [],
   "source": [
    "# Neural Network Model (1 hidden layer)\n",
    "class ANN_1hidden(nn.Module):\n",
    "    def __init__(self, input_size, hidden_size, output_size):\n",
    "        super(ANN_1hidden, self).__init__()\n",
    "        self.fc1 = nn.Linear(input_size, hidden_size) \n",
    "        self.activate = nn.Sigmoid()\n",
    "        self.fc2 = nn.Linear(hidden_size, output_size)\n",
    "        self.bn = nn.BatchNorm1d(output_size, output_size)\n",
    "    \n",
    "    def forward(self, x):\n",
    "        out = self.fc1(x)\n",
    "        out = self.activate(out)\n",
    "        out = self.fc2(out)\n",
    "        out = self.bn(out)\n",
    "        return out"
   ]
  },
  {
   "cell_type": "code",
   "execution_count": 13,
   "metadata": {
    "collapsed": true
   },
   "outputs": [],
   "source": [
    "def train(x_train, y_train, x_val, y_val, learning_rate, num_epochs, check_point, model_save = None):\n",
    "\tmodel = ANN_1hidden(x_train.shape[1], 10, y_train.shape[1])\n",
    "\tcriterion = nn.MSELoss()\n",
    "\toptimizer = torch.optim.Adam(model.parameters(), lr=learning_rate)\n",
    "\ttrain_loss_list, val_loss_list = [], []\n",
    "\n",
    "\t#early stopping\n",
    "\tmax_patience = 100\n",
    "\tpatience = max_patience\n",
    "\tbest_val = None\n",
    "\t\n",
    "\t# Train the Model \n",
    "\tfor epoch in range(num_epochs):\n",
    "\t\t# Convert numpy array to torch Variable\n",
    "\t\tinputs = Variable(torch.from_numpy(x_train))\n",
    "\t\ttargets = Variable(torch.from_numpy(y_train), requires_grad = False)\n",
    "\n",
    "\t\t# Forward + Backward + Optimize\n",
    "\t\toptimizer.zero_grad()  \n",
    "\t\toutputs = model(inputs)\n",
    "\t\t\n",
    "\t\ttrain_loss = criterion(outputs, targets).sum()\n",
    "\t\ttrain_loss_list.append(train_loss.data[0])\n",
    "\t\t\n",
    "\t\t#validate\n",
    "\t\tinputs = Variable(torch.from_numpy(x_val))\n",
    "\t\ttargets = Variable(torch.from_numpy(y_val), requires_grad = False)\n",
    "\t\toutputs = model(inputs)   \n",
    "\t\tval_loss = criterion(outputs, targets).sum().data[0]\n",
    "\t\tval_loss_list.append(val_loss)\n",
    "\t\t\n",
    "\t\t#optimize\n",
    "\t\ttrain_loss.backward()\n",
    "\t\toptimizer.step()\n",
    "\t\t\n",
    "\t\tif (epoch == 0) or ((epoch+1) % check_point == 0) or (epoch == num_epochs-1):\n",
    "\t\t\tprint ('Epoch [%d/%d], Training Loss: %.4f, Validating Loss: %.4f' \n",
    "\t\t\t\t   %(epoch+1, num_epochs, train_loss.data[0], val_loss))\n",
    "\t\t\tif model_save is not None:            \n",
    "\t\t\t\ttorch.save(model, '%s/%d.pth' % (model_save, epoch+1))\n",
    "\n",
    "\t\tif (best_val is None) or ((best_val is not None) and (val_loss < best_val)) :\n",
    "\t\t\tbest_val = val_loss\n",
    "\t\t\tpatience =max_patience\n",
    "\t\telse:\n",
    "\t\t\tpatience -= 1\n",
    "\t\tif patience == 0:\n",
    "\t\t\tprint 'Early stopping at %d' % epoch\n",
    "\t\t\tbreak\n",
    "\t\t\n",
    "\n",
    "\t# Plot the graph\n",
    "\tprint 'Plot graph from epoch 10th'\n",
    "\tplt.plot(range(len(train_loss_list))[10:], train_loss_list[10:], label='train')\n",
    "\tplt.plot(range(len(train_loss_list))[10:], val_loss_list[10:], label = 'validate')\n",
    "\tplt.legend()\n",
    "\tplt.show()\n",
    "\treturn model"
   ]
  },
  {
   "cell_type": "code",
   "execution_count": 14,
   "metadata": {},
   "outputs": [
    {
     "name": "stdout",
     "output_type": "stream",
     "text": [
      "Epoch [1/10000], Training Loss: 0.4369, Validating Loss: 0.4341\n",
      "Epoch [100/10000], Training Loss: 0.0152, Validating Loss: 0.0166\n",
      "Epoch [200/10000], Training Loss: 0.0145, Validating Loss: 0.0172\n",
      "Early stopping at 230\n",
      "Plot graph from epoch 10th\n"
     ]
    },
    {
     "data": {
      "image/png": "[encoded data removed]",
      "text/plain": [
       "<matplotlib.figure.Figure at 0x7fbb04dc4690>"
      ]
     },
     "metadata": {},
     "output_type": "display_data"
    }
   ],
   "source": [
    "model = train(x_train, y_train, x_val, y_val, learning_rate = 0.1, num_epochs= 10000, check_point = 100)"
   ]
  },
  {
   "cell_type": "markdown",
   "metadata": {},
   "source": [
    "# Test"
   ]
  },
  {
   "cell_type": "code",
   "execution_count": 15,
   "metadata": {
    "collapsed": true
   },
   "outputs": [],
   "source": [
    "def rmse(y, y_hat):\n",
    "    \"\"\"Compute root mean squared error\"\"\"\n",
    "    return torch.sqrt(torch.mean((y - y_hat).pow(2)))"
   ]
  },
  {
   "cell_type": "code",
   "execution_count": 16,
   "metadata": {},
   "outputs": [
    {
     "data": {
      "text/plain": [
       "ANN_1hidden (\n",
       "  (fc1): Linear (18 -> 10)\n",
       "  (activate): Sigmoid ()\n",
       "  (fc2): Linear (10 -> 1)\n",
       "  (bn): BatchNorm1d(1, eps=1, momentum=0.1, affine=True)\n",
       ")"
      ]
     },
     "execution_count": 16,
     "metadata": {},
     "output_type": "execute_result"
    }
   ],
   "source": [
    "model"
   ]
  },
  {
   "cell_type": "code",
   "execution_count": 17,
   "metadata": {},
   "outputs": [
    {
     "data": {
      "text/plain": [
       "Variable containing:\n",
       " 0.6008\n",
       "[torch.FloatTensor of size 1]"
      ]
     },
     "execution_count": 17,
     "metadata": {},
     "output_type": "execute_result"
    }
   ],
   "source": [
    "predict = model(Variable(torch.from_numpy(x_train))) * 5\n",
    "targets = Variable(torch.from_numpy(np.array(y_train * 5, dtype=np.float32)))\n",
    "rmse(predict, targets).sum()"
   ]
  },
  {
   "cell_type": "code",
   "execution_count": 18,
   "metadata": {},
   "outputs": [
    {
     "data": {
      "text/plain": [
       "Variable containing:\n",
       " 0.6563\n",
       "[torch.FloatTensor of size 1]"
      ]
     },
     "execution_count": 18,
     "metadata": {},
     "output_type": "execute_result"
    }
   ],
   "source": [
    "predict = model(Variable(torch.from_numpy(x_val))) * 5\n",
    "targets = Variable(torch.from_numpy(np.array(y_val * 5, dtype=np.float32)))\n",
    "rmse(predict, targets).sum()"
   ]
  },
  {
   "cell_type": "code",
   "execution_count": 19,
   "metadata": {},
   "outputs": [
    {
     "name": "stderr",
     "output_type": "stream",
     "text": [
      "/home/anla/Apps/anaconda2/lib/python2.7/site-packages/torch/serialization.py:147: UserWarning: Couldn't retrieve source code for container of type ANN_1hidden. It won't be checked for correctness upon loading.\n",
      "  \"type \" + obj.__name__ + \". It won't be checked \"\n"
     ]
    }
   ],
   "source": [
    "torch.save(model, 'baseline.pth')"
   ]
  },
  {
   "cell_type": "code",
   "execution_count": null,
   "metadata": {
    "collapsed": true
   },
   "outputs": [],
   "source": []
  }
 ],
 "metadata": {
  "kernelspec": {
   "display_name": "Python 2",
   "language": "python",
   "name": "python2"
  },
  "language_info": {
   "codemirror_mode": {
    "name": "ipython",
    "version": 2
   },
   "file_extension": ".py",
   "mimetype": "text/x-python",
   "name": "python",
   "nbconvert_exporter": "python",
   "pygments_lexer": "ipython2",
   "version": "2.7.13"
  }
 },
 "nbformat": 4,
 "nbformat_minor": 2
}
