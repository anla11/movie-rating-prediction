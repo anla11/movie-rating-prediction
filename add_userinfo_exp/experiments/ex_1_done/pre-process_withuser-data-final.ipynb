{
 "cells": [
  {
   "cell_type": "code",
   "execution_count": 1,
   "metadata": {
    "collapsed": true
   },
   "outputs": [],
   "source": [
    "import numpy as np\n",
    "import torch\n",
    "import pandas as pd\n",
    "import matplotlib.pyplot as plt"
   ]
  },
  {
   "cell_type": "code",
   "execution_count": 2,
   "metadata": {
    "collapsed": true
   },
   "outputs": [],
   "source": [
    "import torch.nn as nn\n",
    "import torch.nn.functional as functional\n",
    "from torch.autograd import Variable"
   ]
  },
  {
   "cell_type": "code",
   "execution_count": 3,
   "metadata": {
    "collapsed": true
   },
   "outputs": [],
   "source": [
    "def convert_cate_tocol(df, id_cols, cate_col, multi_cate, merge = True):\n",
    "\tdef mapping(cat_list, all_categories):\n",
    "\t\tcategory_vec = np.zeros(len(all_categories)).astype(int)\n",
    "\t\tif multi_cate == True:\n",
    "\t\t\tcat_list = set(cat_list)\n",
    "\t\telse:\n",
    "\t\t\tcat_list = set([cat_list])\n",
    "\t\tfor i in range(len(all_categories)):\n",
    "\t\t\tif all_categories[i] in cat_list:\n",
    "\t\t\t\tcategory_vec[i] = 1\n",
    "\t\treturn category_vec\n",
    "\t\n",
    "\tall_categories = None\n",
    "\tif multi_cate:\n",
    "\t\tall_categories = np.unique(sum(df[cate_col], []))\n",
    "\telse:\n",
    "\t\tall_categories = np.unique(df[cate_col])\n",
    "\t\n",
    "\tres_df = pd.DataFrame([mapping(df.iloc[i][cate_col], all_categories) for i in range(len(df))],columns=all_categories)\n",
    "\tres_df.columns = ['%s_%s' % (cate_col, col) for col in res_df.columns]\n",
    "\tfor col in id_cols:\n",
    "\t\tres_df[col] = df[col]\n",
    "\t\t\n",
    "\tif merge == True:\n",
    "\t\tres_df = pd.merge(res_df, df, on = id_cols)\n",
    "\treturn res_df"
   ]
  },
  {
   "cell_type": "markdown",
   "metadata": {},
   "source": [
    "# Read data"
   ]
  },
  {
   "cell_type": "markdown",
   "metadata": {},
   "source": [
    "## movie"
   ]
  },
  {
   "cell_type": "code",
   "execution_count": 4,
   "metadata": {
    "collapsed": true
   },
   "outputs": [],
   "source": [
    "movie_all = pd.read_csv('../../../data/pre-processed/movie_all.csv').iloc[:, [1] + range(16, 35)]"
   ]
  },
  {
   "cell_type": "code",
   "execution_count": 5,
   "metadata": {},
   "outputs": [
    {
     "name": "stdout",
     "output_type": "stream",
     "text": [
      "<class 'pandas.core.frame.DataFrame'>\n",
      "RangeIndex: 3706 entries, 0 to 3705\n",
      "Data columns (total 20 columns):\n",
      "movie_id                3706 non-null int64\n",
      "category_Action         3706 non-null int64\n",
      "category_Adventure      3706 non-null int64\n",
      "category_Animation      3706 non-null int64\n",
      "category_Children's     3706 non-null int64\n",
      "category_Comedy         3706 non-null int64\n",
      "category_Crime          3706 non-null int64\n",
      "category_Documentary    3706 non-null int64\n",
      "category_Drama          3706 non-null int64\n",
      "category_Fantasy        3706 non-null int64\n",
      "category_Film-Noir      3706 non-null int64\n",
      "category_Horror         3706 non-null int64\n",
      "category_Musical        3706 non-null int64\n",
      "category_Mystery        3706 non-null int64\n",
      "category_Romance        3706 non-null int64\n",
      "category_Sci-Fi         3706 non-null int64\n",
      "category_Thriller       3706 non-null int64\n",
      "category_War            3706 non-null int64\n",
      "category_Western        3706 non-null int64\n",
      "name                    3706 non-null object\n",
      "dtypes: int64(19), object(1)\n",
      "memory usage: 579.1+ KB\n"
     ]
    }
   ],
   "source": [
    "movie_all.info()"
   ]
  },
  {
   "cell_type": "markdown",
   "metadata": {},
   "source": [
    "## user"
   ]
  },
  {
   "cell_type": "code",
   "execution_count": 6,
   "metadata": {},
   "outputs": [
    {
     "name": "stdout",
     "output_type": "stream",
     "text": [
      "   age gender  occupation  user_id zipcode\n",
      "0    1      F          10        1   48067\n",
      "1   56      M          16        2   70072\n",
      "2   25      M          15        3   55117\n",
      "3   45      M           7        4   02460\n",
      "4   25      M          20        5   55455\n"
     ]
    }
   ],
   "source": [
    "user_info = pd.read_csv('../../../data/pre-processed/user_all.csv').iloc[:, 1:]\n",
    "print user_info.head()"
   ]
  },
  {
   "cell_type": "code",
   "execution_count": 7,
   "metadata": {
    "collapsed": true
   },
   "outputs": [],
   "source": [
    "user_info['zipcode'] = np.array(user_info['zipcode']).astype(int)"
   ]
  },
  {
   "cell_type": "code",
   "execution_count": 8,
   "metadata": {},
   "outputs": [
    {
     "data": {
      "text/html": [
       "<div>\n",
       "<style>\n",
       "    .dataframe thead tr:only-child th {\n",
       "        text-align: right;\n",
       "    }\n",
       "\n",
       "    .dataframe thead th {\n",
       "        text-align: left;\n",
       "    }\n",
       "\n",
       "    .dataframe tbody tr th {\n",
       "        vertical-align: top;\n",
       "    }\n",
       "</style>\n",
       "<table border=\"1\" class=\"dataframe\">\n",
       "  <thead>\n",
       "    <tr style=\"text-align: right;\">\n",
       "      <th></th>\n",
       "      <th>age</th>\n",
       "      <th>gender</th>\n",
       "      <th>occupation</th>\n",
       "      <th>user_id</th>\n",
       "      <th>zipcode</th>\n",
       "    </tr>\n",
       "  </thead>\n",
       "  <tbody>\n",
       "    <tr>\n",
       "      <th>0</th>\n",
       "      <td>1</td>\n",
       "      <td>F</td>\n",
       "      <td>10</td>\n",
       "      <td>1</td>\n",
       "      <td>48067</td>\n",
       "    </tr>\n",
       "    <tr>\n",
       "      <th>1</th>\n",
       "      <td>56</td>\n",
       "      <td>M</td>\n",
       "      <td>16</td>\n",
       "      <td>2</td>\n",
       "      <td>70072</td>\n",
       "    </tr>\n",
       "    <tr>\n",
       "      <th>2</th>\n",
       "      <td>25</td>\n",
       "      <td>M</td>\n",
       "      <td>15</td>\n",
       "      <td>3</td>\n",
       "      <td>55117</td>\n",
       "    </tr>\n",
       "    <tr>\n",
       "      <th>3</th>\n",
       "      <td>45</td>\n",
       "      <td>M</td>\n",
       "      <td>7</td>\n",
       "      <td>4</td>\n",
       "      <td>2460</td>\n",
       "    </tr>\n",
       "    <tr>\n",
       "      <th>4</th>\n",
       "      <td>25</td>\n",
       "      <td>M</td>\n",
       "      <td>20</td>\n",
       "      <td>5</td>\n",
       "      <td>55455</td>\n",
       "    </tr>\n",
       "  </tbody>\n",
       "</table>\n",
       "</div>"
      ],
      "text/plain": [
       "   age gender  occupation  user_id  zipcode\n",
       "0    1      F          10        1    48067\n",
       "1   56      M          16        2    70072\n",
       "2   25      M          15        3    55117\n",
       "3   45      M           7        4     2460\n",
       "4   25      M          20        5    55455"
      ]
     },
     "execution_count": 8,
     "metadata": {},
     "output_type": "execute_result"
    }
   ],
   "source": [
    "user_info.head()"
   ]
  },
  {
   "cell_type": "code",
   "execution_count": 9,
   "metadata": {},
   "outputs": [
    {
     "data": {
      "text/plain": [
       "Index([u'age', u'gender', u'occupation', u'user_id', u'zipcode'], dtype='object')"
      ]
     },
     "execution_count": 9,
     "metadata": {},
     "output_type": "execute_result"
    }
   ],
   "source": [
    "user_info.columns"
   ]
  },
  {
   "cell_type": "code",
   "execution_count": 10,
   "metadata": {
    "collapsed": true
   },
   "outputs": [],
   "source": [
    "user_info_final = convert_cate_tocol(user_info, cate_col = 'occupation', id_cols= ['user_id'], multi_cate=False, merge=True)"
   ]
  },
  {
   "cell_type": "code",
   "execution_count": 11,
   "metadata": {},
   "outputs": [
    {
     "data": {
      "text/plain": [
       "numpy.int64"
      ]
     },
     "execution_count": 11,
     "metadata": {},
     "output_type": "execute_result"
    }
   ],
   "source": [
    "type(user_info_final['age'][0])"
   ]
  },
  {
   "cell_type": "code",
   "execution_count": 12,
   "metadata": {
    "collapsed": true,
    "scrolled": true
   },
   "outputs": [],
   "source": [
    "lookup_age= {1:1, 18:2, 25:3, 35:4, 45:5, 50:6, 56:7}"
   ]
  },
  {
   "cell_type": "code",
   "execution_count": 13,
   "metadata": {
    "collapsed": true
   },
   "outputs": [],
   "source": [
    "user_info_final['age'] = [lookup_age[i] for i in user_info_final['age']]"
   ]
  },
  {
   "cell_type": "markdown",
   "metadata": {},
   "source": [
    "## rating"
   ]
  },
  {
   "cell_type": "code",
   "execution_count": 14,
   "metadata": {
    "collapsed": true
   },
   "outputs": [],
   "source": [
    "import re\n",
    "def read_rating(filename):\n",
    "\tuser_id = []\n",
    "\tmovie_id = []\n",
    "\trating = []\n",
    "\ttimestamp = []\n",
    "\twith open(filename) as f:\n",
    "\t\tfor line in f:\n",
    "\t\t\tline_split = re.split('::', line)\n",
    "\t\t\tuser_id.append(line_split[0])\n",
    "\t\t\tmovie_id.append(line_split[1])\n",
    "\t\t\trating.append(line_split[2])\n",
    "\t\t\ttimestamp.append(line_split[3][:-1])\n",
    "\trating_df = pd.DataFrame({'user_id':user_id, 'movie_id':movie_id, 'rating': rating, 'timestamp':timestamp})\n",
    "\treturn rating_df"
   ]
  },
  {
   "cell_type": "code",
   "execution_count": 15,
   "metadata": {},
   "outputs": [
    {
     "data": {
      "text/html": [
       "<div>\n",
       "<style>\n",
       "    .dataframe thead tr:only-child th {\n",
       "        text-align: right;\n",
       "    }\n",
       "\n",
       "    .dataframe thead th {\n",
       "        text-align: left;\n",
       "    }\n",
       "\n",
       "    .dataframe tbody tr th {\n",
       "        vertical-align: top;\n",
       "    }\n",
       "</style>\n",
       "<table border=\"1\" class=\"dataframe\">\n",
       "  <thead>\n",
       "    <tr style=\"text-align: right;\">\n",
       "      <th></th>\n",
       "      <th>movie_id</th>\n",
       "      <th>rating</th>\n",
       "      <th>timestamp</th>\n",
       "      <th>user_id</th>\n",
       "    </tr>\n",
       "  </thead>\n",
       "  <tbody>\n",
       "    <tr>\n",
       "      <th>0</th>\n",
       "      <td>1193</td>\n",
       "      <td>5</td>\n",
       "      <td>978300760</td>\n",
       "      <td>1</td>\n",
       "    </tr>\n",
       "    <tr>\n",
       "      <th>1</th>\n",
       "      <td>661</td>\n",
       "      <td>3</td>\n",
       "      <td>978302109</td>\n",
       "      <td>1</td>\n",
       "    </tr>\n",
       "    <tr>\n",
       "      <th>2</th>\n",
       "      <td>914</td>\n",
       "      <td>3</td>\n",
       "      <td>978301968</td>\n",
       "      <td>1</td>\n",
       "    </tr>\n",
       "    <tr>\n",
       "      <th>3</th>\n",
       "      <td>3408</td>\n",
       "      <td>4</td>\n",
       "      <td>978300275</td>\n",
       "      <td>1</td>\n",
       "    </tr>\n",
       "    <tr>\n",
       "      <th>4</th>\n",
       "      <td>2355</td>\n",
       "      <td>5</td>\n",
       "      <td>978824291</td>\n",
       "      <td>1</td>\n",
       "    </tr>\n",
       "  </tbody>\n",
       "</table>\n",
       "</div>"
      ],
      "text/plain": [
       "  movie_id rating  timestamp user_id\n",
       "0     1193      5  978300760       1\n",
       "1      661      3  978302109       1\n",
       "2      914      3  978301968       1\n",
       "3     3408      4  978300275       1\n",
       "4     2355      5  978824291       1"
      ]
     },
     "execution_count": 15,
     "metadata": {},
     "output_type": "execute_result"
    }
   ],
   "source": [
    "rating = read_rating('../../../data/ml-1m/ratings.dat')\n",
    "rating.head()"
   ]
  },
  {
   "cell_type": "code",
   "execution_count": 16,
   "metadata": {
    "collapsed": true
   },
   "outputs": [],
   "source": [
    "rating['movie_id'] = np.array(rating['movie_id']).astype(int)"
   ]
  },
  {
   "cell_type": "code",
   "execution_count": 17,
   "metadata": {
    "collapsed": true
   },
   "outputs": [],
   "source": [
    "rating['user_id'] = np.array(rating['user_id']).astype(int)"
   ]
  },
  {
   "cell_type": "markdown",
   "metadata": {},
   "source": [
    "## merge"
   ]
  },
  {
   "cell_type": "code",
   "execution_count": 18,
   "metadata": {
    "scrolled": true
   },
   "outputs": [
    {
     "name": "stdout",
     "output_type": "stream",
     "text": [
      "   movie_id rating  timestamp  user_id  category_Action  category_Adventure  \\\n",
      "0      1193      5  978300760        1                0                   0   \n",
      "1       661      3  978302109        1                0                   0   \n",
      "2       914      3  978301968        1                0                   0   \n",
      "3      3408      4  978300275        1                0                   0   \n",
      "4      2355      5  978824291        1                0                   0   \n",
      "\n",
      "   category_Animation  category_Children's  category_Comedy  category_Crime  \\\n",
      "0                   0                    0                0               0   \n",
      "1                   1                    1                0               0   \n",
      "2                   0                    0                0               0   \n",
      "3                   0                    0                0               0   \n",
      "4                   1                    1                1               0   \n",
      "\n",
      "                    ...                    category_Film-Noir  \\\n",
      "0                   ...                                     0   \n",
      "1                   ...                                     0   \n",
      "2                   ...                                     0   \n",
      "3                   ...                                     0   \n",
      "4                   ...                                     0   \n",
      "\n",
      "   category_Horror  category_Musical  category_Mystery  category_Romance  \\\n",
      "0                0                 0                 0                 0   \n",
      "1                0                 1                 0                 0   \n",
      "2                0                 1                 0                 1   \n",
      "3                0                 0                 0                 0   \n",
      "4                0                 0                 0                 0   \n",
      "\n",
      "   category_Sci-Fi  category_Thriller  category_War  category_Western  \\\n",
      "0                0                  0             0                 0   \n",
      "1                0                  0             0                 0   \n",
      "2                0                  0             0                 0   \n",
      "3                0                  0             0                 0   \n",
      "4                0                  0             0                 0   \n",
      "\n",
      "                                     name  \n",
      "0  One Flew Over the Cuckoo's Nest (1975)  \n",
      "1        James and the Giant Peach (1996)  \n",
      "2                     My Fair Lady (1964)  \n",
      "3                  Erin Brockovich (2000)  \n",
      "4                    Bug's Life, A (1998)  \n",
      "\n",
      "[5 rows x 23 columns]\n",
      "<class 'pandas.core.frame.DataFrame'>\n",
      "Int64Index: 1000209 entries, 0 to 1000208\n",
      "Data columns (total 23 columns):\n",
      "movie_id                1000209 non-null int64\n",
      "rating                  1000209 non-null object\n",
      "timestamp               1000209 non-null object\n",
      "user_id                 1000209 non-null int64\n",
      "category_Action         1000209 non-null int64\n",
      "category_Adventure      1000209 non-null int64\n",
      "category_Animation      1000209 non-null int64\n",
      "category_Children's     1000209 non-null int64\n",
      "category_Comedy         1000209 non-null int64\n",
      "category_Crime          1000209 non-null int64\n",
      "category_Documentary    1000209 non-null int64\n",
      "category_Drama          1000209 non-null int64\n",
      "category_Fantasy        1000209 non-null int64\n",
      "category_Film-Noir      1000209 non-null int64\n",
      "category_Horror         1000209 non-null int64\n",
      "category_Musical        1000209 non-null int64\n",
      "category_Mystery        1000209 non-null int64\n",
      "category_Romance        1000209 non-null int64\n",
      "category_Sci-Fi         1000209 non-null int64\n",
      "category_Thriller       1000209 non-null int64\n",
      "category_War            1000209 non-null int64\n",
      "category_Western        1000209 non-null int64\n",
      "name                    1000209 non-null object\n",
      "dtypes: int64(20), object(3)\n",
      "memory usage: 183.1+ MB\n"
     ]
    }
   ],
   "source": [
    "rating = pd.merge(rating, movie_all, on =['movie_id'], how = 'left')\n",
    "print rating.head()\n",
    "rating.info()"
   ]
  },
  {
   "cell_type": "code",
   "execution_count": 19,
   "metadata": {
    "scrolled": true
   },
   "outputs": [
    {
     "name": "stdout",
     "output_type": "stream",
     "text": [
      "   movie_id rating  timestamp  user_id  category_Action  category_Adventure  \\\n",
      "0      1193      5  978300760        1                0                   0   \n",
      "1       661      3  978302109        1                0                   0   \n",
      "2       914      3  978301968        1                0                   0   \n",
      "3      3408      4  978300275        1                0                   0   \n",
      "4      2355      5  978824291        1                0                   0   \n",
      "\n",
      "   category_Animation  category_Children's  category_Comedy  category_Crime  \\\n",
      "0                   0                    0                0               0   \n",
      "1                   1                    1                0               0   \n",
      "2                   0                    0                0               0   \n",
      "3                   0                    0                0               0   \n",
      "4                   1                    1                1               0   \n",
      "\n",
      "    ...     occupation_15  occupation_16  occupation_17  occupation_18  \\\n",
      "0   ...                 0              0              0              0   \n",
      "1   ...                 0              0              0              0   \n",
      "2   ...                 0              0              0              0   \n",
      "3   ...                 0              0              0              0   \n",
      "4   ...                 0              0              0              0   \n",
      "\n",
      "   occupation_19  occupation_20  age  gender  occupation  zipcode  \n",
      "0              0              0    1       F          10    48067  \n",
      "1              0              0    1       F          10    48067  \n",
      "2              0              0    1       F          10    48067  \n",
      "3              0              0    1       F          10    48067  \n",
      "4              0              0    1       F          10    48067  \n",
      "\n",
      "[5 rows x 48 columns]\n",
      "<class 'pandas.core.frame.DataFrame'>\n",
      "Int64Index: 1000209 entries, 0 to 1000208\n",
      "Data columns (total 48 columns):\n",
      "movie_id                1000209 non-null int64\n",
      "rating                  1000209 non-null object\n",
      "timestamp               1000209 non-null object\n",
      "user_id                 1000209 non-null int64\n",
      "category_Action         1000209 non-null int64\n",
      "category_Adventure      1000209 non-null int64\n",
      "category_Animation      1000209 non-null int64\n",
      "category_Children's     1000209 non-null int64\n",
      "category_Comedy         1000209 non-null int64\n",
      "category_Crime          1000209 non-null int64\n",
      "category_Documentary    1000209 non-null int64\n",
      "category_Drama          1000209 non-null int64\n",
      "category_Fantasy        1000209 non-null int64\n",
      "category_Film-Noir      1000209 non-null int64\n",
      "category_Horror         1000209 non-null int64\n",
      "category_Musical        1000209 non-null int64\n",
      "category_Mystery        1000209 non-null int64\n",
      "category_Romance        1000209 non-null int64\n",
      "category_Sci-Fi         1000209 non-null int64\n",
      "category_Thriller       1000209 non-null int64\n",
      "category_War            1000209 non-null int64\n",
      "category_Western        1000209 non-null int64\n",
      "name                    1000209 non-null object\n",
      "occupation_0            1000209 non-null int64\n",
      "occupation_1            1000209 non-null int64\n",
      "occupation_2            1000209 non-null int64\n",
      "occupation_3            1000209 non-null int64\n",
      "occupation_4            1000209 non-null int64\n",
      "occupation_5            1000209 non-null int64\n",
      "occupation_6            1000209 non-null int64\n",
      "occupation_7            1000209 non-null int64\n",
      "occupation_8            1000209 non-null int64\n",
      "occupation_9            1000209 non-null int64\n",
      "occupation_10           1000209 non-null int64\n",
      "occupation_11           1000209 non-null int64\n",
      "occupation_12           1000209 non-null int64\n",
      "occupation_13           1000209 non-null int64\n",
      "occupation_14           1000209 non-null int64\n",
      "occupation_15           1000209 non-null int64\n",
      "occupation_16           1000209 non-null int64\n",
      "occupation_17           1000209 non-null int64\n",
      "occupation_18           1000209 non-null int64\n",
      "occupation_19           1000209 non-null int64\n",
      "occupation_20           1000209 non-null int64\n",
      "age                     1000209 non-null int64\n",
      "gender                  1000209 non-null object\n",
      "occupation              1000209 non-null int64\n",
      "zipcode                 1000209 non-null int64\n",
      "dtypes: int64(44), object(4)\n",
      "memory usage: 373.9+ MB\n"
     ]
    }
   ],
   "source": [
    "rating = pd.merge(rating, user_info_final, on =['user_id'], how = 'left')\n",
    "print rating.head()\n",
    "rating.info()"
   ]
  },
  {
   "cell_type": "code",
   "execution_count": 20,
   "metadata": {},
   "outputs": [
    {
     "data": {
      "text/html": [
       "<div>\n",
       "<style>\n",
       "    .dataframe thead tr:only-child th {\n",
       "        text-align: right;\n",
       "    }\n",
       "\n",
       "    .dataframe thead th {\n",
       "        text-align: left;\n",
       "    }\n",
       "\n",
       "    .dataframe tbody tr th {\n",
       "        vertical-align: top;\n",
       "    }\n",
       "</style>\n",
       "<table border=\"1\" class=\"dataframe\">\n",
       "  <thead>\n",
       "    <tr style=\"text-align: right;\">\n",
       "      <th></th>\n",
       "      <th>movie_id</th>\n",
       "      <th>rating</th>\n",
       "      <th>timestamp</th>\n",
       "      <th>user_id</th>\n",
       "      <th>category_Action</th>\n",
       "      <th>category_Adventure</th>\n",
       "      <th>category_Animation</th>\n",
       "      <th>category_Children's</th>\n",
       "      <th>category_Comedy</th>\n",
       "      <th>category_Crime</th>\n",
       "      <th>...</th>\n",
       "      <th>occupation_15</th>\n",
       "      <th>occupation_16</th>\n",
       "      <th>occupation_17</th>\n",
       "      <th>occupation_18</th>\n",
       "      <th>occupation_19</th>\n",
       "      <th>occupation_20</th>\n",
       "      <th>age</th>\n",
       "      <th>gender</th>\n",
       "      <th>occupation</th>\n",
       "      <th>zipcode</th>\n",
       "    </tr>\n",
       "  </thead>\n",
       "  <tbody>\n",
       "    <tr>\n",
       "      <th>0</th>\n",
       "      <td>1193</td>\n",
       "      <td>5</td>\n",
       "      <td>978300760</td>\n",
       "      <td>1</td>\n",
       "      <td>0</td>\n",
       "      <td>0</td>\n",
       "      <td>0</td>\n",
       "      <td>0</td>\n",
       "      <td>0</td>\n",
       "      <td>0</td>\n",
       "      <td>...</td>\n",
       "      <td>0</td>\n",
       "      <td>0</td>\n",
       "      <td>0</td>\n",
       "      <td>0</td>\n",
       "      <td>0</td>\n",
       "      <td>0</td>\n",
       "      <td>1</td>\n",
       "      <td>F</td>\n",
       "      <td>10</td>\n",
       "      <td>48067</td>\n",
       "    </tr>\n",
       "    <tr>\n",
       "      <th>1</th>\n",
       "      <td>661</td>\n",
       "      <td>3</td>\n",
       "      <td>978302109</td>\n",
       "      <td>1</td>\n",
       "      <td>0</td>\n",
       "      <td>0</td>\n",
       "      <td>1</td>\n",
       "      <td>1</td>\n",
       "      <td>0</td>\n",
       "      <td>0</td>\n",
       "      <td>...</td>\n",
       "      <td>0</td>\n",
       "      <td>0</td>\n",
       "      <td>0</td>\n",
       "      <td>0</td>\n",
       "      <td>0</td>\n",
       "      <td>0</td>\n",
       "      <td>1</td>\n",
       "      <td>F</td>\n",
       "      <td>10</td>\n",
       "      <td>48067</td>\n",
       "    </tr>\n",
       "    <tr>\n",
       "      <th>2</th>\n",
       "      <td>914</td>\n",
       "      <td>3</td>\n",
       "      <td>978301968</td>\n",
       "      <td>1</td>\n",
       "      <td>0</td>\n",
       "      <td>0</td>\n",
       "      <td>0</td>\n",
       "      <td>0</td>\n",
       "      <td>0</td>\n",
       "      <td>0</td>\n",
       "      <td>...</td>\n",
       "      <td>0</td>\n",
       "      <td>0</td>\n",
       "      <td>0</td>\n",
       "      <td>0</td>\n",
       "      <td>0</td>\n",
       "      <td>0</td>\n",
       "      <td>1</td>\n",
       "      <td>F</td>\n",
       "      <td>10</td>\n",
       "      <td>48067</td>\n",
       "    </tr>\n",
       "    <tr>\n",
       "      <th>3</th>\n",
       "      <td>3408</td>\n",
       "      <td>4</td>\n",
       "      <td>978300275</td>\n",
       "      <td>1</td>\n",
       "      <td>0</td>\n",
       "      <td>0</td>\n",
       "      <td>0</td>\n",
       "      <td>0</td>\n",
       "      <td>0</td>\n",
       "      <td>0</td>\n",
       "      <td>...</td>\n",
       "      <td>0</td>\n",
       "      <td>0</td>\n",
       "      <td>0</td>\n",
       "      <td>0</td>\n",
       "      <td>0</td>\n",
       "      <td>0</td>\n",
       "      <td>1</td>\n",
       "      <td>F</td>\n",
       "      <td>10</td>\n",
       "      <td>48067</td>\n",
       "    </tr>\n",
       "    <tr>\n",
       "      <th>4</th>\n",
       "      <td>2355</td>\n",
       "      <td>5</td>\n",
       "      <td>978824291</td>\n",
       "      <td>1</td>\n",
       "      <td>0</td>\n",
       "      <td>0</td>\n",
       "      <td>1</td>\n",
       "      <td>1</td>\n",
       "      <td>1</td>\n",
       "      <td>0</td>\n",
       "      <td>...</td>\n",
       "      <td>0</td>\n",
       "      <td>0</td>\n",
       "      <td>0</td>\n",
       "      <td>0</td>\n",
       "      <td>0</td>\n",
       "      <td>0</td>\n",
       "      <td>1</td>\n",
       "      <td>F</td>\n",
       "      <td>10</td>\n",
       "      <td>48067</td>\n",
       "    </tr>\n",
       "  </tbody>\n",
       "</table>\n",
       "<p>5 rows × 48 columns</p>\n",
       "</div>"
      ],
      "text/plain": [
       "   movie_id rating  timestamp  user_id  category_Action  category_Adventure  \\\n",
       "0      1193      5  978300760        1                0                   0   \n",
       "1       661      3  978302109        1                0                   0   \n",
       "2       914      3  978301968        1                0                   0   \n",
       "3      3408      4  978300275        1                0                   0   \n",
       "4      2355      5  978824291        1                0                   0   \n",
       "\n",
       "   category_Animation  category_Children's  category_Comedy  category_Crime  \\\n",
       "0                   0                    0                0               0   \n",
       "1                   1                    1                0               0   \n",
       "2                   0                    0                0               0   \n",
       "3                   0                    0                0               0   \n",
       "4                   1                    1                1               0   \n",
       "\n",
       "    ...     occupation_15  occupation_16  occupation_17  occupation_18  \\\n",
       "0   ...                 0              0              0              0   \n",
       "1   ...                 0              0              0              0   \n",
       "2   ...                 0              0              0              0   \n",
       "3   ...                 0              0              0              0   \n",
       "4   ...                 0              0              0              0   \n",
       "\n",
       "   occupation_19  occupation_20  age  gender  occupation  zipcode  \n",
       "0              0              0    1       F          10    48067  \n",
       "1              0              0    1       F          10    48067  \n",
       "2              0              0    1       F          10    48067  \n",
       "3              0              0    1       F          10    48067  \n",
       "4              0              0    1       F          10    48067  \n",
       "\n",
       "[5 rows x 48 columns]"
      ]
     },
     "execution_count": 20,
     "metadata": {},
     "output_type": "execute_result"
    }
   ],
   "source": [
    "rating.head()"
   ]
  },
  {
   "cell_type": "code",
   "execution_count": 21,
   "metadata": {
    "collapsed": true
   },
   "outputs": [],
   "source": [
    "rating['rating'] = np.array(rating['rating']).astype(float)"
   ]
  },
  {
   "cell_type": "code",
   "execution_count": 22,
   "metadata": {
    "collapsed": true,
    "scrolled": true
   },
   "outputs": [],
   "source": [
    "mean_rate = rating.groupby(['movie_id'])['rating'].mean().reset_index()"
   ]
  },
  {
   "cell_type": "code",
   "execution_count": 23,
   "metadata": {
    "collapsed": true
   },
   "outputs": [],
   "source": [
    "mean_rate.columns = ['movie_id','mean_rate']"
   ]
  },
  {
   "cell_type": "code",
   "execution_count": 24,
   "metadata": {
    "scrolled": true
   },
   "outputs": [
    {
     "data": {
      "text/html": [
       "<div>\n",
       "<style>\n",
       "    .dataframe thead tr:only-child th {\n",
       "        text-align: right;\n",
       "    }\n",
       "\n",
       "    .dataframe thead th {\n",
       "        text-align: left;\n",
       "    }\n",
       "\n",
       "    .dataframe tbody tr th {\n",
       "        vertical-align: top;\n",
       "    }\n",
       "</style>\n",
       "<table border=\"1\" class=\"dataframe\">\n",
       "  <thead>\n",
       "    <tr style=\"text-align: right;\">\n",
       "      <th></th>\n",
       "      <th>movie_id</th>\n",
       "      <th>mean_rate</th>\n",
       "    </tr>\n",
       "  </thead>\n",
       "  <tbody>\n",
       "    <tr>\n",
       "      <th>0</th>\n",
       "      <td>1</td>\n",
       "      <td>4.146846</td>\n",
       "    </tr>\n",
       "    <tr>\n",
       "      <th>1</th>\n",
       "      <td>2</td>\n",
       "      <td>3.201141</td>\n",
       "    </tr>\n",
       "    <tr>\n",
       "      <th>2</th>\n",
       "      <td>3</td>\n",
       "      <td>3.016736</td>\n",
       "    </tr>\n",
       "    <tr>\n",
       "      <th>3</th>\n",
       "      <td>4</td>\n",
       "      <td>2.729412</td>\n",
       "    </tr>\n",
       "    <tr>\n",
       "      <th>4</th>\n",
       "      <td>5</td>\n",
       "      <td>3.006757</td>\n",
       "    </tr>\n",
       "  </tbody>\n",
       "</table>\n",
       "</div>"
      ],
      "text/plain": [
       "   movie_id  mean_rate\n",
       "0         1   4.146846\n",
       "1         2   3.201141\n",
       "2         3   3.016736\n",
       "3         4   2.729412\n",
       "4         5   3.006757"
      ]
     },
     "execution_count": 24,
     "metadata": {},
     "output_type": "execute_result"
    }
   ],
   "source": [
    "mean_rate.head()"
   ]
  },
  {
   "cell_type": "code",
   "execution_count": 25,
   "metadata": {
    "collapsed": true
   },
   "outputs": [],
   "source": [
    "rating = pd.merge(rating, mean_rate, how = 'left', on = ['movie_id'])"
   ]
  },
  {
   "cell_type": "code",
   "execution_count": 26,
   "metadata": {
    "collapsed": true
   },
   "outputs": [],
   "source": [
    "# del rating['movie_id']\n",
    "# del rating['user_id']\n",
    "del rating['occupation']\n",
    "del rating['name']\n",
    "del rating['zipcode']\n",
    "del rating['timestamp']"
   ]
  },
  {
   "cell_type": "code",
   "execution_count": 27,
   "metadata": {},
   "outputs": [
    {
     "data": {
      "text/html": [
       "<div>\n",
       "<style>\n",
       "    .dataframe thead tr:only-child th {\n",
       "        text-align: right;\n",
       "    }\n",
       "\n",
       "    .dataframe thead th {\n",
       "        text-align: left;\n",
       "    }\n",
       "\n",
       "    .dataframe tbody tr th {\n",
       "        vertical-align: top;\n",
       "    }\n",
       "</style>\n",
       "<table border=\"1\" class=\"dataframe\">\n",
       "  <thead>\n",
       "    <tr style=\"text-align: right;\">\n",
       "      <th></th>\n",
       "      <th>movie_id</th>\n",
       "      <th>rating</th>\n",
       "      <th>user_id</th>\n",
       "      <th>category_Action</th>\n",
       "      <th>category_Adventure</th>\n",
       "      <th>category_Animation</th>\n",
       "      <th>category_Children's</th>\n",
       "      <th>category_Comedy</th>\n",
       "      <th>category_Crime</th>\n",
       "      <th>category_Documentary</th>\n",
       "      <th>...</th>\n",
       "      <th>occupation_14</th>\n",
       "      <th>occupation_15</th>\n",
       "      <th>occupation_16</th>\n",
       "      <th>occupation_17</th>\n",
       "      <th>occupation_18</th>\n",
       "      <th>occupation_19</th>\n",
       "      <th>occupation_20</th>\n",
       "      <th>age</th>\n",
       "      <th>gender</th>\n",
       "      <th>mean_rate</th>\n",
       "    </tr>\n",
       "  </thead>\n",
       "  <tbody>\n",
       "    <tr>\n",
       "      <th>0</th>\n",
       "      <td>1193</td>\n",
       "      <td>5.0</td>\n",
       "      <td>1</td>\n",
       "      <td>0</td>\n",
       "      <td>0</td>\n",
       "      <td>0</td>\n",
       "      <td>0</td>\n",
       "      <td>0</td>\n",
       "      <td>0</td>\n",
       "      <td>0</td>\n",
       "      <td>...</td>\n",
       "      <td>0</td>\n",
       "      <td>0</td>\n",
       "      <td>0</td>\n",
       "      <td>0</td>\n",
       "      <td>0</td>\n",
       "      <td>0</td>\n",
       "      <td>0</td>\n",
       "      <td>1</td>\n",
       "      <td>F</td>\n",
       "      <td>4.390725</td>\n",
       "    </tr>\n",
       "    <tr>\n",
       "      <th>1</th>\n",
       "      <td>661</td>\n",
       "      <td>3.0</td>\n",
       "      <td>1</td>\n",
       "      <td>0</td>\n",
       "      <td>0</td>\n",
       "      <td>1</td>\n",
       "      <td>1</td>\n",
       "      <td>0</td>\n",
       "      <td>0</td>\n",
       "      <td>0</td>\n",
       "      <td>...</td>\n",
       "      <td>0</td>\n",
       "      <td>0</td>\n",
       "      <td>0</td>\n",
       "      <td>0</td>\n",
       "      <td>0</td>\n",
       "      <td>0</td>\n",
       "      <td>0</td>\n",
       "      <td>1</td>\n",
       "      <td>F</td>\n",
       "      <td>3.464762</td>\n",
       "    </tr>\n",
       "    <tr>\n",
       "      <th>2</th>\n",
       "      <td>914</td>\n",
       "      <td>3.0</td>\n",
       "      <td>1</td>\n",
       "      <td>0</td>\n",
       "      <td>0</td>\n",
       "      <td>0</td>\n",
       "      <td>0</td>\n",
       "      <td>0</td>\n",
       "      <td>0</td>\n",
       "      <td>0</td>\n",
       "      <td>...</td>\n",
       "      <td>0</td>\n",
       "      <td>0</td>\n",
       "      <td>0</td>\n",
       "      <td>0</td>\n",
       "      <td>0</td>\n",
       "      <td>0</td>\n",
       "      <td>0</td>\n",
       "      <td>1</td>\n",
       "      <td>F</td>\n",
       "      <td>4.154088</td>\n",
       "    </tr>\n",
       "    <tr>\n",
       "      <th>3</th>\n",
       "      <td>3408</td>\n",
       "      <td>4.0</td>\n",
       "      <td>1</td>\n",
       "      <td>0</td>\n",
       "      <td>0</td>\n",
       "      <td>0</td>\n",
       "      <td>0</td>\n",
       "      <td>0</td>\n",
       "      <td>0</td>\n",
       "      <td>0</td>\n",
       "      <td>...</td>\n",
       "      <td>0</td>\n",
       "      <td>0</td>\n",
       "      <td>0</td>\n",
       "      <td>0</td>\n",
       "      <td>0</td>\n",
       "      <td>0</td>\n",
       "      <td>0</td>\n",
       "      <td>1</td>\n",
       "      <td>F</td>\n",
       "      <td>3.863878</td>\n",
       "    </tr>\n",
       "    <tr>\n",
       "      <th>4</th>\n",
       "      <td>2355</td>\n",
       "      <td>5.0</td>\n",
       "      <td>1</td>\n",
       "      <td>0</td>\n",
       "      <td>0</td>\n",
       "      <td>1</td>\n",
       "      <td>1</td>\n",
       "      <td>1</td>\n",
       "      <td>0</td>\n",
       "      <td>0</td>\n",
       "      <td>...</td>\n",
       "      <td>0</td>\n",
       "      <td>0</td>\n",
       "      <td>0</td>\n",
       "      <td>0</td>\n",
       "      <td>0</td>\n",
       "      <td>0</td>\n",
       "      <td>0</td>\n",
       "      <td>1</td>\n",
       "      <td>F</td>\n",
       "      <td>3.854375</td>\n",
       "    </tr>\n",
       "  </tbody>\n",
       "</table>\n",
       "<p>5 rows × 45 columns</p>\n",
       "</div>"
      ],
      "text/plain": [
       "   movie_id  rating  user_id  category_Action  category_Adventure  \\\n",
       "0      1193     5.0        1                0                   0   \n",
       "1       661     3.0        1                0                   0   \n",
       "2       914     3.0        1                0                   0   \n",
       "3      3408     4.0        1                0                   0   \n",
       "4      2355     5.0        1                0                   0   \n",
       "\n",
       "   category_Animation  category_Children's  category_Comedy  category_Crime  \\\n",
       "0                   0                    0                0               0   \n",
       "1                   1                    1                0               0   \n",
       "2                   0                    0                0               0   \n",
       "3                   0                    0                0               0   \n",
       "4                   1                    1                1               0   \n",
       "\n",
       "   category_Documentary    ...      occupation_14  occupation_15  \\\n",
       "0                     0    ...                  0              0   \n",
       "1                     0    ...                  0              0   \n",
       "2                     0    ...                  0              0   \n",
       "3                     0    ...                  0              0   \n",
       "4                     0    ...                  0              0   \n",
       "\n",
       "   occupation_16  occupation_17  occupation_18  occupation_19  occupation_20  \\\n",
       "0              0              0              0              0              0   \n",
       "1              0              0              0              0              0   \n",
       "2              0              0              0              0              0   \n",
       "3              0              0              0              0              0   \n",
       "4              0              0              0              0              0   \n",
       "\n",
       "   age  gender  mean_rate  \n",
       "0    1       F   4.390725  \n",
       "1    1       F   3.464762  \n",
       "2    1       F   4.154088  \n",
       "3    1       F   3.863878  \n",
       "4    1       F   3.854375  \n",
       "\n",
       "[5 rows x 45 columns]"
      ]
     },
     "execution_count": 27,
     "metadata": {},
     "output_type": "execute_result"
    }
   ],
   "source": [
    "rating.head()"
   ]
  },
  {
   "cell_type": "code",
   "execution_count": 28,
   "metadata": {
    "collapsed": true
   },
   "outputs": [],
   "source": [
    "from sklearn.utils import shuffle\n",
    "rating = shuffle(rating)"
   ]
  },
  {
   "cell_type": "code",
   "execution_count": 29,
   "metadata": {
    "collapsed": true
   },
   "outputs": [],
   "source": [
    "rating['rating'] = np.array(rating['rating']).astype(float) *1.0 / 5"
   ]
  },
  {
   "cell_type": "code",
   "execution_count": 30,
   "metadata": {
    "collapsed": true
   },
   "outputs": [],
   "source": [
    "rating['gender'] = np.array(rating['gender'] == 'F').astype(int)"
   ]
  },
  {
   "cell_type": "code",
   "execution_count": 31,
   "metadata": {
    "collapsed": true
   },
   "outputs": [],
   "source": [
    "rating['mean_rate'] = np.array(rating['mean_rate']).astype(float) *1.0 / 5"
   ]
  },
  {
   "cell_type": "markdown",
   "metadata": {},
   "source": [
    "## Seperate by movie_id"
   ]
  },
  {
   "cell_type": "code",
   "execution_count": 32,
   "metadata": {
    "collapsed": true
   },
   "outputs": [],
   "source": [
    "movie_id = rating['movie_id'].unique()"
   ]
  },
  {
   "cell_type": "code",
   "execution_count": 33,
   "metadata": {
    "collapsed": true
   },
   "outputs": [],
   "source": [
    "import random\n",
    "random.shuffle(movie_id)"
   ]
  },
  {
   "cell_type": "code",
   "execution_count": 34,
   "metadata": {
    "collapsed": true
   },
   "outputs": [],
   "source": [
    "train_id = np.array(movie_id[:int(0.64* len(movie_id))])\n",
    "val_id = np.array(movie_id[int(0.64* len(movie_id)):int(0.8* len(movie_id))])\n",
    "test_id = np.array(movie_id[int(0.8* len(movie_id)):])"
   ]
  },
  {
   "cell_type": "code",
   "execution_count": 35,
   "metadata": {
    "collapsed": true,
    "scrolled": true
   },
   "outputs": [],
   "source": [
    "rating = rating.set_index(['movie_id'])"
   ]
  },
  {
   "cell_type": "code",
   "execution_count": 36,
   "metadata": {
    "collapsed": true
   },
   "outputs": [],
   "source": [
    "train_rating = rating.loc[train_id].reset_index()"
   ]
  },
  {
   "cell_type": "code",
   "execution_count": 37,
   "metadata": {
    "collapsed": true
   },
   "outputs": [],
   "source": [
    "val_rating = rating.loc[val_id].reset_index()"
   ]
  },
  {
   "cell_type": "code",
   "execution_count": 38,
   "metadata": {
    "collapsed": true
   },
   "outputs": [],
   "source": [
    "test_rating = rating.loc[test_id].reset_index()"
   ]
  },
  {
   "cell_type": "code",
   "execution_count": 39,
   "metadata": {},
   "outputs": [
    {
     "name": "stdout",
     "output_type": "stream",
     "text": [
      "66.2438550343\n",
      "80.6329477139\n"
     ]
    }
   ],
   "source": [
    "print len(train_rating) * 100.0 / len(rating)\n",
    "print (len(train_rating) + len(val_rating)) * 100.0 / len(rating)"
   ]
  },
  {
   "cell_type": "code",
   "execution_count": 40,
   "metadata": {},
   "outputs": [
    {
     "data": {
      "text/plain": [
       "Index([u'movie_id', u'user_id', u'category_Action', u'category_Adventure',\n",
       "       u'category_Animation', u'category_Children's', u'category_Comedy',\n",
       "       u'category_Crime', u'category_Documentary', u'category_Drama',\n",
       "       u'category_Fantasy', u'category_Film-Noir', u'category_Horror',\n",
       "       u'category_Musical', u'category_Mystery', u'category_Romance',\n",
       "       u'category_Sci-Fi', u'category_Thriller', u'category_War',\n",
       "       u'category_Western'],\n",
       "      dtype='object')"
      ]
     },
     "execution_count": 40,
     "metadata": {},
     "output_type": "execute_result"
    }
   ],
   "source": [
    "train_rating.iloc[:, [0,2] + range(3, 21)].columns"
   ]
  },
  {
   "cell_type": "code",
   "execution_count": 41,
   "metadata": {
    "collapsed": true
   },
   "outputs": [],
   "source": [
    "x_item_train = train_rating.iloc[:, [0,2] + range(3, 21)]\n",
    "x_user_train = train_rating.iloc[:, [0,2] + range(21, 44)]\n",
    "y_train = train_rating.iloc[:, [0,2, 1, -1]]"
   ]
  },
  {
   "cell_type": "code",
   "execution_count": 42,
   "metadata": {
    "collapsed": true
   },
   "outputs": [],
   "source": [
    "x_item_val = val_rating.iloc[:, [0,2] + range(3, 21)]\n",
    "x_user_val = val_rating.iloc[:, [0,2] + range(21, 44)]\n",
    "y_val = val_rating.iloc[:, [0,2, 1, -1]]"
   ]
  },
  {
   "cell_type": "code",
   "execution_count": 43,
   "metadata": {
    "collapsed": true
   },
   "outputs": [],
   "source": [
    "x_item_test = test_rating.iloc[:, [0,2] + range(3, 21)]\n",
    "x_user_test = test_rating.iloc[:, [0,2] + range(21, 44)]\n",
    "y_test = test_rating.iloc[:, [0,2, 1, -1]]"
   ]
  },
  {
   "cell_type": "code",
   "execution_count": 50,
   "metadata": {},
   "outputs": [
    {
     "data": {
      "text/html": [
       "<div>\n",
       "<style>\n",
       "    .dataframe thead tr:only-child th {\n",
       "        text-align: right;\n",
       "    }\n",
       "\n",
       "    .dataframe thead th {\n",
       "        text-align: left;\n",
       "    }\n",
       "\n",
       "    .dataframe tbody tr th {\n",
       "        vertical-align: top;\n",
       "    }\n",
       "</style>\n",
       "<table border=\"1\" class=\"dataframe\">\n",
       "  <thead>\n",
       "    <tr style=\"text-align: right;\">\n",
       "      <th></th>\n",
       "      <th>movie_id</th>\n",
       "      <th>rating</th>\n",
       "      <th>user_id</th>\n",
       "      <th>category_Action</th>\n",
       "      <th>category_Adventure</th>\n",
       "      <th>category_Animation</th>\n",
       "      <th>category_Children's</th>\n",
       "      <th>category_Comedy</th>\n",
       "      <th>category_Crime</th>\n",
       "      <th>category_Documentary</th>\n",
       "      <th>...</th>\n",
       "      <th>occupation_14</th>\n",
       "      <th>occupation_15</th>\n",
       "      <th>occupation_16</th>\n",
       "      <th>occupation_17</th>\n",
       "      <th>occupation_18</th>\n",
       "      <th>occupation_19</th>\n",
       "      <th>occupation_20</th>\n",
       "      <th>age</th>\n",
       "      <th>gender</th>\n",
       "      <th>mean_rate</th>\n",
       "    </tr>\n",
       "  </thead>\n",
       "  <tbody>\n",
       "    <tr>\n",
       "      <th>0</th>\n",
       "      <td>2366</td>\n",
       "      <td>1.0</td>\n",
       "      <td>1425</td>\n",
       "      <td>1</td>\n",
       "      <td>1</td>\n",
       "      <td>0</td>\n",
       "      <td>0</td>\n",
       "      <td>0</td>\n",
       "      <td>0</td>\n",
       "      <td>0</td>\n",
       "      <td>...</td>\n",
       "      <td>0</td>\n",
       "      <td>0</td>\n",
       "      <td>0</td>\n",
       "      <td>0</td>\n",
       "      <td>0</td>\n",
       "      <td>0</td>\n",
       "      <td>0</td>\n",
       "      <td>1</td>\n",
       "      <td>0</td>\n",
       "      <td>0.731217</td>\n",
       "    </tr>\n",
       "    <tr>\n",
       "      <th>1</th>\n",
       "      <td>2366</td>\n",
       "      <td>1.0</td>\n",
       "      <td>4509</td>\n",
       "      <td>1</td>\n",
       "      <td>1</td>\n",
       "      <td>0</td>\n",
       "      <td>0</td>\n",
       "      <td>0</td>\n",
       "      <td>0</td>\n",
       "      <td>0</td>\n",
       "      <td>...</td>\n",
       "      <td>0</td>\n",
       "      <td>0</td>\n",
       "      <td>0</td>\n",
       "      <td>0</td>\n",
       "      <td>0</td>\n",
       "      <td>0</td>\n",
       "      <td>0</td>\n",
       "      <td>3</td>\n",
       "      <td>0</td>\n",
       "      <td>0.731217</td>\n",
       "    </tr>\n",
       "    <tr>\n",
       "      <th>2</th>\n",
       "      <td>2366</td>\n",
       "      <td>0.8</td>\n",
       "      <td>195</td>\n",
       "      <td>1</td>\n",
       "      <td>1</td>\n",
       "      <td>0</td>\n",
       "      <td>0</td>\n",
       "      <td>0</td>\n",
       "      <td>0</td>\n",
       "      <td>0</td>\n",
       "      <td>...</td>\n",
       "      <td>0</td>\n",
       "      <td>0</td>\n",
       "      <td>0</td>\n",
       "      <td>0</td>\n",
       "      <td>0</td>\n",
       "      <td>0</td>\n",
       "      <td>0</td>\n",
       "      <td>3</td>\n",
       "      <td>0</td>\n",
       "      <td>0.731217</td>\n",
       "    </tr>\n",
       "    <tr>\n",
       "      <th>3</th>\n",
       "      <td>2366</td>\n",
       "      <td>0.4</td>\n",
       "      <td>770</td>\n",
       "      <td>1</td>\n",
       "      <td>1</td>\n",
       "      <td>0</td>\n",
       "      <td>0</td>\n",
       "      <td>0</td>\n",
       "      <td>0</td>\n",
       "      <td>0</td>\n",
       "      <td>...</td>\n",
       "      <td>0</td>\n",
       "      <td>0</td>\n",
       "      <td>0</td>\n",
       "      <td>0</td>\n",
       "      <td>0</td>\n",
       "      <td>0</td>\n",
       "      <td>0</td>\n",
       "      <td>2</td>\n",
       "      <td>0</td>\n",
       "      <td>0.731217</td>\n",
       "    </tr>\n",
       "    <tr>\n",
       "      <th>4</th>\n",
       "      <td>2366</td>\n",
       "      <td>0.6</td>\n",
       "      <td>477</td>\n",
       "      <td>1</td>\n",
       "      <td>1</td>\n",
       "      <td>0</td>\n",
       "      <td>0</td>\n",
       "      <td>0</td>\n",
       "      <td>0</td>\n",
       "      <td>0</td>\n",
       "      <td>...</td>\n",
       "      <td>1</td>\n",
       "      <td>0</td>\n",
       "      <td>0</td>\n",
       "      <td>0</td>\n",
       "      <td>0</td>\n",
       "      <td>0</td>\n",
       "      <td>0</td>\n",
       "      <td>4</td>\n",
       "      <td>0</td>\n",
       "      <td>0.731217</td>\n",
       "    </tr>\n",
       "  </tbody>\n",
       "</table>\n",
       "<p>5 rows × 45 columns</p>\n",
       "</div>"
      ],
      "text/plain": [
       "   movie_id  rating  user_id  category_Action  category_Adventure  \\\n",
       "0      2366     1.0     1425                1                   1   \n",
       "1      2366     1.0     4509                1                   1   \n",
       "2      2366     0.8      195                1                   1   \n",
       "3      2366     0.4      770                1                   1   \n",
       "4      2366     0.6      477                1                   1   \n",
       "\n",
       "   category_Animation  category_Children's  category_Comedy  category_Crime  \\\n",
       "0                   0                    0                0               0   \n",
       "1                   0                    0                0               0   \n",
       "2                   0                    0                0               0   \n",
       "3                   0                    0                0               0   \n",
       "4                   0                    0                0               0   \n",
       "\n",
       "   category_Documentary    ...      occupation_14  occupation_15  \\\n",
       "0                     0    ...                  0              0   \n",
       "1                     0    ...                  0              0   \n",
       "2                     0    ...                  0              0   \n",
       "3                     0    ...                  0              0   \n",
       "4                     0    ...                  1              0   \n",
       "\n",
       "   occupation_16  occupation_17  occupation_18  occupation_19  occupation_20  \\\n",
       "0              0              0              0              0              0   \n",
       "1              0              0              0              0              0   \n",
       "2              0              0              0              0              0   \n",
       "3              0              0              0              0              0   \n",
       "4              0              0              0              0              0   \n",
       "\n",
       "   age  gender  mean_rate  \n",
       "0    1       0   0.731217  \n",
       "1    3       0   0.731217  \n",
       "2    3       0   0.731217  \n",
       "3    2       0   0.731217  \n",
       "4    4       0   0.731217  \n",
       "\n",
       "[5 rows x 45 columns]"
      ]
     },
     "execution_count": 50,
     "metadata": {},
     "output_type": "execute_result"
    }
   ],
   "source": [
    "val_rating.head()"
   ]
  },
  {
   "cell_type": "code",
   "execution_count": 55,
   "metadata": {},
   "outputs": [
    {
     "data": {
      "text/plain": [
       "143921"
      ]
     },
     "execution_count": 55,
     "metadata": {},
     "output_type": "execute_result"
    }
   ],
   "source": [
    "len(val_rating)"
   ]
  },
  {
   "cell_type": "code",
   "execution_count": 52,
   "metadata": {},
   "outputs": [
    {
     "data": {
      "text/plain": [
       "2371"
      ]
     },
     "execution_count": 52,
     "metadata": {},
     "output_type": "execute_result"
    }
   ],
   "source": [
    "train_rating['movie_id'].nunique()"
   ]
  },
  {
   "cell_type": "code",
   "execution_count": 44,
   "metadata": {
    "collapsed": true
   },
   "outputs": [],
   "source": [
    "x_item_train.to_csv('../../../data/input_formated/final/x_item_train.csv')\n",
    "x_item_val.to_csv('../../../data/input_formated/final/x_item_val.csv')\n",
    "x_item_test.to_csv('../../../data/input_formated/final/x_item_test.csv')\n",
    "x_user_train.to_csv('../../../data/input_formated/final/x_user_train.csv')\n",
    "x_user_val.to_csv('../../../data/input_formated/final/x_user_val.csv')\n",
    "x_user_test.to_csv('../../../data/input_formated/final/x_user_test.csv')\n",
    "y_train.to_csv('../../../data/input_formated/final/y_train.csv')\n",
    "y_val.to_csv('../../../data/input_formated/final/y_val.csv')\n",
    "y_test.to_csv('../../../data/input_formated/final/y_test.csv')"
   ]
  },
  {
   "cell_type": "code",
   "execution_count": 45,
   "metadata": {
    "collapsed": true
   },
   "outputs": [],
   "source": [
    "# y_train = y_train.reshape((-1, 1))\n",
    "# y_test = y_test.reshape((-1, 1))"
   ]
  },
  {
   "cell_type": "code",
   "execution_count": 46,
   "metadata": {
    "collapsed": true
   },
   "outputs": [],
   "source": [
    "# x_item_test = np.array(x_item_test, dtype = np.float32)\n",
    "# x_user_test = np.array(x_user_test, dtype = np.float32)\n",
    "# y_test = np.array(y_test, dtype = np.float32)"
   ]
  },
  {
   "cell_type": "code",
   "execution_count": 47,
   "metadata": {
    "collapsed": true
   },
   "outputs": [],
   "source": [
    "# np.savetxt('../../data/input_formated/withuser_2/x_item_train.csv', x_item_train)\n",
    "# np.savetxt('../../data/input_formated/withuser_2/x_user_train.csv', x_user_train)\n",
    "# np.savetxt('../../data/input_formated/withuser_2/y_train.csv', y_train)\n",
    "# np.savetxt('../../data/input_formated/withuser_2/x_item_test.csv', x_item_test)\n",
    "# np.savetxt('../../data/input_formated/withuser_2/x_user_test.csv', x_user_test)\n",
    "# np.savetxt('../../data/input_formated/withuser_2/y_test.csv', y_test)"
   ]
  }
 ],
 "metadata": {
  "kernelspec": {
   "display_name": "Python 2",
   "language": "python",
   "name": "python2"
  },
  "language_info": {
   "codemirror_mode": {
    "name": "ipython",
    "version": 2
   },
   "file_extension": ".py",
   "mimetype": "text/x-python",
   "name": "python",
   "nbconvert_exporter": "python",
   "pygments_lexer": "ipython2",
   "version": "2.7.13"
  }
 },
 "nbformat": 4,
 "nbformat_minor": 2
}
