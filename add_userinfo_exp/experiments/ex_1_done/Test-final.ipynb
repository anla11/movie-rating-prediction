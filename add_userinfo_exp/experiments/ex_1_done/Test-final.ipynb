{
 "cells": [
  {
   "cell_type": "code",
   "execution_count": 1,
   "metadata": {
    "collapsed": true
   },
   "outputs": [],
   "source": [
    "import numpy as np\n",
    "import torch\n",
    "import pandas as pd\n",
    "import matplotlib.pyplot as plt"
   ]
  },
  {
   "cell_type": "code",
   "execution_count": 2,
   "metadata": {
    "collapsed": true
   },
   "outputs": [],
   "source": [
    "import torch.nn as nn\n",
    "import torch.nn.functional as functional\n",
    "from torch.autograd import Variable"
   ]
  },
  {
   "cell_type": "markdown",
   "metadata": {},
   "source": [
    "## Test - no user info"
   ]
  },
  {
   "cell_type": "code",
   "execution_count": 3,
   "metadata": {},
   "outputs": [
    {
     "name": "stdout",
     "output_type": "stream",
     "text": [
      "(742, 18)\n"
     ]
    }
   ],
   "source": [
    "tmp = pd.read_csv('../../../data/input_formated/final/x_item_test.csv').iloc[:,1:]\n",
    "x_test_0 = np.array(tmp[[u'movie_id', u'category_Action', u'category_Adventure',\n",
    "       u'category_Animation', u'category_Children\\'s', u'category_Comedy',\n",
    "       u'category_Crime', u'category_Documentary', u'category_Drama',\n",
    "       u'category_Fantasy', u'category_Film-Noir', u'category_Horror',\n",
    "       u'category_Musical', u'category_Mystery', u'category_Romance',\n",
    "       u'category_Sci-Fi', u'category_Thriller', u'category_War',\n",
    "       u'category_Western']].drop_duplicates(), dtype = np.float32)[:, 1:]\n",
    "print x_test_0.shape"
   ]
  },
  {
   "cell_type": "code",
   "execution_count": 4,
   "metadata": {},
   "outputs": [
    {
     "name": "stdout",
     "output_type": "stream",
     "text": [
      "(742, 1)\n"
     ]
    }
   ],
   "source": [
    "tmp = pd.read_csv('../../../data/input_formated/final/y_test.csv').iloc[:,1:]\n",
    "y_test_0 = np.array(tmp[['movie_id', 'mean_rate']].drop_duplicates(), dtype = np.float32)[:, 1:].reshape((-1, 1))\n",
    "print y_test_0.shape"
   ]
  },
  {
   "cell_type": "code",
   "execution_count": 5,
   "metadata": {
    "collapsed": true
   },
   "outputs": [],
   "source": [
    "# Neural Network Model (1 hidden layer)\n",
    "class ANN_1hidden(nn.Module):\n",
    "    def __init__(self, input_size, hidden_size, output_size):\n",
    "        super(ANN_1hidden, self).__init__()\n",
    "        self.fc1 = nn.Linear(input_size, hidden_size) \n",
    "        self.activate = nn.Sigmoid()\n",
    "        self.fc2 = nn.Linear(hidden_size, output_size)\n",
    "        self.bn = nn.BatchNorm1d(output_size, output_size)\n",
    "    \n",
    "    def forward(self, x):\n",
    "        out = self.fc1(x)\n",
    "        out = self.activate(out)\n",
    "        out = self.fc2(out)\n",
    "        out = self.bn(out)\n",
    "        return out"
   ]
  },
  {
   "cell_type": "code",
   "execution_count": 6,
   "metadata": {
    "collapsed": true
   },
   "outputs": [],
   "source": [
    "def rmse(y, y_hat):\n",
    "    \"\"\"Compute root mean squared error\"\"\"\n",
    "    return torch.sqrt(torch.mean((y - y_hat).pow(2)))"
   ]
  },
  {
   "cell_type": "code",
   "execution_count": 7,
   "metadata": {
    "collapsed": true
   },
   "outputs": [],
   "source": [
    "model = torch.load('baseline.pth')"
   ]
  },
  {
   "cell_type": "code",
   "execution_count": 8,
   "metadata": {},
   "outputs": [
    {
     "data": {
      "text/plain": [
       "0.6170470714569092"
      ]
     },
     "execution_count": 8,
     "metadata": {},
     "output_type": "execute_result"
    }
   ],
   "source": [
    "inputs = Variable(torch.from_numpy(x_test_0))\n",
    "predict = model(Variable(torch.from_numpy(x_test_0))) * 5\n",
    "targets = Variable(torch.from_numpy(np.array(y_test_0 * 5, dtype=np.float32)))\n",
    "baseline = rmse(predict, targets).sum().data[0]\n",
    "baseline"
   ]
  },
  {
   "cell_type": "markdown",
   "metadata": {},
   "source": [
    "### All rate"
   ]
  },
  {
   "cell_type": "code",
   "execution_count": 9,
   "metadata": {
    "collapsed": true
   },
   "outputs": [],
   "source": [
    "class ANN_1input(nn.Module):\n",
    "    def __init__(self, input_0_size, hidden_size, output_size):\n",
    "        super(ANN_1input, self).__init__()\n",
    "        self.fc0 = nn.Linear(input_0_size, hidden_size) \n",
    "        self.activate0 = nn.Sigmoid()\n",
    "        self.fc = nn.Linear(hidden_size, output_size)\n",
    "        self.bn = nn.BatchNorm1d(output_size, output_size)\n",
    "        self.activate = nn.Sigmoid()\n",
    "        \n",
    "        \n",
    "    def forward(self, x):\n",
    "        h = self.activate0(self.fc0(x))\n",
    "        return self.activate(self.bn(self.fc(h)))"
   ]
  },
  {
   "cell_type": "code",
   "execution_count": 10,
   "metadata": {
    "collapsed": true
   },
   "outputs": [],
   "source": [
    "def test_withoutuser(model, x_0, y):\n",
    "    inputs_0 = Variable(torch.from_numpy(np.array(x_0, dtype = np.float32)))\n",
    "    outputs = model(inputs_0).data[:,0]\n",
    "    tmp = y\n",
    "    tmp['output'] = outputs\n",
    "    target = np.array(tmp.groupby('movie_id')['mean_rate'].mean().reset_index() * 5, dtype = np.float32)[:, 1].reshape((-1, 1))\n",
    "    output = np.array(tmp.groupby(['movie_id'])['output'].mean().reset_index() * 5, dtype = np.float32)[: ,1].reshape((-1,1))\n",
    "    return np.sqrt(np.mean((target - output) * (target - output)))"
   ]
  },
  {
   "cell_type": "code",
   "execution_count": 11,
   "metadata": {
    "collapsed": true
   },
   "outputs": [],
   "source": [
    "x_item_train = pd.read_csv('../../../data/input_formated/final/x_item_train.csv').iloc[:, 1:]\n",
    "x_user_train = pd.read_csv('../../../data/input_formated/final/x_user_train.csv').iloc[:, 1:]\n",
    "y_train = pd.read_csv('../../../data/input_formated/final/y_train.csv').iloc[:, 1:]\n"
   ]
  },
  {
   "cell_type": "code",
   "execution_count": 12,
   "metadata": {
    "collapsed": true
   },
   "outputs": [],
   "source": [
    "x_item_test = pd.read_csv('../../../data/input_formated/final/x_item_test.csv').iloc[:, 1:]\n",
    "x_user_test = pd.read_csv('../../../data/input_formated/final/x_user_test.csv').iloc[:, 1:]\n",
    "y_test = pd.read_csv('../../../data/input_formated/final/y_test.csv').iloc[:, 1:]\n"
   ]
  },
  {
   "cell_type": "code",
   "execution_count": 13,
   "metadata": {
    "collapsed": true
   },
   "outputs": [],
   "source": [
    "model_withoutuser = torch.load('final_without-user/model.pth')"
   ]
  },
  {
   "cell_type": "code",
   "execution_count": 14,
   "metadata": {},
   "outputs": [
    {
     "data": {
      "text/plain": [
       "0.63145781"
      ]
     },
     "execution_count": 14,
     "metadata": {},
     "output_type": "execute_result"
    }
   ],
   "source": [
    "test_withoutuser(model_withoutuser, x_item_train.iloc[:, 2:], y_train)"
   ]
  },
  {
   "cell_type": "code",
   "execution_count": 15,
   "metadata": {},
   "outputs": [
    {
     "data": {
      "text/plain": [
       "0.59858859"
      ]
     },
     "execution_count": 15,
     "metadata": {},
     "output_type": "execute_result"
    }
   ],
   "source": [
    "nouser = test_withoutuser(model_withoutuser, x_item_test.iloc[:, 2:], y_test)\n",
    "nouser"
   ]
  },
  {
   "cell_type": "markdown",
   "metadata": {},
   "source": [
    "## Test - With User"
   ]
  },
  {
   "cell_type": "code",
   "execution_count": 16,
   "metadata": {
    "collapsed": true
   },
   "outputs": [],
   "source": [
    "def test_withuser(model, x_0, x_1, y):\n",
    "    inputs_0 = Variable(torch.from_numpy(np.array(x_0, dtype = np.float32)))\n",
    "    inputs_1 = Variable(torch.from_numpy(np.array(x_1, dtype = np.float32)))\n",
    "    outputs = model(inputs_0, inputs_1).data[:,0]\n",
    "    tmp = y\n",
    "    tmp['output'] = outputs\n",
    "    target = np.array(tmp.groupby('movie_id')['mean_rate'].mean().reset_index() * 5, dtype = np.float32)[:, 1].reshape((-1, 1))\n",
    "    output = np.array(tmp.groupby(['movie_id'])['output'].mean().reset_index() * 5, dtype = np.float32)[: ,1].reshape((-1,1))\n",
    "    return np.sqrt(np.mean((target - output) * (target - output)))"
   ]
  },
  {
   "cell_type": "code",
   "execution_count": 17,
   "metadata": {
    "collapsed": true
   },
   "outputs": [],
   "source": [
    "class ANN_2input(nn.Module):\n",
    "    def __init__(self, input_0_size, input_1_size, hidden_size, output_size):\n",
    "        super(ANN_2input, self).__init__()\n",
    "        self.fc0 = nn.Linear(input_0_size, hidden_size) \n",
    "        self.fc1 = nn.Linear(input_1_size, hidden_size)  \n",
    "        self.activate0 = nn.Sigmoid()\n",
    "        self.activate1 = nn.Sigmoid()\n",
    "        self.fc_merge0 = nn.Linear(hidden_size, hidden_size)\n",
    "        self.fc_merge1 = nn.Linear(hidden_size, hidden_size)\n",
    "        self.bn_merge = nn.BatchNorm1d(hidden_size,hidden_size)\n",
    "        self.activate_merge = nn.Sigmoid()\n",
    "        self.fc = nn.Linear(hidden_size, output_size)\n",
    "        self.bn = nn.BatchNorm1d(output_size, output_size)\n",
    "        self.activate = nn.Sigmoid()\n",
    "        \n",
    "        \n",
    "    def forward(self, x_0, x_1):\n",
    "        h_0 = self.activate0(self.fc0(x_0))\n",
    "        h_1 = self.activate1(self.fc1(x_1))\n",
    "        h = self.activate_merge(self.bn_merge(self.fc_merge0(h_0) + self.fc_merge1(h_1)))\n",
    "        return self.activate(self.bn(self.fc(h)))"
   ]
  },
  {
   "cell_type": "code",
   "execution_count": 18,
   "metadata": {
    "collapsed": true
   },
   "outputs": [],
   "source": [
    "model_withuser = torch.load('final_with-user/ex-2_800.pth')"
   ]
  },
  {
   "cell_type": "code",
   "execution_count": 19,
   "metadata": {},
   "outputs": [
    {
     "data": {
      "text/plain": [
       "0.62028235"
      ]
     },
     "execution_count": 19,
     "metadata": {},
     "output_type": "execute_result"
    }
   ],
   "source": [
    "test_withuser(model_withuser, x_item_train.iloc[:, 2:], x_user_train.iloc[:, 2:], y_train)"
   ]
  },
  {
   "cell_type": "code",
   "execution_count": 20,
   "metadata": {},
   "outputs": [
    {
     "data": {
      "text/plain": [
       "0.58780223"
      ]
     },
     "execution_count": 20,
     "metadata": {},
     "output_type": "execute_result"
    }
   ],
   "source": [
    "withuser = test_withuser(model_withuser, x_item_test.iloc[:, 2:], x_user_test.iloc[:, 2:], y_test)\n",
    "withuser"
   ]
  },
  {
   "cell_type": "code",
   "execution_count": 21,
   "metadata": {},
   "outputs": [
    {
     "data": {
      "text/plain": [
       "1.8019646208918942"
      ]
     },
     "execution_count": 21,
     "metadata": {},
     "output_type": "execute_result"
    }
   ],
   "source": [
    "100 - withuser * 100.0 / nouser"
   ]
  },
  {
   "cell_type": "code",
   "execution_count": 22,
   "metadata": {},
   "outputs": [
    {
     "data": {
      "text/plain": [
       "2.9914226089348688"
      ]
     },
     "execution_count": 22,
     "metadata": {},
     "output_type": "execute_result"
    }
   ],
   "source": [
    "100 - nouser * 100.0 / baseline"
   ]
  },
  {
   "cell_type": "code",
   "execution_count": 23,
   "metadata": {},
   "outputs": [
    {
     "data": {
      "text/plain": [
       "4.7394828527524027"
      ]
     },
     "execution_count": 23,
     "metadata": {},
     "output_type": "execute_result"
    }
   ],
   "source": [
    "100 - withuser * 100.0 / baseline"
   ]
  },
  {
   "cell_type": "code",
   "execution_count": 24,
   "metadata": {},
   "outputs": [
    {
     "name": "stdout",
     "output_type": "stream",
     "text": [
      "0.617047071457 0.598589 0.587802\n"
     ]
    }
   ],
   "source": [
    "print baseline, nouser, withuser"
   ]
  }
 ],
 "metadata": {
  "kernelspec": {
   "display_name": "Python 2",
   "language": "python",
   "name": "python2"
  },
  "language_info": {
   "codemirror_mode": {
    "name": "ipython",
    "version": 2
   },
   "file_extension": ".py",
   "mimetype": "text/x-python",
   "name": "python",
   "nbconvert_exporter": "python",
   "pygments_lexer": "ipython2",
   "version": "2.7.13"
  }
 },
 "nbformat": 4,
 "nbformat_minor": 2
}
