{
 "cells": [
  {
   "cell_type": "code",
   "execution_count": 1,
   "metadata": {
    "collapsed": true
   },
   "outputs": [],
   "source": [
    "import numpy as np\n",
    "import torch\n",
    "import pandas as pd\n",
    "import matplotlib.pyplot as plt"
   ]
  },
  {
   "cell_type": "code",
   "execution_count": 2,
   "metadata": {
    "collapsed": true
   },
   "outputs": [],
   "source": [
    "import torch.nn as nn\n",
    "import torch.nn.functional as functional\n",
    "from torch.autograd import Variable"
   ]
  },
  {
   "cell_type": "markdown",
   "metadata": {},
   "source": [
    "# Read data"
   ]
  },
  {
   "cell_type": "code",
   "execution_count": 23,
   "metadata": {
    "collapsed": true
   },
   "outputs": [],
   "source": [
    "x_item_train = pd.read_csv('../../../data/input_formated/final/x_item_train.csv').iloc[:, 1:]\n",
    "x_user_train = pd.read_csv('../../../data/input_formated/final/x_user_train.csv').iloc[:, 1:]\n",
    "y_train = pd.read_csv('../../../data/input_formated/final/y_train.csv').iloc[:, 1:]"
   ]
  },
  {
   "cell_type": "code",
   "execution_count": 24,
   "metadata": {
    "collapsed": true
   },
   "outputs": [],
   "source": [
    "x_item_val = pd.read_csv('../../../data/input_formated/final/x_item_val.csv').iloc[:, 1:]\n",
    "x_user_val = pd.read_csv('../../../data/input_formated/final/x_user_val.csv').iloc[:, 1:]\n",
    "y_val_df = pd.read_csv('../../../data/input_formated/final/y_val.csv').iloc[:, 1:]\n",
    "y_val = y_val_df"
   ]
  },
  {
   "cell_type": "code",
   "execution_count": 25,
   "metadata": {
    "collapsed": true,
    "scrolled": false
   },
   "outputs": [],
   "source": [
    "item_features = [u'category_Action', u'category_Adventure',\n",
    "       u'category_Animation', u'category_Children\\'s', u'category_Comedy',\n",
    "       u'category_Crime', u'category_Documentary', u'category_Drama',\n",
    "       u'category_Fantasy', u'category_Film-Noir', u'category_Horror',\n",
    "       u'category_Musical', u'category_Mystery', u'category_Romance',\n",
    "       u'category_Sci-Fi', u'category_Thriller', u'category_War',\n",
    "       u'category_Western']"
   ]
  },
  {
   "cell_type": "code",
   "execution_count": 26,
   "metadata": {
    "collapsed": true
   },
   "outputs": [],
   "source": [
    "user_features = [u'occupation_0', u'occupation_1',\n",
    "       u'occupation_2', u'occupation_3', u'occupation_4', u'occupation_5',\n",
    "       u'occupation_6', u'occupation_7', u'occupation_8', u'occupation_9',\n",
    "       u'occupation_10', u'occupation_11', u'occupation_12', u'occupation_13',\n",
    "       u'occupation_14', u'occupation_15', u'occupation_16', u'occupation_17',\n",
    "       u'occupation_18', u'occupation_19', u'occupation_20', u'age',\n",
    "       u'gender']"
   ]
  },
  {
   "cell_type": "code",
   "execution_count": 27,
   "metadata": {
    "collapsed": true
   },
   "outputs": [],
   "source": [
    "target_features = ['rating']"
   ]
  },
  {
   "cell_type": "code",
   "execution_count": 28,
   "metadata": {
    "collapsed": true
   },
   "outputs": [],
   "source": [
    "x_0_train = np.array(x_item_train[item_features], dtype = np.float32)\n",
    "x_1_train = np.array(x_user_train[user_features], dtype = np.float32)\n",
    "y_train = np.array(y_train[target_features], dtype=np.float32).reshape((-1, 1))"
   ]
  },
  {
   "cell_type": "code",
   "execution_count": 29,
   "metadata": {
    "collapsed": true
   },
   "outputs": [],
   "source": [
    "x_0_val = np.array(x_item_val[item_features], dtype = np.float32)\n",
    "x_1_val = np.array(x_user_val[user_features], dtype = np.float32)\n",
    "y_val = np.array(y_val[target_features], dtype=np.float32).reshape((-1, 1))"
   ]
  },
  {
   "cell_type": "markdown",
   "metadata": {},
   "source": [
    "# ANN"
   ]
  },
  {
   "cell_type": "code",
   "execution_count": 10,
   "metadata": {
    "collapsed": true
   },
   "outputs": [],
   "source": [
    "class ANN_2input(nn.Module):\n",
    "    def __init__(self, input_0_size, input_1_size, hidden_size, output_size):\n",
    "        super(ANN_2input, self).__init__()\n",
    "        self.fc0 = nn.Linear(input_0_size, hidden_size) \n",
    "        self.fc1 = nn.Linear(input_1_size, hidden_size)  \n",
    "        self.activate0 = nn.Sigmoid()\n",
    "        self.activate1 = nn.Sigmoid()\n",
    "        self.fc_merge0 = nn.Linear(hidden_size, hidden_size)\n",
    "        self.fc_merge1 = nn.Linear(hidden_size, hidden_size)\n",
    "        self.bn_merge = nn.BatchNorm1d(hidden_size,hidden_size)\n",
    "        self.activate_merge = nn.Sigmoid()\n",
    "        self.fc = nn.Linear(hidden_size, output_size)\n",
    "        self.bn = nn.BatchNorm1d(output_size, output_size)\n",
    "        self.activate = nn.Sigmoid()\n",
    "        \n",
    "        \n",
    "    def forward(self, x_0, x_1):\n",
    "        h_0 = self.activate0(self.fc0(x_0))\n",
    "        h_1 = self.activate1(self.fc1(x_1))\n",
    "        h = self.activate_merge(self.bn_merge(self.fc_merge0(h_0) + self.fc_merge1(h_1)))\n",
    "        return self.activate(self.bn(self.fc(h)))"
   ]
  },
  {
   "cell_type": "markdown",
   "metadata": {},
   "source": [
    "# Train"
   ]
  },
  {
   "cell_type": "code",
   "execution_count": 11,
   "metadata": {
    "collapsed": true
   },
   "outputs": [],
   "source": [
    "def mse_loss_vector(a, b):\n",
    "    return torch.abs((a - b) * (a-b)).mean(dim = 0)"
   ]
  },
  {
   "cell_type": "code",
   "execution_count": 12,
   "metadata": {
    "collapsed": true
   },
   "outputs": [],
   "source": [
    "def rmse(y, y_hat):\n",
    "    \"\"\"Compute root mean squared error\"\"\"\n",
    "    return torch.sqrt(torch.mean((y - y_hat).pow(2)))"
   ]
  },
  {
   "cell_type": "code",
   "execution_count": 30,
   "metadata": {
    "collapsed": true
   },
   "outputs": [],
   "source": [
    "def val_error(model):\n",
    "    inputs_0 = Variable(torch.from_numpy(np.array(x_0_val, dtype = np.float32)))\n",
    "    inputs_1 = Variable(torch.from_numpy(np.array(x_1_val, dtype = np.float32)))\n",
    "    outputs = model(inputs_0, inputs_1).data[:,0]\n",
    "    tmp = y_val_df\n",
    "    tmp['output'] = outputs\n",
    "    target = np.array(tmp.groupby('movie_id')['mean_rate'].mean().reset_index() * 5, dtype = np.float32)[:, 1].reshape((-1, 1))\n",
    "    output = np.array(tmp.groupby(['movie_id'])['output'].mean().reset_index() * 5, dtype = np.float32)[: ,1].reshape((-1,1))\n",
    "    return np.sqrt(np.mean((target - output) * (target - output)))"
   ]
  },
  {
   "cell_type": "code",
   "execution_count": 19,
   "metadata": {
    "collapsed": true
   },
   "outputs": [],
   "source": [
    "def train(x_0_train, x_1_train, y_train, x_0_val, x_1_val, y_val, learning_rate, num_epochs, old_epochs, hidden_size, check_point = 100, model = None, model_save = None, max_patience = 200):\n",
    "    if model is None:\n",
    "        model = ANN_2input(x_0_train.shape[1], x_1_train.shape[1], hidden_size, y_train.shape[1])\n",
    "    \n",
    "    # Loss and Optimizer\n",
    "    optimizer = torch.optim.Adam(model.parameters(), lr=learning_rate)  \n",
    "    train_loss_list, val_loss_list = [], []\n",
    "\n",
    "    #early stopping\n",
    "    patience = 0\n",
    "    best_val = None\n",
    "    model_best = None \n",
    "    \n",
    "    # Train the Model \n",
    "    for epoch in range(num_epochs):\n",
    "        # Convert numpy array to torch Variable\n",
    "        inputs_0 = Variable(torch.from_numpy(x_0_train))\n",
    "        inputs_1 = Variable(torch.from_numpy(x_1_train))\n",
    "        targets = Variable(torch.from_numpy(y_train), requires_grad = False)\n",
    "\n",
    "        # Forward + Backward + Optimize\n",
    "        optimizer.zero_grad()  \n",
    "        outputs = model(inputs_0, inputs_1)\n",
    "        train_loss = mse_loss_vector(outputs, targets).sum()\n",
    "        \n",
    "        train_loss_list.append(train_loss.data[0])\n",
    "\n",
    "        #validate\n",
    "        inputs_0 = Variable(torch.from_numpy(x_0_val))\n",
    "        inputs_1 = Variable(torch.from_numpy(x_1_val))\n",
    "        targets = Variable(torch.from_numpy(y_val), requires_grad = False)\n",
    "        outputs = model(inputs_0,inputs_1)   \n",
    "        val_loss = mse_loss_vector(outputs, targets).sum()\n",
    "        val_loss_list.append(val_loss.data[0])\n",
    "        val_err = val_error(model)\n",
    "\n",
    "        train_loss.backward()\n",
    "        optimizer.step()\n",
    "\n",
    "        if (epoch == 0) or ((epoch+1) % check_point == 0):\n",
    "            print ('Epoch [%d/%d], Loss: %.4f, %.4f, Val Error: %.4f' \n",
    "                   %(epoch+1+old_epochs, num_epochs + old_epochs, train_loss.data[0], val_loss.data[0], val_err))\n",
    "            if model_save is not None:\n",
    "                torch.save(model, '%s_%d.pth' % (model_save, epoch + 1 + old_epochs))\n",
    "        if (best_val is None) or ((best_val is not None) and (val_err < best_val)) :\n",
    "            best_val = val_err.data[0]\n",
    "            patience = max_patience\n",
    "            model_best = model\n",
    "#             print 'Optimal: %d' % (epoch+1 + 5000)\n",
    "        else:\n",
    "            patience -= 1\n",
    "        if patience == 0:\n",
    "            print 'Early stopping at %d' % (epoch +1+ old_epochs)\n",
    "            break            \n",
    "\n",
    "    #Plot the graph\n",
    "    plt.plot(range(len(val_loss_list)), train_loss_list, label='train')\n",
    "    plt.plot(range(len(val_loss_list)), val_loss_list, label ='validate')\n",
    "    \n",
    "    plt.legend()\n",
    "    plt.show()\n",
    "    \n",
    "    return model_best"
   ]
  },
  {
   "cell_type": "code",
   "execution_count": 16,
   "metadata": {},
   "outputs": [
    {
     "name": "stdout",
     "output_type": "stream",
     "text": [
      "Epoch [1/1000], Loss: 0.0971, 0.0943\n"
     ]
    },
    {
     "name": "stderr",
     "output_type": "stream",
     "text": [
      "/home/anla/Apps/anaconda2/lib/python2.7/site-packages/torch/serialization.py:147: UserWarning: Couldn't retrieve source code for container of type ANN_2input. It won't be checked for correctness upon loading.\n",
      "  \"type \" + obj.__name__ + \". It won't be checked \"\n"
     ]
    },
    {
     "name": "stdout",
     "output_type": "stream",
     "text": [
      "Epoch [10/1000], Loss: 0.0878, 0.0852\n",
      "Epoch [20/1000], Loss: 0.0786, 0.0761\n",
      "Epoch [30/1000], Loss: 0.0707, 0.0682\n",
      "Epoch [40/1000], Loss: 0.0646, 0.0623\n",
      "Epoch [50/1000], Loss: 0.0600, 0.0581\n",
      "Epoch [60/1000], Loss: 0.0565, 0.0550\n",
      "Epoch [70/1000], Loss: 0.0541, 0.0528\n",
      "Epoch [80/1000], Loss: 0.0523, 0.0511\n",
      "Epoch [90/1000], Loss: 0.0510, 0.0499\n",
      "Epoch [100/1000], Loss: 0.0501, 0.0491\n",
      "Epoch [110/1000], Loss: 0.0494, 0.0486\n",
      "Epoch [120/1000], Loss: 0.0489, 0.0482\n",
      "Epoch [130/1000], Loss: 0.0486, 0.0480\n",
      "Epoch [140/1000], Loss: 0.0483, 0.0478\n",
      "Epoch [150/1000], Loss: 0.0482, 0.0478\n",
      "Epoch [160/1000], Loss: 0.0480, 0.0477\n",
      "Epoch [170/1000], Loss: 0.0479, 0.0477\n",
      "Epoch [180/1000], Loss: 0.0478, 0.0477\n",
      "Epoch [190/1000], Loss: 0.0476, 0.0477\n",
      "Epoch [200/1000], Loss: 0.0475, 0.0477\n",
      "Epoch [210/1000], Loss: 0.0473, 0.0478\n",
      "Epoch [220/1000], Loss: 0.0472, 0.0479\n",
      "Epoch [230/1000], Loss: 0.0470, 0.0480\n",
      "Epoch [240/1000], Loss: 0.0468, 0.0480\n",
      "Epoch [250/1000], Loss: 0.0467, 0.0480\n",
      "Epoch [260/1000], Loss: 0.0465, 0.0482\n",
      "Epoch [270/1000], Loss: 0.0464, 0.0483\n",
      "Epoch [280/1000], Loss: 0.0463, 0.0484\n",
      "Epoch [290/1000], Loss: 0.0463, 0.0485\n",
      "Epoch [300/1000], Loss: 0.0462, 0.0486\n",
      "Epoch [310/1000], Loss: 0.0462, 0.0487\n",
      "Epoch [320/1000], Loss: 0.0461, 0.0487\n",
      "Epoch [330/1000], Loss: 0.0461, 0.0487\n",
      "Epoch [340/1000], Loss: 0.0461, 0.0487\n",
      "Epoch [350/1000], Loss: 0.0460, 0.0488\n",
      "Epoch [360/1000], Loss: 0.0460, 0.0488\n",
      "Epoch [370/1000], Loss: 0.0460, 0.0488\n",
      "Early stopping at 375\n"
     ]
    },
    {
     "data": {
      "image/png": "[encoded data removed]",
      "text/plain": [
       "<matplotlib.figure.Figure at 0x7f67af95e850>"
      ]
     },
     "metadata": {},
     "output_type": "display_data"
    }
   ],
   "source": [
    "model_ex1 = train(x_0_train, x_1_train, y_train, x_0_val, x_1_val, y_val,  learning_rate = 0.01, num_epochs= 1000, old_epochs = 0, hidden_size = 10, check_point = 10, model_save='final_with-user/ex-1')"
   ]
  },
  {
   "cell_type": "code",
   "execution_count": 31,
   "metadata": {
    "scrolled": false
   },
   "outputs": [
    {
     "name": "stdout",
     "output_type": "stream",
     "text": [
      "Epoch [1/1000], Loss: 0.0971, 0.0943, Val Error: 0.9977\n"
     ]
    },
    {
     "name": "stderr",
     "output_type": "stream",
     "text": [
      "/home/anla/Apps/anaconda2/lib/python2.7/site-packages/ipykernel_launcher.py:45: DeprecationWarning: unorderable dtypes; returning scalar but in the future this will be an error\n"
     ]
    },
    {
     "name": "stdout",
     "output_type": "stream",
     "text": [
      "Epoch [10/1000], Loss: 0.0961, 0.0933, Val Error: 0.9895\n",
      "Epoch [20/1000], Loss: 0.0951, 0.0923, Val Error: 0.9804\n",
      "Epoch [30/1000], Loss: 0.0940, 0.0912, Val Error: 0.9714\n",
      "Epoch [40/1000], Loss: 0.0930, 0.0902, Val Error: 0.9625\n",
      "Epoch [50/1000], Loss: 0.0919, 0.0892, Val Error: 0.9536\n",
      "Epoch [60/1000], Loss: 0.0909, 0.0882, Val Error: 0.9447\n",
      "Epoch [70/1000], Loss: 0.0899, 0.0872, Val Error: 0.9357\n",
      "Epoch [80/1000], Loss: 0.0889, 0.0862, Val Error: 0.9266\n",
      "Epoch [90/1000], Loss: 0.0879, 0.0853, Val Error: 0.9174\n",
      "Epoch [100/1000], Loss: 0.0869, 0.0843, Val Error: 0.9079\n",
      "Epoch [110/1000], Loss: 0.0860, 0.0833, Val Error: 0.8981\n",
      "Epoch [120/1000], Loss: 0.0850, 0.0823, Val Error: 0.8879\n",
      "Epoch [130/1000], Loss: 0.0840, 0.0813, Val Error: 0.8774\n",
      "Epoch [140/1000], Loss: 0.0830, 0.0804, Val Error: 0.8665\n",
      "Epoch [150/1000], Loss: 0.0821, 0.0794, Val Error: 0.8554\n",
      "Epoch [160/1000], Loss: 0.0812, 0.0784, Val Error: 0.8442\n",
      "Epoch [170/1000], Loss: 0.0803, 0.0775, Val Error: 0.8333\n",
      "Epoch [180/1000], Loss: 0.0794, 0.0766, Val Error: 0.8229\n",
      "Epoch [190/1000], Loss: 0.0785, 0.0758, Val Error: 0.8132\n",
      "Epoch [200/1000], Loss: 0.0777, 0.0749, Val Error: 0.8046\n",
      "Epoch [210/1000], Loss: 0.0769, 0.0742, Val Error: 0.7968\n",
      "Epoch [220/1000], Loss: 0.0761, 0.0734, Val Error: 0.7897\n",
      "Epoch [230/1000], Loss: 0.0754, 0.0727, Val Error: 0.7831\n",
      "Epoch [240/1000], Loss: 0.0746, 0.0720, Val Error: 0.7770\n",
      "Epoch [250/1000], Loss: 0.0739, 0.0713, Val Error: 0.7711\n",
      "Epoch [260/1000], Loss: 0.0732, 0.0707, Val Error: 0.7655\n",
      "Epoch [270/1000], Loss: 0.0725, 0.0700, Val Error: 0.7601\n",
      "Epoch [280/1000], Loss: 0.0718, 0.0694, Val Error: 0.7549\n",
      "Epoch [290/1000], Loss: 0.0712, 0.0688, Val Error: 0.7500\n",
      "Epoch [300/1000], Loss: 0.0706, 0.0682, Val Error: 0.7452\n",
      "Epoch [310/1000], Loss: 0.0700, 0.0677, Val Error: 0.7405\n",
      "Epoch [320/1000], Loss: 0.0694, 0.0671, Val Error: 0.7360\n",
      "Epoch [330/1000], Loss: 0.0688, 0.0666, Val Error: 0.7316\n",
      "Epoch [340/1000], Loss: 0.0682, 0.0661, Val Error: 0.7273\n",
      "Epoch [350/1000], Loss: 0.0677, 0.0656, Val Error: 0.7230\n",
      "Epoch [360/1000], Loss: 0.0671, 0.0651, Val Error: 0.7189\n",
      "Epoch [370/1000], Loss: 0.0666, 0.0646, Val Error: 0.7148\n",
      "Epoch [380/1000], Loss: 0.0661, 0.0641, Val Error: 0.7108\n",
      "Epoch [390/1000], Loss: 0.0656, 0.0636, Val Error: 0.7069\n",
      "Epoch [400/1000], Loss: 0.0651, 0.0632, Val Error: 0.7031\n",
      "Epoch [410/1000], Loss: 0.0647, 0.0627, Val Error: 0.6995\n",
      "Epoch [420/1000], Loss: 0.0642, 0.0623, Val Error: 0.6960\n",
      "Epoch [430/1000], Loss: 0.0638, 0.0619, Val Error: 0.6926\n",
      "Epoch [440/1000], Loss: 0.0633, 0.0615, Val Error: 0.6893\n",
      "Epoch [450/1000], Loss: 0.0629, 0.0611, Val Error: 0.6862\n",
      "Epoch [460/1000], Loss: 0.0625, 0.0607, Val Error: 0.6832\n",
      "Epoch [470/1000], Loss: 0.0621, 0.0603, Val Error: 0.6803\n",
      "Epoch [480/1000], Loss: 0.0617, 0.0599, Val Error: 0.6775\n",
      "Epoch [490/1000], Loss: 0.0613, 0.0595, Val Error: 0.6749\n",
      "Epoch [500/1000], Loss: 0.0609, 0.0592, Val Error: 0.6724\n",
      "Epoch [510/1000], Loss: 0.0605, 0.0588, Val Error: 0.6700\n",
      "Epoch [520/1000], Loss: 0.0602, 0.0585, Val Error: 0.6678\n",
      "Epoch [530/1000], Loss: 0.0598, 0.0582, Val Error: 0.6656\n",
      "Epoch [540/1000], Loss: 0.0595, 0.0578, Val Error: 0.6636\n",
      "Epoch [550/1000], Loss: 0.0591, 0.0575, Val Error: 0.6617\n",
      "Epoch [560/1000], Loss: 0.0588, 0.0572, Val Error: 0.6599\n",
      "Epoch [570/1000], Loss: 0.0585, 0.0569, Val Error: 0.6582\n",
      "Epoch [580/1000], Loss: 0.0582, 0.0566, Val Error: 0.6566\n",
      "Epoch [590/1000], Loss: 0.0579, 0.0564, Val Error: 0.6551\n",
      "Epoch [600/1000], Loss: 0.0576, 0.0561, Val Error: 0.6537\n",
      "Epoch [610/1000], Loss: 0.0573, 0.0558, Val Error: 0.6523\n",
      "Epoch [620/1000], Loss: 0.0570, 0.0556, Val Error: 0.6511\n",
      "Epoch [630/1000], Loss: 0.0567, 0.0553, Val Error: 0.6500\n",
      "Epoch [640/1000], Loss: 0.0565, 0.0551, Val Error: 0.6490\n",
      "Epoch [650/1000], Loss: 0.0562, 0.0548, Val Error: 0.6480\n",
      "Epoch [660/1000], Loss: 0.0560, 0.0546, Val Error: 0.6472\n",
      "Epoch [670/1000], Loss: 0.0557, 0.0544, Val Error: 0.6464\n",
      "Epoch [680/1000], Loss: 0.0555, 0.0541, Val Error: 0.6457\n",
      "Epoch [690/1000], Loss: 0.0552, 0.0539, Val Error: 0.6451\n",
      "Epoch [700/1000], Loss: 0.0550, 0.0537, Val Error: 0.6445\n",
      "Epoch [710/1000], Loss: 0.0548, 0.0535, Val Error: 0.6440\n",
      "Epoch [720/1000], Loss: 0.0546, 0.0533, Val Error: 0.6436\n",
      "Epoch [730/1000], Loss: 0.0544, 0.0531, Val Error: 0.6433\n",
      "Epoch [740/1000], Loss: 0.0541, 0.0530, Val Error: 0.6430\n",
      "Epoch [750/1000], Loss: 0.0539, 0.0528, Val Error: 0.6428\n",
      "Epoch [760/1000], Loss: 0.0538, 0.0526, Val Error: 0.6426\n",
      "Epoch [770/1000], Loss: 0.0536, 0.0524, Val Error: 0.6425\n",
      "Epoch [780/1000], Loss: 0.0534, 0.0523, Val Error: 0.6425\n",
      "Epoch [790/1000], Loss: 0.0532, 0.0521, Val Error: 0.6425\n",
      "Epoch [800/1000], Loss: 0.0530, 0.0520, Val Error: 0.6426\n",
      "Epoch [810/1000], Loss: 0.0528, 0.0518, Val Error: 0.6427\n",
      "Epoch [820/1000], Loss: 0.0527, 0.0517, Val Error: 0.6429\n",
      "Epoch [830/1000], Loss: 0.0525, 0.0515, Val Error: 0.6431\n",
      "Epoch [840/1000], Loss: 0.0523, 0.0514, Val Error: 0.6433\n",
      "Epoch [850/1000], Loss: 0.0522, 0.0513, Val Error: 0.6436\n",
      "Epoch [860/1000], Loss: 0.0520, 0.0511, Val Error: 0.6440\n",
      "Epoch [870/1000], Loss: 0.0519, 0.0510, Val Error: 0.6443\n",
      "Epoch [880/1000], Loss: 0.0517, 0.0509, Val Error: 0.6447\n",
      "Epoch [890/1000], Loss: 0.0516, 0.0508, Val Error: 0.6452\n",
      "Epoch [900/1000], Loss: 0.0514, 0.0507, Val Error: 0.6457\n",
      "Epoch [910/1000], Loss: 0.0513, 0.0506, Val Error: 0.6462\n",
      "Epoch [920/1000], Loss: 0.0512, 0.0505, Val Error: 0.6468\n",
      "Epoch [930/1000], Loss: 0.0510, 0.0504, Val Error: 0.6474\n",
      "Epoch [940/1000], Loss: 0.0509, 0.0503, Val Error: 0.6480\n",
      "Epoch [950/1000], Loss: 0.0508, 0.0502, Val Error: 0.6486\n",
      "Epoch [960/1000], Loss: 0.0507, 0.0501, Val Error: 0.6493\n",
      "Epoch [970/1000], Loss: 0.0506, 0.0500, Val Error: 0.6500\n",
      "Epoch [980/1000], Loss: 0.0504, 0.0499, Val Error: 0.6508\n",
      "Epoch [990/1000], Loss: 0.0503, 0.0499, Val Error: 0.6515\n",
      "Epoch [1000/1000], Loss: 0.0502, 0.0498, Val Error: 0.6523\n"
     ]
    },
    {
     "data": {
      "image/png": "[encoded data removed]",
      "text/plain": [
       "<matplotlib.figure.Figure at 0x7f679fcc5a50>"
      ]
     },
     "metadata": {},
     "output_type": "display_data"
    }
   ],
   "source": [
    "model_ex2 = train(x_0_train, x_1_train, y_train, x_0_val, x_1_val, y_val,  learning_rate = 0.001, num_epochs= 1000, old_epochs = 0, hidden_size = 10, check_point = 10, model_save='final_with-user/ex-2')"
   ]
  },
  {
   "cell_type": "code",
   "execution_count": null,
   "metadata": {},
   "outputs": [],
   "source": [
    "model_ex2 = train(x_0_train, x_1_train, y_train, x_0_val, x_1_val, y_val,  learning_rate = 0.001, num_epochs= 3000, old_epochs = 0, hidden_size = 10, check_point = 10, model_save='final_with-user/ex-2')"
   ]
  },
  {
   "cell_type": "markdown",
   "metadata": {},
   "source": [
    "# Test"
   ]
  },
  {
   "cell_type": "code",
   "execution_count": null,
   "metadata": {
    "collapsed": true
   },
   "outputs": [],
   "source": [
    "model2.activate1 = model.activate2"
   ]
  },
  {
   "cell_type": "code",
   "execution_count": null,
   "metadata": {
    "collapsed": true
   },
   "outputs": [],
   "source": [
    "def test(x_0, x_1, y):\n",
    "    inputs_0 = Variable(torch.from_numpy(np.array(x_0, dtype = np.float32)))\n",
    "    inputs_1 = Variable(torch.from_numpy(np.array(x_1, dtype = np.float32)))\n",
    "    outputs = model2(inputs_0, inputs_1).data[:,0]\n",
    "    tmp = y\n",
    "    tmp['output'] = outputs\n",
    "    target = np.array(tmp.groupby('movie_id')['mean_rate'].mean().reset_index() * 5, dtype = np.float32)[:, 1].reshape((-1, 1))\n",
    "    output = np.array(tmp.groupby(['movie_id'])['output'].mean().reset_index() * 5, dtype = np.float32)[: ,1].reshape((-1,1))\n",
    "    return np.sqrt(np.mean((target - output) * (target - output)))"
   ]
  },
  {
   "cell_type": "code",
   "execution_count": null,
   "metadata": {},
   "outputs": [],
   "source": [
    "x_item_train.iloc[:, 2:].shape"
   ]
  },
  {
   "cell_type": "code",
   "execution_count": null,
   "metadata": {
    "scrolled": true
   },
   "outputs": [],
   "source": [
    "test(x_item_train.iloc[:, 2:], x_user_train.iloc[:, 2:], y_train)"
   ]
  },
  {
   "cell_type": "code",
   "execution_count": null,
   "metadata": {},
   "outputs": [],
   "source": [
    "test(x_item_test.iloc[:, 2:], x_user_test.iloc[:, 2:], y_test)"
   ]
  }
 ],
 "metadata": {
  "kernelspec": {
   "display_name": "Python 2",
   "language": "python",
   "name": "python2"
  },
  "language_info": {
   "codemirror_mode": {
    "name": "ipython",
    "version": 2
   },
   "file_extension": ".py",
   "mimetype": "text/x-python",
   "name": "python",
   "nbconvert_exporter": "python",
   "pygments_lexer": "ipython2",
   "version": "2.7.13"
  }
 },
 "nbformat": 4,
 "nbformat_minor": 2
}
