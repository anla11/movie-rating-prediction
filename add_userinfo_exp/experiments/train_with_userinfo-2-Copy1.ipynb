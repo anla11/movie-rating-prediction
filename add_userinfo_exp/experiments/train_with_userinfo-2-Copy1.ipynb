{
 "cells": [
  {
   "cell_type": "code",
   "execution_count": 1,
   "metadata": {
    "collapsed": true
   },
   "outputs": [],
   "source": [
    "import numpy as np\n",
    "import torch\n",
    "import pandas as pd\n",
    "import matplotlib.pyplot as plt"
   ]
  },
  {
   "cell_type": "code",
   "execution_count": 2,
   "metadata": {
    "collapsed": true
   },
   "outputs": [],
   "source": [
    "import torch.nn as nn\n",
    "import torch.nn.functional as functional\n",
    "from torch.autograd import Variable"
   ]
  },
  {
   "cell_type": "markdown",
   "metadata": {},
   "source": [
    "# Read data"
   ]
  },
  {
   "cell_type": "code",
   "execution_count": 24,
   "metadata": {
    "collapsed": true
   },
   "outputs": [],
   "source": [
    "x_item_train = np.loadtxt('../../data/input_formated/withuser_2/x_item_train.csv')\n",
    "x_user_train = np.loadtxt('../../data/input_formated/withuser_2/x_user_train.csv')\n",
    "y_train = np.loadtxt('../../data/input_formated/withuser_2/y_train.csv').reshape((-1, 2))\n"
   ]
  },
  {
   "cell_type": "code",
   "execution_count": 27,
   "metadata": {
    "collapsed": true
   },
   "outputs": [],
   "source": [
    "x_item_test = np.loadtxt('../../data/input_formated/withuser_2/x_item_test.csv')\n",
    "x_user_test = np.loadtxt('../../data/input_formated/withuser_2/x_user_test.csv')\n",
    "y_test = np.loadtxt('../../data/input_formated/withuser_2/y_test.csv').reshape((-1, 2))\n"
   ]
  },
  {
   "cell_type": "code",
   "execution_count": 39,
   "metadata": {
    "collapsed": true
   },
   "outputs": [],
   "source": [
    "x_item_train = np.array(x_item_train, dtype = np.float32)\n",
    "x_user_train = np.array(x_user_train, dtype = np.float32)\n",
    "y_train = np.array(y_train, dtype = np.float32)"
   ]
  },
  {
   "cell_type": "code",
   "execution_count": 35,
   "metadata": {
    "collapsed": true
   },
   "outputs": [],
   "source": [
    "x_item_test = np.array(x_item_test, dtype = np.float32)\n",
    "x_user_test = np.array(x_user_test, dtype = np.float32)\n",
    "y_test = np.array(y_test, dtype = np.float32)"
   ]
  },
  {
   "cell_type": "markdown",
   "metadata": {},
   "source": [
    "# ANN"
   ]
  },
  {
   "cell_type": "code",
   "execution_count": 6,
   "metadata": {
    "collapsed": true
   },
   "outputs": [],
   "source": [
    "def mse_loss_vector(a, b):\n",
    "    return torch.abs((a - b) * (a-b)).mean(dim = 0)"
   ]
  },
  {
   "cell_type": "code",
   "execution_count": 7,
   "metadata": {
    "collapsed": true
   },
   "outputs": [],
   "source": [
    "def rmse(y, y_hat):\n",
    "    \"\"\"Compute root mean squared error\"\"\"\n",
    "    return torch.sqrt(torch.mean((y - y_hat).pow(2)))"
   ]
  },
  {
   "cell_type": "code",
   "execution_count": 8,
   "metadata": {
    "collapsed": true
   },
   "outputs": [],
   "source": [
    "class ANN_2input(nn.Module):\n",
    "    def __init__(self, input_0_size, input_1_size, output_size):\n",
    "        super(ANN_2input, self).__init__()\n",
    "        self.fc0 = nn.Linear(input_0_size, output_size) \n",
    "        self.fc1 = nn.Linear(input_1_size, output_size)  \n",
    "        self.fc_out0 = nn.Linear(output_size, output_size)\n",
    "        self.fc_out1 = nn.Linear(output_size, output_size)\n",
    "        self.fc = nn.Linear(output_size, output_size)\n",
    "        self.activate = nn.Sigmoid()\n",
    "        \n",
    "        \n",
    "    def forward(self, x_0, x_1):\n",
    "        h_0 = self.fc0(x_0)\n",
    "        h_1 = self.fc1(x_1)\n",
    "        h = self.activate(self.fc(self.fc_out0(h_0) + self.fc_out1(h_1)))\n",
    "        return h"
   ]
  },
  {
   "cell_type": "code",
   "execution_count": 32,
   "metadata": {
    "collapsed": true
   },
   "outputs": [],
   "source": [
    "def train(x_0, x_1, y, learning_rate, num_epochs, check_point = 100):\n",
    "    n = int(0.8 * len(y))\n",
    "    x_0_train = np.array(x_0[:n, :], dtype = np.float32)\n",
    "    x_0_val = np.array(x_0[n:, :], dtype = np.float32)\n",
    "    x_1_train = np.array(x_1[:n, :], dtype = np.float32)\n",
    "    x_1_val = np.array(x_1[n:, :], dtype = np.float32)\n",
    "    \n",
    "    y_train = np.array(y[:n, :], dtype = np.float32)\n",
    "    y_val = np.array(y[n:, :], dtype = np.float32)\n",
    "\n",
    "    model = ANN_2input(x_0_train.shape[1], x_1_train.shape[1], y_train.shape[1])\n",
    "\n",
    "    # Loss and Optimizer\n",
    "    optimizer = torch.optim.Adam(model.parameters(), lr=learning_rate)  \n",
    "    train_loss_list, val_loss_list = [], []\n",
    "\n",
    "    #early stopping\n",
    "    max_patience = 100\n",
    "    patience = 0\n",
    "    best_val = None\n",
    "    \n",
    "    # Train the Model \n",
    "    for epoch in range(num_epochs):\n",
    "        # Convert numpy array to torch Variable\n",
    "        inputs_0 = Variable(torch.from_numpy(x_0_train))\n",
    "        inputs_1 = Variable(torch.from_numpy(x_1_train))\n",
    "        targets = Variable(torch.from_numpy(y_train), requires_grad = False)\n",
    "\n",
    "        # Forward + Backward + Optimize\n",
    "        optimizer.zero_grad()  \n",
    "        outputs = model(inputs_0, inputs_1)\n",
    "        train_loss = mse_loss_vector(outputs, targets).sum()\n",
    "        \n",
    "        train_loss_list.append(train_loss.data[0])\n",
    "\n",
    "        #validate\n",
    "        inputs_0 = Variable(torch.from_numpy(x_0_val))\n",
    "        inputs_1 = Variable(torch.from_numpy(x_1_val))\n",
    "        targets = Variable(torch.from_numpy(y_val), requires_grad = False)\n",
    "        outputs = model(inputs_0,inputs_1)   \n",
    "        val_loss = mse_loss_vector(outputs, targets).sum()\n",
    "        val_loss_list.append(val_loss.data[0])\n",
    "        \n",
    "\n",
    "        train_loss.backward()\n",
    "        optimizer.step()\n",
    "\n",
    "        if (epoch == 0) or ((epoch+1) % check_point == 0):\n",
    "            print ('Epoch [%d/%d], Loss: %.4f, %.4f' \n",
    "                   %(epoch+1, num_epochs, train_loss.data[0], val_loss.data[0]))\n",
    "        if (best_val is None) or ((best_val is not None) and (val_loss < best_val)) :\n",
    "            best_val = val_loss\n",
    "            patience = max_patience\n",
    "        else:\n",
    "            patience -= 1\n",
    "        if patience == 0:\n",
    "            print 'Early stopping at %d' % epoch\n",
    "            break            \n",
    "\n",
    "    #Plot the graph\n",
    "    plt.plot(range(len(val_loss_list)), train_loss_list, label='train')\n",
    "    plt.plot(range(len(val_loss_list)), val_loss_list, label ='validate')\n",
    "    \n",
    "    plt.legend()\n",
    "    plt.show()\n",
    "    \n",
    "    return model"
   ]
  },
  {
   "cell_type": "code",
   "execution_count": 33,
   "metadata": {},
   "outputs": [
    {
     "name": "stdout",
     "output_type": "stream",
     "text": [
      "Epoch [1/500], Loss: 0.2409, 0.2411\n",
      "Epoch [100/500], Loss: 0.0583, 0.0585\n",
      "Epoch [200/500], Loss: 0.0535, 0.0537\n",
      "Epoch [300/500], Loss: 0.0388, 0.0389\n",
      "Epoch [400/500], Loss: 0.0382, 0.0383\n",
      "Epoch [500/500], Loss: 0.0381, 0.0382\n"
     ]
    },
    {
     "data": {
      "image/png": "[encoded data removed]",
      "text/plain": [
       "<matplotlib.figure.Figure at 0x7f8e6a079a90>"
      ]
     },
     "metadata": {},
     "output_type": "display_data"
    }
   ],
   "source": [
    "model = train(x_item_train, x_user_train, y_train, learning_rate = 0.01, num_epochs= 500, check_point = 100)"
   ]
  },
  {
   "cell_type": "code",
   "execution_count": 36,
   "metadata": {},
   "outputs": [
    {
     "name": "stdout",
     "output_type": "stream",
     "text": [
      "Variable containing:\n",
      " 0.9766\n",
      "[torch.FloatTensor of size 1]\n",
      "\n"
     ]
    }
   ],
   "source": [
    "inputs_0 = Variable(torch.from_numpy(x_item_test))\n",
    "inputs_1 = Variable(torch.from_numpy(x_user_test))\n",
    "targets = Variable(torch.from_numpy(y_test[:, 0] * 5), requires_grad = False)\n",
    "outputs = Variable(model(inputs_0, inputs_1).data[:,0] * 5)\n",
    "print rmse(outputs, targets).sum()"
   ]
  },
  {
   "cell_type": "code",
   "execution_count": 13,
   "metadata": {},
   "outputs": [
    {
     "name": "stdout",
     "output_type": "stream",
     "text": [
      "Epoch [1/5000], Loss: 0.0520, 0.0518\n",
      "Epoch [100/5000], Loss: 0.0480, 0.0478\n",
      "Epoch [200/5000], Loss: 0.0480, 0.0478\n",
      "Epoch [300/5000], Loss: 0.0480, 0.0478\n",
      "Epoch [400/5000], Loss: 0.0480, 0.0478\n",
      "Epoch [500/5000], Loss: 0.0480, 0.0478\n",
      "Epoch [600/5000], Loss: 0.0480, 0.0478\n",
      "Epoch [700/5000], Loss: 0.0480, 0.0478\n",
      "Epoch [800/5000], Loss: 0.0480, 0.0478\n",
      "Epoch [900/5000], Loss: 0.0480, 0.0478\n",
      "Epoch [1000/5000], Loss: 0.0480, 0.0478\n",
      "Epoch [1100/5000], Loss: 0.0480, 0.0478\n",
      "Epoch [1200/5000], Loss: 0.0480, 0.0478\n",
      "Epoch [1300/5000], Loss: 0.0480, 0.0479\n",
      "Epoch [1400/5000], Loss: 0.0480, 0.0478\n",
      "Epoch [1500/5000], Loss: 0.0480, 0.0478\n",
      "Epoch [1600/5000], Loss: 0.0480, 0.0478\n",
      "Epoch [1700/5000], Loss: 0.0480, 0.0478\n",
      "Epoch [1800/5000], Loss: 0.0480, 0.0478\n",
      "Epoch [1900/5000], Loss: 0.0480, 0.0478\n",
      "Epoch [2000/5000], Loss: 0.0480, 0.0478\n",
      "Epoch [2100/5000], Loss: 0.0480, 0.0478\n",
      "Epoch [2200/5000], Loss: 0.0480, 0.0478\n",
      "Epoch [2300/5000], Loss: 0.0480, 0.0478\n",
      "Epoch [2400/5000], Loss: 0.0480, 0.0478\n",
      "Epoch [2500/5000], Loss: 0.0480, 0.0478\n",
      "Epoch [2600/5000], Loss: 0.0480, 0.0478\n",
      "Epoch [2700/5000], Loss: 0.0480, 0.0478\n",
      "Epoch [2800/5000], Loss: 0.0480, 0.0478\n",
      "Epoch [2900/5000], Loss: 0.0481, 0.0480\n",
      "Epoch [3000/5000], Loss: 0.0480, 0.0478\n",
      "Epoch [3100/5000], Loss: 0.0480, 0.0478\n",
      "Epoch [3200/5000], Loss: 0.0480, 0.0478\n",
      "Epoch [3300/5000], Loss: 0.0480, 0.0478\n",
      "Epoch [3400/5000], Loss: 0.0480, 0.0478\n",
      "Epoch [3500/5000], Loss: 0.0480, 0.0478\n",
      "Epoch [3600/5000], Loss: 0.0480, 0.0478\n",
      "Epoch [3700/5000], Loss: 0.0480, 0.0478\n",
      "Epoch [3800/5000], Loss: 0.0480, 0.0478\n",
      "Epoch [3900/5000], Loss: 0.0480, 0.0478\n",
      "Epoch [4000/5000], Loss: 0.0480, 0.0478\n",
      "Epoch [4100/5000], Loss: 0.0480, 0.0478\n",
      "Epoch [4200/5000], Loss: 0.0480, 0.0478\n",
      "Epoch [4300/5000], Loss: 0.0480, 0.0478\n",
      "Epoch [4400/5000], Loss: 0.0480, 0.0478\n",
      "Epoch [4500/5000], Loss: 0.0480, 0.0478\n",
      "Epoch [4600/5000], Loss: 0.0480, 0.0478\n",
      "Epoch [4700/5000], Loss: 0.0480, 0.0478\n",
      "Epoch [4800/5000], Loss: 0.0480, 0.0478\n",
      "Epoch [4900/5000], Loss: 0.0480, 0.0479\n",
      "Epoch [5000/5000], Loss: 0.0480, 0.0478\n"
     ]
    },
    {
     "data": {
      "image/png": "[encoded data removed]",
      "text/plain": [
       "<matplotlib.figure.Figure at 0x7f224cc71d50>"
      ]
     },
     "metadata": {},
     "output_type": "display_data"
    }
   ],
   "source": [
    "model = train(x_item_train, x_user_train, y_train, learning_rate = 0.1, num_epochs= 5000, check_point = 100)"
   ]
  },
  {
   "cell_type": "code",
   "execution_count": 42,
   "metadata": {},
   "outputs": [
    {
     "name": "stdout",
     "output_type": "stream",
     "text": [
      "Variable containing:\n",
      " 0.9747\n",
      "[torch.FloatTensor of size 1]\n",
      "\n"
     ]
    }
   ],
   "source": [
    "inputs_0 = Variable(torch.from_numpy(x_item_train))\n",
    "inputs_1 = Variable(torch.from_numpy(x_user_train))\n",
    "targets = Variable(torch.from_numpy(y_train[:, 0] * 5), requires_grad = False)\n",
    "outputs = Variable(model(inputs_0, inputs_1).data[:,0] * 5)\n",
    "print rmse(outputs, targets).sum()"
   ]
  },
  {
   "cell_type": "code",
   "execution_count": 40,
   "metadata": {},
   "outputs": [
    {
     "name": "stdout",
     "output_type": "stream",
     "text": [
      "Variable containing:\n",
      " 0.9766\n",
      "[torch.FloatTensor of size 1]\n",
      "\n"
     ]
    }
   ],
   "source": [
    "inputs_0 = Variable(torch.from_numpy(x_item_test))\n",
    "inputs_1 = Variable(torch.from_numpy(x_user_test))\n",
    "targets = Variable(torch.from_numpy(y_test[:, 0] * 5), requires_grad = False)\n",
    "outputs = Variable(model(inputs_0, inputs_1).data[:,0] * 5)\n",
    "print rmse(outputs, targets).sum()"
   ]
  },
  {
   "cell_type": "code",
   "execution_count": 41,
   "metadata": {},
   "outputs": [
    {
     "name": "stdout",
     "output_type": "stream",
     "text": [
      "Variable containing:\n",
      "1.00000e-02 *\n",
      "  6.3949\n",
      "[torch.FloatTensor of size 1]\n",
      "\n"
     ]
    }
   ],
   "source": [
    "inputs_0 = Variable(torch.from_numpy(x_item_train))\n",
    "inputs_1 = Variable(torch.from_numpy(x_user_train))\n",
    "targets = Variable(torch.from_numpy(y_train[:, 1] * 5), requires_grad = False)\n",
    "outputs = Variable(model(inputs_0, inputs_1).data[:,1] * 5)\n",
    "print rmse(outputs, targets).sum()"
   ]
  },
  {
   "cell_type": "code",
   "execution_count": 37,
   "metadata": {},
   "outputs": [
    {
     "name": "stdout",
     "output_type": "stream",
     "text": [
      "Variable containing:\n",
      "1.00000e-02 *\n",
      "  6.3792\n",
      "[torch.FloatTensor of size 1]\n",
      "\n"
     ]
    }
   ],
   "source": [
    "inputs_0 = Variable(torch.from_numpy(x_item_test))\n",
    "inputs_1 = Variable(torch.from_numpy(x_user_test))\n",
    "targets = Variable(torch.from_numpy(y_test[:, 1] * 5), requires_grad = False)\n",
    "outputs = Variable(model(inputs_0, inputs_1).data[:,1] * 5)\n",
    "print rmse(outputs, targets).sum()"
   ]
  }
 ],
 "metadata": {
  "kernelspec": {
   "display_name": "Python 2",
   "language": "python",
   "name": "python2"
  },
  "language_info": {
   "codemirror_mode": {
    "name": "ipython",
    "version": 2
   },
   "file_extension": ".py",
   "mimetype": "text/x-python",
   "name": "python",
   "nbconvert_exporter": "python",
   "pygments_lexer": "ipython2",
   "version": "2.7.13"
  }
 },
 "nbformat": 4,
 "nbformat_minor": 2
}
