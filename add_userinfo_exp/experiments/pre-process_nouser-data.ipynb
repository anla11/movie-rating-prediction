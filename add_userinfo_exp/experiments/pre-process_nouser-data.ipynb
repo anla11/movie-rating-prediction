{
 "cells": [
  {
   "cell_type": "code",
   "execution_count": 1,
   "metadata": {
    "collapsed": true
   },
   "outputs": [],
   "source": [
    "import numpy as np\n",
    "import torch\n",
    "import pandas as pd\n",
    "import matplotlib.pyplot as plt"
   ]
  },
  {
   "cell_type": "code",
   "execution_count": 2,
   "metadata": {
    "collapsed": true
   },
   "outputs": [],
   "source": [
    "import torch.nn as nn\n",
    "import torch.nn.functional as functional\n",
    "from torch.autograd import Variable"
   ]
  },
  {
   "cell_type": "code",
   "execution_count": 3,
   "metadata": {
    "collapsed": true
   },
   "outputs": [],
   "source": [
    "def convert_cate_tocol(df, id_cols, cate_col, multi_cate, merge = True):\n",
    "\tdef mapping(cat_list, all_categories):\n",
    "\t\tcategory_vec = np.zeros(len(all_categories)).astype(int)\n",
    "\t\tif multi_cate == True:\n",
    "\t\t\tcat_list = set(cat_list)\n",
    "\t\telse:\n",
    "\t\t\tcat_list = set([cat_list])\n",
    "\t\tfor i in range(len(all_categories)):\n",
    "\t\t\tif all_categories[i] in cat_list:\n",
    "\t\t\t\tcategory_vec[i] = 1\n",
    "\t\treturn category_vec\n",
    "\t\n",
    "\tall_categories = None\n",
    "\tif multi_cate:\n",
    "\t\tall_categories = np.unique(sum(df[cate_col], []))\n",
    "\telse:\n",
    "\t\tall_categories = np.unique(df[cate_col])\n",
    "\t\n",
    "\tres_df = pd.DataFrame([mapping(df.iloc[i][cate_col], all_categories) for i in range(len(df))],columns=all_categories)\n",
    "\tres_df.columns = ['%s_%s' % (cate_col, col) for col in res_df.columns]\n",
    "\tfor col in id_cols:\n",
    "\t\tres_df[col] = df[col]\n",
    "\t\t\n",
    "\tif merge == True:\n",
    "\t\tres_df = pd.merge(res_df, df, on = id_cols)\n",
    "\treturn res_df"
   ]
  },
  {
   "cell_type": "markdown",
   "metadata": {},
   "source": [
    "# Read data"
   ]
  },
  {
   "cell_type": "markdown",
   "metadata": {},
   "source": [
    "## movie"
   ]
  },
  {
   "cell_type": "code",
   "execution_count": 4,
   "metadata": {
    "collapsed": true
   },
   "outputs": [],
   "source": [
    "movie_all = pd.read_csv('../../data/pre-processed/movie_all.csv').iloc[:, [1] + range(16, 35)]"
   ]
  },
  {
   "cell_type": "code",
   "execution_count": 5,
   "metadata": {},
   "outputs": [
    {
     "name": "stdout",
     "output_type": "stream",
     "text": [
      "<class 'pandas.core.frame.DataFrame'>\n",
      "RangeIndex: 3706 entries, 0 to 3705\n",
      "Data columns (total 20 columns):\n",
      "movie_id                3706 non-null int64\n",
      "category_Action         3706 non-null int64\n",
      "category_Adventure      3706 non-null int64\n",
      "category_Animation      3706 non-null int64\n",
      "category_Children's     3706 non-null int64\n",
      "category_Comedy         3706 non-null int64\n",
      "category_Crime          3706 non-null int64\n",
      "category_Documentary    3706 non-null int64\n",
      "category_Drama          3706 non-null int64\n",
      "category_Fantasy        3706 non-null int64\n",
      "category_Film-Noir      3706 non-null int64\n",
      "category_Horror         3706 non-null int64\n",
      "category_Musical        3706 non-null int64\n",
      "category_Mystery        3706 non-null int64\n",
      "category_Romance        3706 non-null int64\n",
      "category_Sci-Fi         3706 non-null int64\n",
      "category_Thriller       3706 non-null int64\n",
      "category_War            3706 non-null int64\n",
      "category_Western        3706 non-null int64\n",
      "name                    3706 non-null object\n",
      "dtypes: int64(19), object(1)\n",
      "memory usage: 579.1+ KB\n"
     ]
    }
   ],
   "source": [
    "movie_all.info()"
   ]
  },
  {
   "cell_type": "code",
   "execution_count": 6,
   "metadata": {},
   "outputs": [
    {
     "data": {
      "text/html": [
       "<div>\n",
       "<style>\n",
       "    .dataframe thead tr:only-child th {\n",
       "        text-align: right;\n",
       "    }\n",
       "\n",
       "    .dataframe thead th {\n",
       "        text-align: left;\n",
       "    }\n",
       "\n",
       "    .dataframe tbody tr th {\n",
       "        vertical-align: top;\n",
       "    }\n",
       "</style>\n",
       "<table border=\"1\" class=\"dataframe\">\n",
       "  <thead>\n",
       "    <tr style=\"text-align: right;\">\n",
       "      <th></th>\n",
       "      <th>movie_id</th>\n",
       "      <th>category_Action</th>\n",
       "      <th>category_Adventure</th>\n",
       "      <th>category_Animation</th>\n",
       "      <th>category_Children's</th>\n",
       "      <th>category_Comedy</th>\n",
       "      <th>category_Crime</th>\n",
       "      <th>category_Documentary</th>\n",
       "      <th>category_Drama</th>\n",
       "      <th>category_Fantasy</th>\n",
       "      <th>category_Film-Noir</th>\n",
       "      <th>category_Horror</th>\n",
       "      <th>category_Musical</th>\n",
       "      <th>category_Mystery</th>\n",
       "      <th>category_Romance</th>\n",
       "      <th>category_Sci-Fi</th>\n",
       "      <th>category_Thriller</th>\n",
       "      <th>category_War</th>\n",
       "      <th>category_Western</th>\n",
       "      <th>name</th>\n",
       "    </tr>\n",
       "  </thead>\n",
       "  <tbody>\n",
       "    <tr>\n",
       "      <th>189</th>\n",
       "      <td>1193</td>\n",
       "      <td>0</td>\n",
       "      <td>0</td>\n",
       "      <td>0</td>\n",
       "      <td>0</td>\n",
       "      <td>0</td>\n",
       "      <td>0</td>\n",
       "      <td>0</td>\n",
       "      <td>1</td>\n",
       "      <td>0</td>\n",
       "      <td>0</td>\n",
       "      <td>0</td>\n",
       "      <td>0</td>\n",
       "      <td>0</td>\n",
       "      <td>0</td>\n",
       "      <td>0</td>\n",
       "      <td>0</td>\n",
       "      <td>0</td>\n",
       "      <td>0</td>\n",
       "      <td>One Flew Over the Cuckoo's Nest (1975)</td>\n",
       "    </tr>\n",
       "  </tbody>\n",
       "</table>\n",
       "</div>"
      ],
      "text/plain": [
       "     movie_id  category_Action  category_Adventure  category_Animation  \\\n",
       "189      1193                0                   0                   0   \n",
       "\n",
       "     category_Children's  category_Comedy  category_Crime  \\\n",
       "189                    0                0               0   \n",
       "\n",
       "     category_Documentary  category_Drama  category_Fantasy  \\\n",
       "189                     0               1                 0   \n",
       "\n",
       "     category_Film-Noir  category_Horror  category_Musical  category_Mystery  \\\n",
       "189                   0                0                 0                 0   \n",
       "\n",
       "     category_Romance  category_Sci-Fi  category_Thriller  category_War  \\\n",
       "189                 0                0                  0             0   \n",
       "\n",
       "     category_Western                                    name  \n",
       "189                 0  One Flew Over the Cuckoo's Nest (1975)  "
      ]
     },
     "execution_count": 6,
     "metadata": {},
     "output_type": "execute_result"
    }
   ],
   "source": [
    "movie_all[movie_all['movie_id'] == 1193]"
   ]
  },
  {
   "cell_type": "markdown",
   "metadata": {},
   "source": [
    "## rating"
   ]
  },
  {
   "cell_type": "code",
   "execution_count": 7,
   "metadata": {
    "collapsed": true
   },
   "outputs": [],
   "source": [
    "import re\n",
    "def read_rating(filename):\n",
    "\tuser_id = []\n",
    "\tmovie_id = []\n",
    "\trating = []\n",
    "\ttimestamp = []\n",
    "\twith open(filename) as f:\n",
    "\t\tfor line in f:\n",
    "\t\t\tline_split = re.split('::', line)\n",
    "\t\t\tuser_id.append(line_split[0])\n",
    "\t\t\tmovie_id.append(line_split[1])\n",
    "\t\t\trating.append(line_split[2])\n",
    "\t\t\ttimestamp.append(line_split[3][:-1])\n",
    "\trating_df = pd.DataFrame({'user_id':user_id, 'movie_id':movie_id, 'rating': rating, 'timestamp':timestamp})\n",
    "\treturn rating_df"
   ]
  },
  {
   "cell_type": "code",
   "execution_count": 8,
   "metadata": {},
   "outputs": [
    {
     "data": {
      "text/html": [
       "<div>\n",
       "<style>\n",
       "    .dataframe thead tr:only-child th {\n",
       "        text-align: right;\n",
       "    }\n",
       "\n",
       "    .dataframe thead th {\n",
       "        text-align: left;\n",
       "    }\n",
       "\n",
       "    .dataframe tbody tr th {\n",
       "        vertical-align: top;\n",
       "    }\n",
       "</style>\n",
       "<table border=\"1\" class=\"dataframe\">\n",
       "  <thead>\n",
       "    <tr style=\"text-align: right;\">\n",
       "      <th></th>\n",
       "      <th>movie_id</th>\n",
       "      <th>rating</th>\n",
       "      <th>timestamp</th>\n",
       "      <th>user_id</th>\n",
       "    </tr>\n",
       "  </thead>\n",
       "  <tbody>\n",
       "    <tr>\n",
       "      <th>0</th>\n",
       "      <td>1193</td>\n",
       "      <td>5</td>\n",
       "      <td>978300760</td>\n",
       "      <td>1</td>\n",
       "    </tr>\n",
       "    <tr>\n",
       "      <th>1</th>\n",
       "      <td>661</td>\n",
       "      <td>3</td>\n",
       "      <td>978302109</td>\n",
       "      <td>1</td>\n",
       "    </tr>\n",
       "    <tr>\n",
       "      <th>2</th>\n",
       "      <td>914</td>\n",
       "      <td>3</td>\n",
       "      <td>978301968</td>\n",
       "      <td>1</td>\n",
       "    </tr>\n",
       "    <tr>\n",
       "      <th>3</th>\n",
       "      <td>3408</td>\n",
       "      <td>4</td>\n",
       "      <td>978300275</td>\n",
       "      <td>1</td>\n",
       "    </tr>\n",
       "    <tr>\n",
       "      <th>4</th>\n",
       "      <td>2355</td>\n",
       "      <td>5</td>\n",
       "      <td>978824291</td>\n",
       "      <td>1</td>\n",
       "    </tr>\n",
       "  </tbody>\n",
       "</table>\n",
       "</div>"
      ],
      "text/plain": [
       "  movie_id rating  timestamp user_id\n",
       "0     1193      5  978300760       1\n",
       "1      661      3  978302109       1\n",
       "2      914      3  978301968       1\n",
       "3     3408      4  978300275       1\n",
       "4     2355      5  978824291       1"
      ]
     },
     "execution_count": 8,
     "metadata": {},
     "output_type": "execute_result"
    }
   ],
   "source": [
    "rating = read_rating('../../data/ml-1m/ratings.dat')\n",
    "rating.head()"
   ]
  },
  {
   "cell_type": "code",
   "execution_count": 9,
   "metadata": {
    "collapsed": true
   },
   "outputs": [],
   "source": [
    "rating['movie_id'] = np.array(rating['movie_id']).astype(int)"
   ]
  },
  {
   "cell_type": "markdown",
   "metadata": {},
   "source": [
    "## merge"
   ]
  },
  {
   "cell_type": "code",
   "execution_count": 10,
   "metadata": {
    "scrolled": true
   },
   "outputs": [
    {
     "name": "stdout",
     "output_type": "stream",
     "text": [
      "   movie_id rating  timestamp user_id  category_Action  category_Adventure  \\\n",
      "0      1193      5  978300760       1                0                   0   \n",
      "1       661      3  978302109       1                0                   0   \n",
      "2       914      3  978301968       1                0                   0   \n",
      "3      3408      4  978300275       1                0                   0   \n",
      "4      2355      5  978824291       1                0                   0   \n",
      "\n",
      "   category_Animation  category_Children's  category_Comedy  category_Crime  \\\n",
      "0                   0                    0                0               0   \n",
      "1                   1                    1                0               0   \n",
      "2                   0                    0                0               0   \n",
      "3                   0                    0                0               0   \n",
      "4                   1                    1                1               0   \n",
      "\n",
      "                    ...                    category_Film-Noir  \\\n",
      "0                   ...                                     0   \n",
      "1                   ...                                     0   \n",
      "2                   ...                                     0   \n",
      "3                   ...                                     0   \n",
      "4                   ...                                     0   \n",
      "\n",
      "   category_Horror  category_Musical  category_Mystery  category_Romance  \\\n",
      "0                0                 0                 0                 0   \n",
      "1                0                 1                 0                 0   \n",
      "2                0                 1                 0                 1   \n",
      "3                0                 0                 0                 0   \n",
      "4                0                 0                 0                 0   \n",
      "\n",
      "   category_Sci-Fi  category_Thriller  category_War  category_Western  \\\n",
      "0                0                  0             0                 0   \n",
      "1                0                  0             0                 0   \n",
      "2                0                  0             0                 0   \n",
      "3                0                  0             0                 0   \n",
      "4                0                  0             0                 0   \n",
      "\n",
      "                                     name  \n",
      "0  One Flew Over the Cuckoo's Nest (1975)  \n",
      "1        James and the Giant Peach (1996)  \n",
      "2                     My Fair Lady (1964)  \n",
      "3                  Erin Brockovich (2000)  \n",
      "4                    Bug's Life, A (1998)  \n",
      "\n",
      "[5 rows x 23 columns]\n",
      "<class 'pandas.core.frame.DataFrame'>\n",
      "Int64Index: 1000209 entries, 0 to 1000208\n",
      "Data columns (total 23 columns):\n",
      "movie_id                1000209 non-null int64\n",
      "rating                  1000209 non-null object\n",
      "timestamp               1000209 non-null object\n",
      "user_id                 1000209 non-null object\n",
      "category_Action         1000209 non-null int64\n",
      "category_Adventure      1000209 non-null int64\n",
      "category_Animation      1000209 non-null int64\n",
      "category_Children's     1000209 non-null int64\n",
      "category_Comedy         1000209 non-null int64\n",
      "category_Crime          1000209 non-null int64\n",
      "category_Documentary    1000209 non-null int64\n",
      "category_Drama          1000209 non-null int64\n",
      "category_Fantasy        1000209 non-null int64\n",
      "category_Film-Noir      1000209 non-null int64\n",
      "category_Horror         1000209 non-null int64\n",
      "category_Musical        1000209 non-null int64\n",
      "category_Mystery        1000209 non-null int64\n",
      "category_Romance        1000209 non-null int64\n",
      "category_Sci-Fi         1000209 non-null int64\n",
      "category_Thriller       1000209 non-null int64\n",
      "category_War            1000209 non-null int64\n",
      "category_Western        1000209 non-null int64\n",
      "name                    1000209 non-null object\n",
      "dtypes: int64(19), object(4)\n",
      "memory usage: 183.1+ MB\n"
     ]
    }
   ],
   "source": [
    "rating = pd.merge(rating, movie_all, on =['movie_id'], how = 'left')\n",
    "print rating.head()\n",
    "rating.info()"
   ]
  },
  {
   "cell_type": "code",
   "execution_count": 11,
   "metadata": {},
   "outputs": [
    {
     "data": {
      "text/html": [
       "<div>\n",
       "<style>\n",
       "    .dataframe thead tr:only-child th {\n",
       "        text-align: right;\n",
       "    }\n",
       "\n",
       "    .dataframe thead th {\n",
       "        text-align: left;\n",
       "    }\n",
       "\n",
       "    .dataframe tbody tr th {\n",
       "        vertical-align: top;\n",
       "    }\n",
       "</style>\n",
       "<table border=\"1\" class=\"dataframe\">\n",
       "  <thead>\n",
       "    <tr style=\"text-align: right;\">\n",
       "      <th></th>\n",
       "      <th>movie_id</th>\n",
       "      <th>rating</th>\n",
       "      <th>timestamp</th>\n",
       "      <th>user_id</th>\n",
       "      <th>category_Action</th>\n",
       "      <th>category_Adventure</th>\n",
       "      <th>category_Animation</th>\n",
       "      <th>category_Children's</th>\n",
       "      <th>category_Comedy</th>\n",
       "      <th>category_Crime</th>\n",
       "      <th>...</th>\n",
       "      <th>category_Film-Noir</th>\n",
       "      <th>category_Horror</th>\n",
       "      <th>category_Musical</th>\n",
       "      <th>category_Mystery</th>\n",
       "      <th>category_Romance</th>\n",
       "      <th>category_Sci-Fi</th>\n",
       "      <th>category_Thriller</th>\n",
       "      <th>category_War</th>\n",
       "      <th>category_Western</th>\n",
       "      <th>name</th>\n",
       "    </tr>\n",
       "  </thead>\n",
       "  <tbody>\n",
       "    <tr>\n",
       "      <th>0</th>\n",
       "      <td>1193</td>\n",
       "      <td>5</td>\n",
       "      <td>978300760</td>\n",
       "      <td>1</td>\n",
       "      <td>0</td>\n",
       "      <td>0</td>\n",
       "      <td>0</td>\n",
       "      <td>0</td>\n",
       "      <td>0</td>\n",
       "      <td>0</td>\n",
       "      <td>...</td>\n",
       "      <td>0</td>\n",
       "      <td>0</td>\n",
       "      <td>0</td>\n",
       "      <td>0</td>\n",
       "      <td>0</td>\n",
       "      <td>0</td>\n",
       "      <td>0</td>\n",
       "      <td>0</td>\n",
       "      <td>0</td>\n",
       "      <td>One Flew Over the Cuckoo's Nest (1975)</td>\n",
       "    </tr>\n",
       "    <tr>\n",
       "      <th>1</th>\n",
       "      <td>661</td>\n",
       "      <td>3</td>\n",
       "      <td>978302109</td>\n",
       "      <td>1</td>\n",
       "      <td>0</td>\n",
       "      <td>0</td>\n",
       "      <td>1</td>\n",
       "      <td>1</td>\n",
       "      <td>0</td>\n",
       "      <td>0</td>\n",
       "      <td>...</td>\n",
       "      <td>0</td>\n",
       "      <td>0</td>\n",
       "      <td>1</td>\n",
       "      <td>0</td>\n",
       "      <td>0</td>\n",
       "      <td>0</td>\n",
       "      <td>0</td>\n",
       "      <td>0</td>\n",
       "      <td>0</td>\n",
       "      <td>James and the Giant Peach (1996)</td>\n",
       "    </tr>\n",
       "    <tr>\n",
       "      <th>2</th>\n",
       "      <td>914</td>\n",
       "      <td>3</td>\n",
       "      <td>978301968</td>\n",
       "      <td>1</td>\n",
       "      <td>0</td>\n",
       "      <td>0</td>\n",
       "      <td>0</td>\n",
       "      <td>0</td>\n",
       "      <td>0</td>\n",
       "      <td>0</td>\n",
       "      <td>...</td>\n",
       "      <td>0</td>\n",
       "      <td>0</td>\n",
       "      <td>1</td>\n",
       "      <td>0</td>\n",
       "      <td>1</td>\n",
       "      <td>0</td>\n",
       "      <td>0</td>\n",
       "      <td>0</td>\n",
       "      <td>0</td>\n",
       "      <td>My Fair Lady (1964)</td>\n",
       "    </tr>\n",
       "    <tr>\n",
       "      <th>3</th>\n",
       "      <td>3408</td>\n",
       "      <td>4</td>\n",
       "      <td>978300275</td>\n",
       "      <td>1</td>\n",
       "      <td>0</td>\n",
       "      <td>0</td>\n",
       "      <td>0</td>\n",
       "      <td>0</td>\n",
       "      <td>0</td>\n",
       "      <td>0</td>\n",
       "      <td>...</td>\n",
       "      <td>0</td>\n",
       "      <td>0</td>\n",
       "      <td>0</td>\n",
       "      <td>0</td>\n",
       "      <td>0</td>\n",
       "      <td>0</td>\n",
       "      <td>0</td>\n",
       "      <td>0</td>\n",
       "      <td>0</td>\n",
       "      <td>Erin Brockovich (2000)</td>\n",
       "    </tr>\n",
       "    <tr>\n",
       "      <th>4</th>\n",
       "      <td>2355</td>\n",
       "      <td>5</td>\n",
       "      <td>978824291</td>\n",
       "      <td>1</td>\n",
       "      <td>0</td>\n",
       "      <td>0</td>\n",
       "      <td>1</td>\n",
       "      <td>1</td>\n",
       "      <td>1</td>\n",
       "      <td>0</td>\n",
       "      <td>...</td>\n",
       "      <td>0</td>\n",
       "      <td>0</td>\n",
       "      <td>0</td>\n",
       "      <td>0</td>\n",
       "      <td>0</td>\n",
       "      <td>0</td>\n",
       "      <td>0</td>\n",
       "      <td>0</td>\n",
       "      <td>0</td>\n",
       "      <td>Bug's Life, A (1998)</td>\n",
       "    </tr>\n",
       "  </tbody>\n",
       "</table>\n",
       "<p>5 rows × 23 columns</p>\n",
       "</div>"
      ],
      "text/plain": [
       "   movie_id rating  timestamp user_id  category_Action  category_Adventure  \\\n",
       "0      1193      5  978300760       1                0                   0   \n",
       "1       661      3  978302109       1                0                   0   \n",
       "2       914      3  978301968       1                0                   0   \n",
       "3      3408      4  978300275       1                0                   0   \n",
       "4      2355      5  978824291       1                0                   0   \n",
       "\n",
       "   category_Animation  category_Children's  category_Comedy  category_Crime  \\\n",
       "0                   0                    0                0               0   \n",
       "1                   1                    1                0               0   \n",
       "2                   0                    0                0               0   \n",
       "3                   0                    0                0               0   \n",
       "4                   1                    1                1               0   \n",
       "\n",
       "                    ...                    category_Film-Noir  \\\n",
       "0                   ...                                     0   \n",
       "1                   ...                                     0   \n",
       "2                   ...                                     0   \n",
       "3                   ...                                     0   \n",
       "4                   ...                                     0   \n",
       "\n",
       "   category_Horror  category_Musical  category_Mystery  category_Romance  \\\n",
       "0                0                 0                 0                 0   \n",
       "1                0                 1                 0                 0   \n",
       "2                0                 1                 0                 1   \n",
       "3                0                 0                 0                 0   \n",
       "4                0                 0                 0                 0   \n",
       "\n",
       "   category_Sci-Fi  category_Thriller  category_War  category_Western  \\\n",
       "0                0                  0             0                 0   \n",
       "1                0                  0             0                 0   \n",
       "2                0                  0             0                 0   \n",
       "3                0                  0             0                 0   \n",
       "4                0                  0             0                 0   \n",
       "\n",
       "                                     name  \n",
       "0  One Flew Over the Cuckoo's Nest (1975)  \n",
       "1        James and the Giant Peach (1996)  \n",
       "2                     My Fair Lady (1964)  \n",
       "3                  Erin Brockovich (2000)  \n",
       "4                    Bug's Life, A (1998)  \n",
       "\n",
       "[5 rows x 23 columns]"
      ]
     },
     "execution_count": 11,
     "metadata": {},
     "output_type": "execute_result"
    }
   ],
   "source": [
    "rating.head()"
   ]
  },
  {
   "cell_type": "markdown",
   "metadata": {},
   "source": [
    "## scale"
   ]
  },
  {
   "cell_type": "code",
   "execution_count": 12,
   "metadata": {
    "collapsed": true
   },
   "outputs": [],
   "source": [
    "rating['rating'] = np.array(rating['rating']).astype(float) *1.0 / 5"
   ]
  },
  {
   "cell_type": "code",
   "execution_count": 13,
   "metadata": {
    "collapsed": true
   },
   "outputs": [],
   "source": [
    "del rating['name']\n",
    "del rating['timestamp']"
   ]
  },
  {
   "cell_type": "code",
   "execution_count": 14,
   "metadata": {
    "collapsed": true
   },
   "outputs": [],
   "source": [
    "from sklearn.utils import shuffle\n",
    "rating = shuffle(rating)"
   ]
  },
  {
   "cell_type": "code",
   "execution_count": 15,
   "metadata": {},
   "outputs": [
    {
     "data": {
      "text/html": [
       "<div>\n",
       "<style>\n",
       "    .dataframe thead tr:only-child th {\n",
       "        text-align: right;\n",
       "    }\n",
       "\n",
       "    .dataframe thead th {\n",
       "        text-align: left;\n",
       "    }\n",
       "\n",
       "    .dataframe tbody tr th {\n",
       "        vertical-align: top;\n",
       "    }\n",
       "</style>\n",
       "<table border=\"1\" class=\"dataframe\">\n",
       "  <thead>\n",
       "    <tr style=\"text-align: right;\">\n",
       "      <th></th>\n",
       "      <th>movie_id</th>\n",
       "      <th>rating</th>\n",
       "      <th>user_id</th>\n",
       "      <th>category_Action</th>\n",
       "      <th>category_Adventure</th>\n",
       "      <th>category_Animation</th>\n",
       "      <th>category_Children's</th>\n",
       "      <th>category_Comedy</th>\n",
       "      <th>category_Crime</th>\n",
       "      <th>category_Documentary</th>\n",
       "      <th>...</th>\n",
       "      <th>category_Fantasy</th>\n",
       "      <th>category_Film-Noir</th>\n",
       "      <th>category_Horror</th>\n",
       "      <th>category_Musical</th>\n",
       "      <th>category_Mystery</th>\n",
       "      <th>category_Romance</th>\n",
       "      <th>category_Sci-Fi</th>\n",
       "      <th>category_Thriller</th>\n",
       "      <th>category_War</th>\n",
       "      <th>category_Western</th>\n",
       "    </tr>\n",
       "  </thead>\n",
       "  <tbody>\n",
       "    <tr>\n",
       "      <th>989984</th>\n",
       "      <td>940</td>\n",
       "      <td>0.8</td>\n",
       "      <td>5978</td>\n",
       "      <td>1</td>\n",
       "      <td>1</td>\n",
       "      <td>0</td>\n",
       "      <td>0</td>\n",
       "      <td>0</td>\n",
       "      <td>0</td>\n",
       "      <td>0</td>\n",
       "      <td>...</td>\n",
       "      <td>0</td>\n",
       "      <td>0</td>\n",
       "      <td>0</td>\n",
       "      <td>0</td>\n",
       "      <td>0</td>\n",
       "      <td>0</td>\n",
       "      <td>0</td>\n",
       "      <td>0</td>\n",
       "      <td>0</td>\n",
       "      <td>0</td>\n",
       "    </tr>\n",
       "    <tr>\n",
       "      <th>929404</th>\n",
       "      <td>262</td>\n",
       "      <td>0.8</td>\n",
       "      <td>5615</td>\n",
       "      <td>0</td>\n",
       "      <td>0</td>\n",
       "      <td>0</td>\n",
       "      <td>1</td>\n",
       "      <td>0</td>\n",
       "      <td>0</td>\n",
       "      <td>0</td>\n",
       "      <td>...</td>\n",
       "      <td>0</td>\n",
       "      <td>0</td>\n",
       "      <td>0</td>\n",
       "      <td>0</td>\n",
       "      <td>0</td>\n",
       "      <td>0</td>\n",
       "      <td>0</td>\n",
       "      <td>0</td>\n",
       "      <td>0</td>\n",
       "      <td>0</td>\n",
       "    </tr>\n",
       "    <tr>\n",
       "      <th>991977</th>\n",
       "      <td>2951</td>\n",
       "      <td>0.6</td>\n",
       "      <td>5994</td>\n",
       "      <td>1</td>\n",
       "      <td>0</td>\n",
       "      <td>0</td>\n",
       "      <td>0</td>\n",
       "      <td>0</td>\n",
       "      <td>0</td>\n",
       "      <td>0</td>\n",
       "      <td>...</td>\n",
       "      <td>0</td>\n",
       "      <td>0</td>\n",
       "      <td>0</td>\n",
       "      <td>0</td>\n",
       "      <td>0</td>\n",
       "      <td>0</td>\n",
       "      <td>0</td>\n",
       "      <td>0</td>\n",
       "      <td>0</td>\n",
       "      <td>1</td>\n",
       "    </tr>\n",
       "    <tr>\n",
       "      <th>669796</th>\n",
       "      <td>2140</td>\n",
       "      <td>0.6</td>\n",
       "      <td>4026</td>\n",
       "      <td>0</td>\n",
       "      <td>0</td>\n",
       "      <td>0</td>\n",
       "      <td>1</td>\n",
       "      <td>0</td>\n",
       "      <td>0</td>\n",
       "      <td>0</td>\n",
       "      <td>...</td>\n",
       "      <td>1</td>\n",
       "      <td>0</td>\n",
       "      <td>0</td>\n",
       "      <td>0</td>\n",
       "      <td>0</td>\n",
       "      <td>0</td>\n",
       "      <td>1</td>\n",
       "      <td>0</td>\n",
       "      <td>0</td>\n",
       "      <td>0</td>\n",
       "    </tr>\n",
       "    <tr>\n",
       "      <th>862738</th>\n",
       "      <td>39</td>\n",
       "      <td>0.6</td>\n",
       "      <td>5193</td>\n",
       "      <td>0</td>\n",
       "      <td>0</td>\n",
       "      <td>0</td>\n",
       "      <td>0</td>\n",
       "      <td>1</td>\n",
       "      <td>0</td>\n",
       "      <td>0</td>\n",
       "      <td>...</td>\n",
       "      <td>0</td>\n",
       "      <td>0</td>\n",
       "      <td>0</td>\n",
       "      <td>0</td>\n",
       "      <td>0</td>\n",
       "      <td>1</td>\n",
       "      <td>0</td>\n",
       "      <td>0</td>\n",
       "      <td>0</td>\n",
       "      <td>0</td>\n",
       "    </tr>\n",
       "  </tbody>\n",
       "</table>\n",
       "<p>5 rows × 21 columns</p>\n",
       "</div>"
      ],
      "text/plain": [
       "        movie_id  rating user_id  category_Action  category_Adventure  \\\n",
       "989984       940     0.8    5978                1                   1   \n",
       "929404       262     0.8    5615                0                   0   \n",
       "991977      2951     0.6    5994                1                   0   \n",
       "669796      2140     0.6    4026                0                   0   \n",
       "862738        39     0.6    5193                0                   0   \n",
       "\n",
       "        category_Animation  category_Children's  category_Comedy  \\\n",
       "989984                   0                    0                0   \n",
       "929404                   0                    1                0   \n",
       "991977                   0                    0                0   \n",
       "669796                   0                    1                0   \n",
       "862738                   0                    0                1   \n",
       "\n",
       "        category_Crime  category_Documentary        ...         \\\n",
       "989984               0                     0        ...          \n",
       "929404               0                     0        ...          \n",
       "991977               0                     0        ...          \n",
       "669796               0                     0        ...          \n",
       "862738               0                     0        ...          \n",
       "\n",
       "        category_Fantasy  category_Film-Noir  category_Horror  \\\n",
       "989984                 0                   0                0   \n",
       "929404                 0                   0                0   \n",
       "991977                 0                   0                0   \n",
       "669796                 1                   0                0   \n",
       "862738                 0                   0                0   \n",
       "\n",
       "        category_Musical  category_Mystery  category_Romance  category_Sci-Fi  \\\n",
       "989984                 0                 0                 0                0   \n",
       "929404                 0                 0                 0                0   \n",
       "991977                 0                 0                 0                0   \n",
       "669796                 0                 0                 0                1   \n",
       "862738                 0                 0                 1                0   \n",
       "\n",
       "        category_Thriller  category_War  category_Western  \n",
       "989984                  0             0                 0  \n",
       "929404                  0             0                 0  \n",
       "991977                  0             0                 1  \n",
       "669796                  0             0                 0  \n",
       "862738                  0             0                 0  \n",
       "\n",
       "[5 rows x 21 columns]"
      ]
     },
     "execution_count": 15,
     "metadata": {},
     "output_type": "execute_result"
    }
   ],
   "source": [
    "rating.head()"
   ]
  },
  {
   "cell_type": "code",
   "execution_count": 52,
   "metadata": {
    "collapsed": true
   },
   "outputs": [],
   "source": [
    "x = rating.iloc[:, [0] + range(2,len(rating.columns))]\n",
    "y = rating.iloc[:, [0,1,2]]"
   ]
  },
  {
   "cell_type": "code",
   "execution_count": 17,
   "metadata": {},
   "outputs": [
    {
     "data": {
      "text/plain": [
       "Index([u'movie_id', u'rating', u'user_id', u'category_Action',\n",
       "       u'category_Adventure', u'category_Animation', u'category_Children's',\n",
       "       u'category_Comedy', u'category_Crime', u'category_Documentary',\n",
       "       u'category_Drama', u'category_Fantasy', u'category_Film-Noir',\n",
       "       u'category_Horror', u'category_Musical', u'category_Mystery',\n",
       "       u'category_Romance', u'category_Sci-Fi', u'category_Thriller',\n",
       "       u'category_War', u'category_Western'],\n",
       "      dtype='object')"
      ]
     },
     "execution_count": 17,
     "metadata": {},
     "output_type": "execute_result"
    }
   ],
   "source": [
    "rating.columns"
   ]
  },
  {
   "cell_type": "markdown",
   "metadata": {},
   "source": [
    "## seperate train|test"
   ]
  },
  {
   "cell_type": "code",
   "execution_count": 18,
   "metadata": {},
   "outputs": [
    {
     "name": "stdout",
     "output_type": "stream",
     "text": [
      "800167\n"
     ]
    }
   ],
   "source": [
    "n_train = int(len(rating) * 0.8)\n",
    "print n_train"
   ]
  },
  {
   "cell_type": "code",
   "execution_count": 53,
   "metadata": {
    "collapsed": true
   },
   "outputs": [],
   "source": [
    "x_train = x.iloc[:n_train, :]\n",
    "x_test = x.iloc[n_train:, :]\n",
    "y_train = y.iloc[:n_train]\n",
    "y_test = y.iloc[n_train:]"
   ]
  },
  {
   "cell_type": "code",
   "execution_count": 20,
   "metadata": {
    "collapsed": true
   },
   "outputs": [],
   "source": [
    "# y_train = y_train.reshape((-1, 1))"
   ]
  },
  {
   "cell_type": "code",
   "execution_count": 21,
   "metadata": {
    "collapsed": true
   },
   "outputs": [],
   "source": [
    "# y_test = y_test.reshape((-1, 1))"
   ]
  },
  {
   "cell_type": "code",
   "execution_count": 22,
   "metadata": {
    "collapsed": true
   },
   "outputs": [],
   "source": [
    "# x_train = np.array(x_train, dtype = np.float32)\n",
    "# y_train = np.array(y_train, dtype = np.float32)\n",
    "# x_test = np.array(x_test, dtype = np.float32)\n",
    "# y_test = np.array(y_test, dtype = np.float32)"
   ]
  },
  {
   "cell_type": "code",
   "execution_count": 54,
   "metadata": {
    "collapsed": true
   },
   "outputs": [],
   "source": [
    "x_train.to_csv('../../data/input_formated/nouser/x_train.csv')\n",
    "y_train.to_csv('../../data/input_formated/nouser/y_train.csv')"
   ]
  },
  {
   "cell_type": "code",
   "execution_count": 55,
   "metadata": {
    "collapsed": true
   },
   "outputs": [],
   "source": [
    "x_test.to_csv('../../data/input_formated/nouser/x_test.csv')\n",
    "y_test.to_csv('../../data/input_formated/nouser/y_test.csv')"
   ]
  }
 ],
 "metadata": {
  "kernelspec": {
   "display_name": "Python 2",
   "language": "python",
   "name": "python2"
  },
  "language_info": {
   "codemirror_mode": {
    "name": "ipython",
    "version": 2
   },
   "file_extension": ".py",
   "mimetype": "text/x-python",
   "name": "python",
   "nbconvert_exporter": "python",
   "pygments_lexer": "ipython2",
   "version": "2.7.13"
  }
 },
 "nbformat": 4,
 "nbformat_minor": 2
}
